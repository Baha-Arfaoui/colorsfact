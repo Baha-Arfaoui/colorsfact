{
 "cells": [
  {
   "cell_type": "code",
   "execution_count": 2,
   "metadata": {},
   "outputs": [],
   "source": [
    "import pandas as pd \n",
    "from utils import extract_colors_image,extract_colors_url"
   ]
  },
  {
   "cell_type": "code",
   "execution_count": 3,
   "metadata": {},
   "outputs": [
    {
     "name": "stderr",
     "output_type": "stream",
     "text": [
      "c:\\Users\\BahaARFAOUI\\OneDrive - CBTW\\Bureau\\colorfact\\colorfact\\utils.py:80: RuntimeWarning: overflow encountered in scalar subtract\n",
      "  a_std = float(a_opencv - 128)\n"
     ]
    }
   ],
   "source": [
    "url=extract_colors_url(\"https://nestorevintage.fr/cdn/shop/files/307FDA5D-D3FB-48D6-8DA2-2478DF104BD3.jpg?v=1738348432&width=2048\")"
   ]
  },
  {
   "cell_type": "code",
   "execution_count": 4,
   "metadata": {},
   "outputs": [
    {
     "data": {
      "text/plain": [
       "[[58.03921568627452, 251.0, 26.0], [46.27450980392157, 253.0, 23.0]]"
      ]
     },
     "execution_count": 4,
     "metadata": {},
     "output_type": "execute_result"
    }
   ],
   "source": [
    "url.colors"
   ]
  },
  {
   "cell_type": "code",
   "execution_count": 4,
   "metadata": {},
   "outputs": [],
   "source": [
    "image=extract_colors_image(image_path=\"data/doudoune.png\")"
   ]
  },
  {
   "cell_type": "code",
   "execution_count": 5,
   "metadata": {},
   "outputs": [
    {
     "data": {
      "text/plain": [
       "[[40.3921568627451, -7.0, 6.0], [23.52941176470588, -7.0, 6.0]]"
      ]
     },
     "execution_count": 5,
     "metadata": {},
     "output_type": "execute_result"
    }
   ],
   "source": [
    "image.colors"
   ]
  },
  {
   "cell_type": "code",
   "execution_count": 6,
   "metadata": {},
   "outputs": [],
   "source": [
    "im=image.remove_background_grabcut()"
   ]
  },
  {
   "cell_type": "code",
   "execution_count": 20,
   "metadata": {},
   "outputs": [],
   "source": [
    "import pandas as pd\n",
    "data=pd.read_excel(\"data/final_data.xlsx\")"
   ]
  },
  {
   "cell_type": "code",
   "execution_count": 21,
   "metadata": {},
   "outputs": [],
   "source": [
    "data=data.drop(\"Unnamed: 0\",axis=1)"
   ]
  },
  {
   "cell_type": "code",
   "execution_count": 5,
   "metadata": {},
   "outputs": [],
   "source": [
    "import pandas as pd\n",
    "import concurrent.futures\n",
    "from tqdm import tqdm\n",
    "\n",
    "def process_image(image_url):\n",
    "    \"\"\"Extracts dominant colors from an image URL.\"\"\"\n",
    "    try:\n",
    "        color_extractor = extract_colors_url(image_url)\n",
    "        return color_extractor.colors\n",
    "    except Exception as e:\n",
    "        print(f\"Error processing {image_url}: {str(e)}\")\n",
    "        return None\n",
    "\n",
    "def process_dataset(df: pd.DataFrame, num_workers=8) -> pd.DataFrame:\n",
    "    \"\"\"\n",
    "    Processes a dataset containing image links and adds a 'cielab_colors' column\n",
    "    with the dominant colors extracted from each image using multithreading.\n",
    "\n",
    "    Args:\n",
    "        df (pd.DataFrame): Input dataframe containing a 'Photo produit' column.\n",
    "        num_workers (int): Number of threads for parallel processing.\n",
    "\n",
    "    Returns:\n",
    "        pd.DataFrame: Modified dataframe with 'cielab_colors' column added.\n",
    "    \"\"\"\n",
    "    if not isinstance(df, pd.DataFrame):\n",
    "        raise ValueError(\"Input must be a pandas DataFrame\")\n",
    "\n",
    "    if 'Photo produit 1' not in df.columns:\n",
    "        raise ValueError(\"DataFrame must contain a 'Photo produit' column\")\n",
    "\n",
    "    image_urls = df['Photo produit 1'].tolist()\n",
    "\n",
    "    # Process images in parallel\n",
    "    with concurrent.futures.ThreadPoolExecutor(max_workers=num_workers) as executor:\n",
    "        results = list(tqdm(executor.map(process_image, image_urls), total=len(image_urls)))\n",
    "\n",
    "    df['cielab_colors'] = results\n",
    "    return df\n",
    "\n",
    "# Example usage:\n",
    "#df_processed = process_dataset(df_corrected, num_workers=8)\n"
   ]
  },
  {
   "cell_type": "code",
   "execution_count": 14,
   "metadata": {},
   "outputs": [],
   "source": [
    "df_processed_2=data.iloc[1150:1350,:]"
   ]
  },
  {
   "cell_type": "code",
   "execution_count": null,
   "metadata": {},
   "outputs": [
    {
     "name": "stderr",
     "output_type": "stream",
     "text": [
      "  0%|          | 0/200 [00:00<?, ?it/s]"
     ]
    },
    {
     "name": "stderr",
     "output_type": "stream",
     "text": [
      " 36%|███▌      | 72/200 [59:01<4:59:47, 140.53s/it]"
     ]
    },
    {
     "name": "stdout",
     "output_type": "stream",
     "text": [
      "Error processing https://images.stockx.com/images/New-Balance-M2002-Protection-Pack-Rain-Cloud-Product.jpg?fit=fill&bg=FFFFFF&w=140&h=75&q=60&dpr=1&trim=color&updated_at=1738193358: Found array with 0 sample(s) (shape=(0, 3)) while a minimum of 1 is required by KMeans.\n",
      "Error processing https://images.stockx.com/images/New-Balance-1906R-White-Gold-Product.jpg?fit=fill&bg=FFFFFF&w=140&h=75&q=60&dpr=1&trim=color&updated_at=1738193358: Found array with 0 sample(s) (shape=(0, 3)) while a minimum of 1 is required by KMeans.\n"
     ]
    },
    {
     "name": "stderr",
     "output_type": "stream",
     "text": [
      " 40%|████      | 80/200 [1:27:02<5:00:44, 150.37s/it] "
     ]
    }
   ],
   "source": [
    "df_processed_2_pro = process_dataset(df_processed_2, num_workers=8)\n"
   ]
  },
  {
   "cell_type": "code",
   "execution_count": 13,
   "metadata": {},
   "outputs": [],
   "source": [
    "df_processed_2_pro.to_excel(\"data/data_1050_1150.xlsx\")"
   ]
  },
  {
   "cell_type": "code",
   "execution_count": 3,
   "metadata": {},
   "outputs": [],
   "source": [
    "import faiss \n",
    "import numpy as np \n",
    "import pandas as pd "
   ]
  },
  {
   "cell_type": "code",
   "execution_count": 22,
   "metadata": {},
   "outputs": [],
   "source": [
    "data_prev=pd.read_excel(\"data/data_preview_exploded.xlsx\")"
   ]
  },
  {
   "cell_type": "code",
   "execution_count": 23,
   "metadata": {},
   "outputs": [],
   "source": [
    "data_prev=data_prev.drop(\"Unnamed: 0\",axis=1)"
   ]
  },
  {
   "cell_type": "code",
   "execution_count": 6,
   "metadata": {},
   "outputs": [],
   "source": [
    "def lab_to_lch(lab):\n",
    "        L, a, b = lab\n",
    "        C = np.sqrt(a**2 + b**2)\n",
    "        H = np.degrees(np.arctan2(b, a)) % 360  # Normalisation correcte\n",
    "        return [L, C, H]\n",
    "\n",
    "def lch_to_lab(lch):\n",
    "    L, C, H = lch\n",
    "    a = C * np.cos(np.radians(H))\n",
    "    b = C * np.sin(np.radians(H))\n",
    "    return [L, a, b]\n",
    "\n",
    "def generate_harmonic_colors(input_colors_lab):\n",
    "\n",
    "    input_colors_lch = [lab_to_lch(color) for color in input_colors_lab]\n",
    "    num_colors = len(input_colors_lab)\n",
    "\n",
    "    if num_colors == 1:\n",
    "        L, C, H = input_colors_lch[0]\n",
    "        triad1 = lch_to_lab([L, C, (H + 120) % 360])\n",
    "        triad2 = lch_to_lab([L, C, (H + 240) % 360])\n",
    "        return input_colors_lab + [triad1, triad2]\n",
    "\n",
    "    elif num_colors == 2:\n",
    "        chosen_idx = np.random.choice([0, 1])\n",
    "        L, C, H = input_colors_lch[chosen_idx]\n",
    "        complementary = lch_to_lab([L, C, (H + 180) % 360])\n",
    "        return input_colors_lab + [complementary]\n",
    "\n",
    "    elif num_colors == 3:\n",
    "        chosen_indices = np.random.choice([0, 1, 2], size=2, replace=False)\n",
    "        selected_colors = [input_colors_lab[i] for i in chosen_indices]\n",
    "        return selected_colors\n",
    "\n",
    "    return input_colors_lab"
   ]
  },
  {
   "cell_type": "code",
   "execution_count": 7,
   "metadata": {},
   "outputs": [],
   "source": [
    "import yaml\n",
    "from pyprojroot import here\n",
    "with open(here(\"colorfact/configs/outfit.yaml\")) as cfg:\n",
    "    outfit = yaml.load(cfg, Loader=yaml.FullLoader)"
   ]
  },
  {
   "cell_type": "code",
   "execution_count": 8,
   "metadata": {},
   "outputs": [
    {
     "data": {
      "text/plain": [
       "Index(['Photo produit 1', 'Photo produit 2 ', 'Nom produit ', 'Lien achat',\n",
       "       'Catégorie produit', 'Genre', 'cielab_colors'],\n",
       "      dtype='object')"
      ]
     },
     "execution_count": 8,
     "metadata": {},
     "output_type": "execute_result"
    }
   ],
   "source": [
    "data.columns"
   ]
  },
  {
   "cell_type": "code",
   "execution_count": 115,
   "metadata": {},
   "outputs": [],
   "source": [
    "import ast\n",
    "import numpy as np\n",
    "import faiss\n",
    "\n",
    "def recommend_outfit(input_category, data, input_colors, outfit_type, ontology, top_k=3):\n",
    "    try:\n",
    "        required_items = ontology[\"Outfit\"][input_category][outfit_type]\n",
    "    except KeyError as e:\n",
    "        raise ValueError(f\"Invalid category or outfit type: {str(e)}\")\n",
    "\n",
    "    recommendations = {}\n",
    "    similarity_threshold = 0.2  # 90% similarity\n",
    "\n",
    "    # Generate harmonized colors for input\n",
    "    input_colors = generate_harmonic_colors(input_colors)\n",
    "    query_colors = np.array(input_colors, dtype=\"float32\")\n",
    "    faiss.normalize_L2(query_colors)\n",
    "\n",
    "    for item_category in required_items:\n",
    "        # Filter data for the given category\n",
    "        filtered_data = data[data[\"Catégorie produit\"] == item_category].copy()\n",
    "\n",
    "        # Ensure cielab_colors is correctly formatted\n",
    "        filtered_data[\"cielab_colors\"] = filtered_data[\"cielab_colors\"].apply(ast.literal_eval)\n",
    "        filtered_data.dropna(inplace=True)\n",
    "        filtered_data[\"cielab_colors\"] = filtered_data[\"cielab_colors\"].apply(tuple)\n",
    "        filtered_data.drop_duplicates(inplace=True)\n",
    "\n",
    "        # Convert to NumPy array\n",
    "        vectors = np.array([list(t) for t in filtered_data[\"cielab_colors\"]], dtype=\"float32\")\n",
    "        if vectors.shape[0] == 0:\n",
    "            continue  # Skip if no data available\n",
    "\n",
    "        # Normalize and create FAISS index\n",
    "        faiss.normalize_L2(vectors)\n",
    "        index = faiss.IndexFlatL2(vectors.shape[1])\n",
    "        index.add(vectors)\n",
    "\n",
    "        # Search for closest matches\n",
    "        distances, indices = index.search(query_colors, top_k)\n",
    "\n",
    "        seen_ids = set()\n",
    "        matches = []\n",
    "\n",
    "        for i in range(indices.shape[0]):\n",
    "            for j in range(indices.shape[1]):\n",
    "                idx = indices[i][j]\n",
    "                if idx >= len(filtered_data) or distances[i][j] > similarity_threshold:\n",
    "                    continue  # Skip invalid or low-similarity matches\n",
    "\n",
    "                product_id = filtered_data.iloc[idx][\"Photo produit 1\"]\n",
    "                if product_id not in seen_ids:\n",
    "                    seen_ids.add(product_id)\n",
    "                    matches.append({\n",
    "                        \"product_id\": product_id,\n",
    "                        \"distance\": distances[i][j],\n",
    "                        \"metadata\": filtered_data.iloc[idx].to_dict(),\n",
    "                    })\n",
    "                \n",
    "                if len(matches) >= top_k:\n",
    "                    break  # Stop early if enough matches are found\n",
    "\n",
    "        recommendations[item_category] = matches\n",
    "\n",
    "    return recommendations\n"
   ]
  },
  {
   "cell_type": "code",
   "execution_count": 111,
   "metadata": {},
   "outputs": [],
   "source": [
    "top_k=3\n",
    "input_colors=[[49.80392156862745, -17.0, -10.0], [41.568627450980394, -16.0, -9.0]]\n"
   ]
  },
  {
   "cell_type": "code",
   "execution_count": 12,
   "metadata": {},
   "outputs": [],
   "source": [
    "import json\n",
    "import unidecode\n",
    "from rapidfuzz import fuzz, process\n",
    "with open(here(\"colorfact/mapping/product_mapping.json\"), \"r\", encoding=\"utf-8\") as f:\n",
    "    saved_mapping = json.load(f)\n",
    "# Load mapping dictionary\n",
    "mapping = saved_mapping\n",
    "\n",
    "# Normalize keys in mapping for case-insensitive lookup\n",
    "normalized_mapping = {unidecode.unidecode(k.lower().strip()): v for k, v in mapping.items()}\n",
    "\n",
    "# Function to normalize input\n",
    "def normalize_text(text):\n",
    "    text = text.lower().strip()  # Lowercase and remove extra spaces\n",
    "    text = unidecode.unidecode(text)  # Remove accents (é -> e)\n",
    "    text = text.replace(\"-\", \" \").replace(\"_\", \" \")  # Replace dashes and underscores with spaces\n",
    "    return text\n",
    "\n",
    "# Function to find best match using fuzzy matching\n",
    "def fuzzy_map(input_text, threshold=80):\n",
    "    input_text = normalize_text(input_text)\n",
    "\n",
    "    # 1. Exact match in normalized dictionary\n",
    "    if input_text in normalized_mapping:\n",
    "        return normalized_mapping[input_text]\n",
    "\n",
    "    # 2. Fuzzy match (token-based for better accuracy)\n",
    "    best_match, score, _ = process.extractOne(input_text, normalized_mapping.keys(), scorer=fuzz.token_sort_ratio)\n",
    "\n",
    "    if score >= threshold:\n",
    "        return normalized_mapping[best_match]\n",
    "\n",
    "    return \"No Match\"  # No good match found"
   ]
  },
  {
   "cell_type": "code",
   "execution_count": 27,
   "metadata": {},
   "outputs": [],
   "source": [
    "data_prev['Catégorie produit'] = data_prev['Catégorie produit'].apply(fuzzy_map)"
   ]
  },
  {
   "cell_type": "code",
   "execution_count": 116,
   "metadata": {},
   "outputs": [
    {
     "data": {
      "text/plain": [
       "{'Jean': [{'product_id': 'https://nestorevintage.fr/cdn/shop/files/IMG_96513.jpg?v=1713712617&width=2048',\n",
       "   'distance': 0.03934524,\n",
       "   'metadata': {'Photo produit 1': 'https://nestorevintage.fr/cdn/shop/files/IMG_96513.jpg?v=1713712617&width=2048',\n",
       "    'Photo produit 2 ': 'https://nestorevintage.fr/cdn/shop/files/IMG_96543.jpg?v=1713712645&width=2048',\n",
       "    'Nom produit\\xa0': 'Jean baggy Bape (XL)',\n",
       "    'Lien achat': 'https://nestorevintage.fr/products/jean-baggy-bape-6',\n",
       "    'Catégorie produit': 'Jean',\n",
       "    'Genre': 'H',\n",
       "    'cielab_colors': (39.21568627450981, -5.0, -8.0)}},\n",
       "  {'product_id': 'https://nestorevintage.fr/cdn/shop/files/ABE348CC-E537-4682-A63F-34D8C26706E1.jpg?v=1737289311&width=2048',\n",
       "   'distance': 0.040083643,\n",
       "   'metadata': {'Photo produit 1': 'https://nestorevintage.fr/cdn/shop/files/ABE348CC-E537-4682-A63F-34D8C26706E1.jpg?v=1737289311&width=2048',\n",
       "    'Photo produit 2 ': 'https://nestorevintage.fr/cdn/shop/files/29550E9D-84BC-4F79-9A7A-1C6682C40516.jpg?v=1737289311&width=2048',\n",
       "    'Nom produit\\xa0': 'Jean baggy style Karakuri (S)',\n",
       "    'Lien achat': 'https://nestorevintage.fr/products/jean-baggy-style-karakuri-3',\n",
       "    'Catégorie produit': 'Jean',\n",
       "    'Genre': 'H',\n",
       "    'cielab_colors': (39.6078431372549, -5.0, -7.0)}},\n",
       "  {'product_id': 'https://nestorevintage.fr/cdn/shop/files/IMG_2131.jpg?v=1715528599&width=2048',\n",
       "   'distance': 0.041776143,\n",
       "   'metadata': {'Photo produit 1': 'https://nestorevintage.fr/cdn/shop/files/IMG_2131.jpg?v=1715528599&width=2048',\n",
       "    'Photo produit 2 ': 'https://nestorevintage.fr/cdn/shop/files/IMG_2133.jpg?v=1715528607&width=2048',\n",
       "    'Nom produit\\xa0': 'Jean baggy Christian Audigier (M)',\n",
       "    'Lien achat': 'https://nestorevintage.fr/products/jean-baggy-christian-audigier-2',\n",
       "    'Catégorie produit': 'Jean',\n",
       "    'Genre': 'H',\n",
       "    'cielab_colors': (18.03921568627451, -3.0, -6.0)}},\n",
       "  {'product_id': 'https://wasted.fr/cdn/shop/files/jean-casper-sandblast-586531.jpg?v=1737390217',\n",
       "   'distance': 0.05378605,\n",
       "   'metadata': {'Photo produit 1': 'https://wasted.fr/cdn/shop/files/jean-casper-sandblast-586531.jpg?v=1737390217',\n",
       "    'Photo produit 2 ': '-',\n",
       "    'Nom produit\\xa0': 'Jean Casper Sandblast',\n",
       "    'Lien achat': 'https://wasted.fr/collections/pantalons-homme/products/jean-casper-sandblast',\n",
       "    'Catégorie produit': 'Jean',\n",
       "    'Genre': 'H ',\n",
       "    'cielab_colors': (14.117647058823529, 2.0, 4.0)}}],\n",
       " 'Lunettes': [{'product_id': 'https://nestorevintage.fr/cdn/shop/files/623B3473-757C-4EF2-9B92-B5562319F517.jpg?v=1725199435&width=2048',\n",
       "   'distance': 0.15584797,\n",
       "   'metadata': {'Photo produit 1': 'https://nestorevintage.fr/cdn/shop/files/623B3473-757C-4EF2-9B92-B5562319F517.jpg?v=1725199435&width=2048',\n",
       "    'Photo produit 2 ': 'https://nestorevintage.fr/cdn/shop/files/9B299CE3-0057-4DC8-A2A5-00D1DB3764D2.jpg?v=1725199435&width=2048',\n",
       "    'Nom produit\\xa0': 'Lunettes de soleil Prada Sport',\n",
       "    'Lien achat': 'https://nestorevintage.fr/products/lunettes-de-soleil-prada-sport',\n",
       "    'Catégorie produit': 'Lunettes',\n",
       "    'Genre': 'H/F',\n",
       "    'cielab_colors': (34.90196078431372, 12.0, 25.0)}}],\n",
       " 'Sneakers': [{'product_id': 'https://fr.sandro-paris.com/dw/image/v2/BCMW_PRD/on/demandware.static/-/Sites-master-catalog/default/dwe4d5ac03/images/packshot/Sandro_SFACH01164-47_F_P.jpg?sw=650&sh=650',\n",
       "   'distance': 0.11775888,\n",
       "   'metadata': {'Photo produit 1': 'https://fr.sandro-paris.com/dw/image/v2/BCMW_PRD/on/demandware.static/-/Sites-master-catalog/default/dwe4d5ac03/images/packshot/Sandro_SFACH01164-47_F_P.jpg?sw=650&sh=650',\n",
       "    'Photo produit 2 ': '-',\n",
       "    'Nom produit\\xa0': 'Baskets Flame',\n",
       "    'Lien achat': 'https://fr.sandro-paris.com/fr/p/baskets-flame/SFACH01164_47.html',\n",
       "    'Catégorie produit': 'Sneakers',\n",
       "    'Genre': 'F',\n",
       "    'cielab_colors': (50.588235294117645, 1.0, -8.0)}},\n",
       "  {'product_id': 'https://fr.sandro-paris.com/dw/image/v2/BCMW_PRD/on/demandware.static/-/Sites-master-catalog/default/dw5279f87f/images/packshot/Sandro_SFACH00860-20_V_P.jpg?sw=650&sh=650',\n",
       "   'distance': 0.15400456,\n",
       "   'metadata': {'Photo produit 1': 'https://fr.sandro-paris.com/dw/image/v2/BCMW_PRD/on/demandware.static/-/Sites-master-catalog/default/dw5279f87f/images/packshot/Sandro_SFACH00860-20_V_P.jpg?sw=650&sh=650',\n",
       "    'Photo produit 2 ': '-',\n",
       "    'Nom produit\\xa0': 'Baskets Flame',\n",
       "    'Lien achat': 'https://fr.sandro-paris.com/fr/p/baskets-flame/SFACH00860_20.html',\n",
       "    'Catégorie produit': 'Sneakers',\n",
       "    'Genre': 'F',\n",
       "    'cielab_colors': (89.80392156862746, 0.0, 3.0)}},\n",
       "  {'product_id': 'https://fr.sandro-paris.com/dw/image/v2/BCMW_PRD/on/demandware.static/-/Sites-master-catalog/default/dw7a539853/images/packshot/Sandro_SFACH01186-10_F_P.jpg?sw=650&sh=650',\n",
       "   'distance': 0.14584889,\n",
       "   'metadata': {'Photo produit 1': 'https://fr.sandro-paris.com/dw/image/v2/BCMW_PRD/on/demandware.static/-/Sites-master-catalog/default/dw7a539853/images/packshot/Sandro_SFACH01186-10_F_P.jpg?sw=650&sh=650',\n",
       "    'Photo produit 2 ': '-',\n",
       "    'Nom produit\\xa0': 'Baskets Flame',\n",
       "    'Lien achat': 'https://fr.sandro-paris.com/fr/p/baskets-flame/SFACH01186_10.html',\n",
       "    'Catégorie produit': 'Sneakers',\n",
       "    'Genre': 'F',\n",
       "    'cielab_colors': (85.49019607843137, 1.0, 4.0)}}]}"
      ]
     },
     "execution_count": 116,
     "metadata": {},
     "output_type": "execute_result"
    }
   ],
   "source": [
    "recommend_outfit(\"T-shirt\",data_prev,input_colors,\"Casual été\",outfit)"
   ]
  },
  {
   "cell_type": "code",
   "execution_count": 117,
   "metadata": {},
   "outputs": [],
   "source": [
    "import ast\n",
    "import numpy as np\n",
    "import faiss\n",
    "\n",
    "def recommend_outfit(input_category, data, input_colors, ontology, top_k=3):\n",
    "    try:\n",
    "        outfit_types = ontology[\"Outfit\"][input_category]\n",
    "    except KeyError as e:\n",
    "        raise ValueError(f\"Invalid category: {str(e)}\")\n",
    "\n",
    "    recommendations = {}\n",
    "    similarity_threshold = 0.2  # 90% similarity\n",
    "\n",
    "    # Generate harmonized colors for input\n",
    "    input_colors = generate_harmonic_colors(input_colors)\n",
    "    query_colors = np.array(input_colors, dtype=\"float32\")\n",
    "    faiss.normalize_L2(query_colors)\n",
    "\n",
    "    for outfit_type, required_items in outfit_types.items():\n",
    "        outfit_recommendations = {}\n",
    "\n",
    "        for item_category in required_items:\n",
    "            # Filter data for the given category\n",
    "            filtered_data = data[data[\"Catégorie produit\"] == item_category].copy()\n",
    "\n",
    "            # Ensure cielab_colors is correctly formatted\n",
    "            filtered_data[\"cielab_colors\"] = filtered_data[\"cielab_colors\"].apply(ast.literal_eval)\n",
    "            filtered_data.dropna(inplace=True)\n",
    "            filtered_data[\"cielab_colors\"] = filtered_data[\"cielab_colors\"].apply(tuple)\n",
    "            filtered_data.drop_duplicates(inplace=True)\n",
    "\n",
    "            # Convert to NumPy array\n",
    "            vectors = np.array([list(t) for t in filtered_data[\"cielab_colors\"]], dtype=\"float32\")\n",
    "            if vectors.shape[0] == 0:\n",
    "                continue  # Skip if no data available\n",
    "\n",
    "            # Normalize and create FAISS index\n",
    "            faiss.normalize_L2(vectors)\n",
    "            index = faiss.IndexFlatL2(vectors.shape[1])\n",
    "            index.add(vectors)\n",
    "\n",
    "            # Search for closest matches\n",
    "            distances, indices = index.search(query_colors, top_k)\n",
    "\n",
    "            seen_ids = set()\n",
    "            matches = []\n",
    "\n",
    "            for i in range(indices.shape[0]):\n",
    "                for j in range(indices.shape[1]):\n",
    "                    idx = indices[i][j]\n",
    "                    if idx >= len(filtered_data) or distances[i][j] > similarity_threshold:\n",
    "                        continue  # Skip invalid or low-similarity matches\n",
    "\n",
    "                    product_id = filtered_data.iloc[idx][\"Photo produit 1\"]\n",
    "                    if product_id not in seen_ids:\n",
    "                        seen_ids.add(product_id)\n",
    "                        matches.append({\n",
    "                            \"product_id\": product_id,\n",
    "                            \"distance\": distances[i][j],\n",
    "                            \"metadata\": filtered_data.iloc[idx].to_dict(),\n",
    "                        })\n",
    "                    \n",
    "                    if len(matches) >= top_k:\n",
    "                        break  # Stop early if enough matches are found\n",
    "\n",
    "            outfit_recommendations[item_category] = matches\n",
    "\n",
    "        recommendations[outfit_type] = outfit_recommendations\n",
    "\n",
    "    return recommendations\n"
   ]
  },
  {
   "cell_type": "code",
   "execution_count": 119,
   "metadata": {},
   "outputs": [],
   "source": [
    "rec=recommend_outfit(\"T-shirt\", data_prev, input_colors, outfit)\n"
   ]
  },
  {
   "cell_type": "code",
   "execution_count": 121,
   "metadata": {},
   "outputs": [
    {
     "data": {
      "text/plain": [
       "dict_keys(['Casual été', 'Casual hiver', 'Sportswear', 'Professionnel'])"
      ]
     },
     "execution_count": 121,
     "metadata": {},
     "output_type": "execute_result"
    }
   ],
   "source": [
    "rec.keys()"
   ]
  },
  {
   "cell_type": "code",
   "execution_count": 124,
   "metadata": {},
   "outputs": [
    {
     "data": {
      "text/plain": [
       "[{'product_id': 'https://fr.sandro-paris.com/dw/image/v2/BCMW_PRD/on/demandware.static/-/Sites-master-catalog/default/dwe4d5ac03/images/packshot/Sandro_SFACH01164-47_F_P.jpg?sw=650&sh=650',\n",
       "  'distance': 0.11775888,\n",
       "  'metadata': {'Photo produit 1': 'https://fr.sandro-paris.com/dw/image/v2/BCMW_PRD/on/demandware.static/-/Sites-master-catalog/default/dwe4d5ac03/images/packshot/Sandro_SFACH01164-47_F_P.jpg?sw=650&sh=650',\n",
       "   'Photo produit 2 ': '-',\n",
       "   'Nom produit\\xa0': 'Baskets Flame',\n",
       "   'Lien achat': 'https://fr.sandro-paris.com/fr/p/baskets-flame/SFACH01164_47.html',\n",
       "   'Catégorie produit': 'Sneakers',\n",
       "   'Genre': 'F',\n",
       "   'cielab_colors': (50.588235294117645, 1.0, -8.0)}},\n",
       " {'product_id': 'https://fr.sandro-paris.com/dw/image/v2/BCMW_PRD/on/demandware.static/-/Sites-master-catalog/default/dw5279f87f/images/packshot/Sandro_SFACH00860-20_V_P.jpg?sw=650&sh=650',\n",
       "  'distance': 0.15400456,\n",
       "  'metadata': {'Photo produit 1': 'https://fr.sandro-paris.com/dw/image/v2/BCMW_PRD/on/demandware.static/-/Sites-master-catalog/default/dw5279f87f/images/packshot/Sandro_SFACH00860-20_V_P.jpg?sw=650&sh=650',\n",
       "   'Photo produit 2 ': '-',\n",
       "   'Nom produit\\xa0': 'Baskets Flame',\n",
       "   'Lien achat': 'https://fr.sandro-paris.com/fr/p/baskets-flame/SFACH00860_20.html',\n",
       "   'Catégorie produit': 'Sneakers',\n",
       "   'Genre': 'F',\n",
       "   'cielab_colors': (89.80392156862746, 0.0, 3.0)}},\n",
       " {'product_id': 'https://fr.sandro-paris.com/dw/image/v2/BCMW_PRD/on/demandware.static/-/Sites-master-catalog/default/dw7a539853/images/packshot/Sandro_SFACH01186-10_F_P.jpg?sw=650&sh=650',\n",
       "  'distance': 0.14584889,\n",
       "  'metadata': {'Photo produit 1': 'https://fr.sandro-paris.com/dw/image/v2/BCMW_PRD/on/demandware.static/-/Sites-master-catalog/default/dw7a539853/images/packshot/Sandro_SFACH01186-10_F_P.jpg?sw=650&sh=650',\n",
       "   'Photo produit 2 ': '-',\n",
       "   'Nom produit\\xa0': 'Baskets Flame',\n",
       "   'Lien achat': 'https://fr.sandro-paris.com/fr/p/baskets-flame/SFACH01186_10.html',\n",
       "   'Catégorie produit': 'Sneakers',\n",
       "   'Genre': 'F',\n",
       "   'cielab_colors': (85.49019607843137, 1.0, 4.0)}}]"
      ]
     },
     "execution_count": 124,
     "metadata": {},
     "output_type": "execute_result"
    }
   ],
   "source": [
    "rec[\"Casual été\"][\"Sneakers\"]"
   ]
  },
  {
   "cell_type": "code",
   "execution_count": 125,
   "metadata": {},
   "outputs": [],
   "source": [
    "prompt=\"\"\"  \n",
    "    You are an AI model specializing in image recognition for fashion products. Your task is to analyze an image of a clothing or accessory item and classify it into a specific category from a predefined list. Additionally, determine whether the item is intended for men (H), women (F), or both (H/F). \n",
    "\n",
    "    Use the following list of standard product categories for classification:\n",
    "    - T-shirt\n",
    "    - Polo\n",
    "    - Chemise\n",
    "    - Col-roulés\n",
    "    - Sweatshirt\n",
    "    - Hoodie\n",
    "    - Pull\n",
    "    - Cardigan\n",
    "    - Veste\n",
    "    - Blouson\n",
    "    - Manteau\n",
    "    - Parka\n",
    "    - Trench\n",
    "    - Pantalons\n",
    "    - Jean\n",
    "    - Short\n",
    "    - Jogging\n",
    "    - Chinos\n",
    "    - Jupes\n",
    "    - Robes\n",
    "    - Combinaisons\n",
    "    - Costumes\n",
    "    - Tailleurs\n",
    "    - Pantalon habillé\n",
    "    - Blazer\n",
    "    - Robe de soirée\n",
    "    - Sneakers\n",
    "    - Bottes\n",
    "    - Chaussures de ville\n",
    "    - Escarpins\n",
    "    - Talons\n",
    "    - Sandales\n",
    "    - Sac à main\n",
    "    - Sac à dos\n",
    "    - Lunettes\n",
    "    - Bonnet\n",
    "    - Casquettes\n",
    "    - Ceinture\n",
    "    - Montre\n",
    "\n",
    "    ### **Rules for Classification**\n",
    "    1. **Category Matching:**  \n",
    "    - Assign the item to the closest matching category from the list above.\n",
    "    - If multiple categories apply, choose the most specific one.\n",
    "\n",
    "    2. **Gender Classification (`genre` field):**  \n",
    "    - \"H\" if the item is primarily for men.  \n",
    "    - \"F\" if the item is primarily for women.  \n",
    "    - \"H/F\" if the item can be worn by both genders.  \n",
    "\n",
    "    ### **Output Format (JSON)**\n",
    "    Return the result as a structured JSON object like this:\n",
    "    \n",
    "    {\n",
    "        \"genre\": \"H\",\n",
    "        \"category\": \"T-shirt\"\n",
    "    }\n",
    "\n",
    "\"\"\""
   ]
  },
  {
   "cell_type": "code",
   "execution_count": 126,
   "metadata": {},
   "outputs": [
    {
     "data": {
      "text/plain": [
       "True"
      ]
     },
     "execution_count": 126,
     "metadata": {},
     "output_type": "execute_result"
    }
   ],
   "source": [
    "from dotenv import load_dotenv\n",
    "load_dotenv()"
   ]
  },
  {
   "cell_type": "code",
   "execution_count": 135,
   "metadata": {},
   "outputs": [],
   "source": [
    "from langchain_openai import OpenAI,ChatOpenAI"
   ]
  },
  {
   "cell_type": "code",
   "execution_count": 136,
   "metadata": {},
   "outputs": [],
   "source": [
    "client=OpenAI()\n",
    "llm=ChatOpenAI(model=\"gpt-4o\")"
   ]
  },
  {
   "cell_type": "code",
   "execution_count": 129,
   "metadata": {},
   "outputs": [],
   "source": [
    "from PIL import Image\n",
    "img = Image.open(\"data/imagesremoved.png\")"
   ]
  },
  {
   "cell_type": "code",
   "execution_count": 130,
   "metadata": {},
   "outputs": [],
   "source": [
    "import base64\n",
    "from openai import OpenAI\n",
    "from base64 import b64encode\n",
    "client = OpenAI()\n",
    "\n",
    "# Function to encode the image\n",
    "\n",
    "def load_image_as_base64(image):\n",
    "\n",
    "    if isinstance(image, str):  # If input is a file path\n",
    "        with open(image, \"rb\") as img_file:\n",
    "            image_bytes = img_file.read()\n",
    "    elif isinstance(image, Image.Image):  # If input is a PIL.Image\n",
    "        buffered = BytesIO()\n",
    "        image.save(buffered, format=\"JPEG\")  # Ensure it's saved in the correct format\n",
    "        image_bytes = buffered.getvalue()\n",
    "    else:\n",
    "        raise TypeError(\"Input must be a file path or PIL.Image object\")\n",
    "    \n",
    "    return b64encode(image_bytes).decode('utf-8')"
   ]
  },
  {
   "cell_type": "code",
   "execution_count": 138,
   "metadata": {},
   "outputs": [],
   "source": [
    "im=load_image_as_base64(\"data/imagesremoved.png\")"
   ]
  },
  {
   "cell_type": "code",
   "execution_count": 134,
   "metadata": {},
   "outputs": [],
   "source": [
    "import base64\n",
    "# Open the image file and encode it as a base64 string\n",
    "def encode_image(image_path):\n",
    "    with open(image_path, \"rb\") as image_file:\n",
    "        return base64.b64encode(image_file.read()).decode(\"utf-8\")\n",
    "\n",
    "base64_image = encode_image(\"data/imagesremoved.png\")"
   ]
  },
  {
   "cell_type": "code",
   "execution_count": null,
   "metadata": {},
   "outputs": [],
   "source": []
  },
  {
   "cell_type": "code",
   "execution_count": 140,
   "metadata": {},
   "outputs": [],
   "source": [
    "from langchain_core.messages import HumanMessage \n",
    "\n",
    "res=llm.invoke(\n",
    "[\n",
    "    HumanMessage(\n",
    "    content=[\n",
    "        {\n",
    "            \"type\":\"text\",\"text\":prompt\n",
    "        },\n",
    "        {\n",
    "            \"type\":\"image_url\",\n",
    "            \"image_url\":{\"url\":f\"data:image/jpeg;base64,{base64_image}\"},\n",
    "        },\n",
    "\n",
    "    ]),\n",
    "    response_format=\n",
    "\n",
    "])"
   ]
  },
  {
   "cell_type": "code",
   "execution_count": 141,
   "metadata": {},
   "outputs": [
    {
     "data": {
      "text/plain": [
       "'```json\\n{\\n    \"genre\": \"H/F\",\\n    \"category\": \"Blouson\"\\n}\\n```'"
      ]
     },
     "execution_count": 141,
     "metadata": {},
     "output_type": "execute_result"
    }
   ],
   "source": [
    "res.content"
   ]
  },
  {
   "cell_type": "code",
   "execution_count": 144,
   "metadata": {},
   "outputs": [
    {
     "name": "stdout",
     "output_type": "stream",
     "text": [
      "H/F\n"
     ]
    }
   ],
   "source": [
    "import json \n",
    "# Clean the string by removing unwanted characters\n",
    "cleaned_output = res.content.strip('```json\\n').strip('```')\n",
    "\n",
    "# Load it into a JSON object\n",
    "json_data = json.loads(cleaned_output)\n",
    "\n",
    "# Now you can access the data as a dictionary\n",
    "print(json_data.get(\"genre\"))\n"
   ]
  },
  {
   "cell_type": "code",
   "execution_count": 147,
   "metadata": {},
   "outputs": [
    {
     "data": {
      "text/plain": [
       "array(['H/F', 'H', 'F'], dtype=object)"
      ]
     },
     "execution_count": 147,
     "metadata": {},
     "output_type": "execute_result"
    }
   ],
   "source": [
    "data_prev[\"Genre\"].unique()"
   ]
  },
  {
   "cell_type": "code",
   "execution_count": 146,
   "metadata": {},
   "outputs": [],
   "source": [
    "data_prev['Genre']=data_prev[\"Genre\"].apply(lambda x : x.strip())"
   ]
  },
  {
   "cell_type": "code",
   "execution_count": 1,
   "metadata": {},
   "outputs": [],
   "source": [
    "pathh=\"data/imagesremoved.png\""
   ]
  },
  {
   "cell_type": "code",
   "execution_count": 2,
   "metadata": {},
   "outputs": [],
   "source": [
    "from utils import get_category"
   ]
  },
  {
   "cell_type": "code",
   "execution_count": 3,
   "metadata": {},
   "outputs": [],
   "source": [
    "cat=get_category(pathh)"
   ]
  },
  {
   "cell_type": "code",
   "execution_count": 5,
   "metadata": {},
   "outputs": [
    {
     "data": {
      "text/plain": [
       "'H/F'"
      ]
     },
     "execution_count": 5,
     "metadata": {},
     "output_type": "execute_result"
    }
   ],
   "source": [
    "cat.get_category_gender().get(\"genre\")"
   ]
  },
  {
   "cell_type": "code",
   "execution_count": null,
   "metadata": {},
   "outputs": [],
   "source": []
  }
 ],
 "metadata": {
  "kernelspec": {
   "display_name": "clothes",
   "language": "python",
   "name": "python3"
  },
  "language_info": {
   "codemirror_mode": {
    "name": "ipython",
    "version": 3
   },
   "file_extension": ".py",
   "mimetype": "text/x-python",
   "name": "python",
   "nbconvert_exporter": "python",
   "pygments_lexer": "ipython3",
   "version": "3.11.11"
  }
 },
 "nbformat": 4,
 "nbformat_minor": 2
}
