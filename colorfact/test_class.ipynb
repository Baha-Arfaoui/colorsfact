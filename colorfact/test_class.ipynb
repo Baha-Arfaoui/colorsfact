{
 "cells": [
  {
   "cell_type": "code",
   "execution_count": 2,
   "metadata": {},
   "outputs": [],
   "source": [
    "import pandas as pd \n",
    "from utils import extract_colors_image,extract_colors_url"
   ]
  },
  {
   "cell_type": "code",
   "execution_count": 3,
   "metadata": {},
   "outputs": [
    {
     "name": "stderr",
     "output_type": "stream",
     "text": [
      "c:\\Users\\BahaARFAOUI\\OneDrive - CBTW\\Bureau\\colorfact\\colorfact\\utils.py:80: RuntimeWarning: overflow encountered in scalar subtract\n",
      "  a_std = float(a_opencv - 128)\n"
     ]
    }
   ],
   "source": [
    "url=extract_colors_url(\"https://nestorevintage.fr/cdn/shop/files/307FDA5D-D3FB-48D6-8DA2-2478DF104BD3.jpg?v=1738348432&width=2048\")"
   ]
  },
  {
   "cell_type": "code",
   "execution_count": 4,
   "metadata": {},
   "outputs": [
    {
     "data": {
      "text/plain": [
       "[[58.03921568627452, 251.0, 26.0], [46.27450980392157, 253.0, 23.0]]"
      ]
     },
     "execution_count": 4,
     "metadata": {},
     "output_type": "execute_result"
    }
   ],
   "source": [
    "url.colors"
   ]
  },
  {
   "cell_type": "code",
   "execution_count": 4,
   "metadata": {},
   "outputs": [],
   "source": [
    "image=extract_colors_image(image_path=\"data/doudoune.png\")"
   ]
  },
  {
   "cell_type": "code",
   "execution_count": 5,
   "metadata": {},
   "outputs": [
    {
     "data": {
      "text/plain": [
       "[[40.3921568627451, -7.0, 6.0], [23.52941176470588, -7.0, 6.0]]"
      ]
     },
     "execution_count": 5,
     "metadata": {},
     "output_type": "execute_result"
    }
   ],
   "source": [
    "image.colors"
   ]
  },
  {
   "cell_type": "code",
   "execution_count": 6,
   "metadata": {},
   "outputs": [],
   "source": [
    "im=image.remove_background_grabcut()"
   ]
  },
  {
   "cell_type": "code",
   "execution_count": 20,
   "metadata": {},
   "outputs": [],
   "source": [
    "import pandas as pd\n",
    "data=pd.read_excel(\"data/final_data.xlsx\")"
   ]
  },
  {
   "cell_type": "code",
   "execution_count": 21,
   "metadata": {},
   "outputs": [],
   "source": [
    "data=data.drop(\"Unnamed: 0\",axis=1)"
   ]
  },
  {
   "cell_type": "code",
   "execution_count": 5,
   "metadata": {},
   "outputs": [],
   "source": [
    "import pandas as pd\n",
    "import concurrent.futures\n",
    "from tqdm import tqdm\n",
    "\n",
    "def process_image(image_url):\n",
    "    \"\"\"Extracts dominant colors from an image URL.\"\"\"\n",
    "    try:\n",
    "        color_extractor = extract_colors_url(image_url)\n",
    "        return color_extractor.colors\n",
    "    except Exception as e:\n",
    "        print(f\"Error processing {image_url}: {str(e)}\")\n",
    "        return None\n",
    "\n",
    "def process_dataset(df: pd.DataFrame, num_workers=8) -> pd.DataFrame:\n",
    "    \"\"\"\n",
    "    Processes a dataset containing image links and adds a 'cielab_colors' column\n",
    "    with the dominant colors extracted from each image using multithreading.\n",
    "\n",
    "    Args:\n",
    "        df (pd.DataFrame): Input dataframe containing a 'Photo produit' column.\n",
    "        num_workers (int): Number of threads for parallel processing.\n",
    "\n",
    "    Returns:\n",
    "        pd.DataFrame: Modified dataframe with 'cielab_colors' column added.\n",
    "    \"\"\"\n",
    "    if not isinstance(df, pd.DataFrame):\n",
    "        raise ValueError(\"Input must be a pandas DataFrame\")\n",
    "\n",
    "    if 'Photo produit 1' not in df.columns:\n",
    "        raise ValueError(\"DataFrame must contain a 'Photo produit' column\")\n",
    "\n",
    "    image_urls = df['Photo produit 1'].tolist()\n",
    "\n",
    "    # Process images in parallel\n",
    "    with concurrent.futures.ThreadPoolExecutor(max_workers=num_workers) as executor:\n",
    "        results = list(tqdm(executor.map(process_image, image_urls), total=len(image_urls)))\n",
    "\n",
    "    df['cielab_colors'] = results\n",
    "    return df\n",
    "\n",
    "# Example usage:\n",
    "#df_processed = process_dataset(df_corrected, num_workers=8)\n"
   ]
  },
  {
   "cell_type": "code",
   "execution_count": 14,
   "metadata": {},
   "outputs": [],
   "source": [
    "df_processed_2=data.iloc[1150:1350,:]"
   ]
  },
  {
   "cell_type": "code",
   "execution_count": null,
   "metadata": {},
   "outputs": [
    {
     "name": "stderr",
     "output_type": "stream",
     "text": [
      "  0%|          | 0/200 [00:00<?, ?it/s]"
     ]
    },
    {
     "name": "stderr",
     "output_type": "stream",
     "text": [
      " 36%|███▌      | 72/200 [59:01<4:59:47, 140.53s/it]"
     ]
    },
    {
     "name": "stdout",
     "output_type": "stream",
     "text": [
      "Error processing https://images.stockx.com/images/New-Balance-M2002-Protection-Pack-Rain-Cloud-Product.jpg?fit=fill&bg=FFFFFF&w=140&h=75&q=60&dpr=1&trim=color&updated_at=1738193358: Found array with 0 sample(s) (shape=(0, 3)) while a minimum of 1 is required by KMeans.\n",
      "Error processing https://images.stockx.com/images/New-Balance-1906R-White-Gold-Product.jpg?fit=fill&bg=FFFFFF&w=140&h=75&q=60&dpr=1&trim=color&updated_at=1738193358: Found array with 0 sample(s) (shape=(0, 3)) while a minimum of 1 is required by KMeans.\n"
     ]
    },
    {
     "name": "stderr",
     "output_type": "stream",
     "text": [
      " 40%|████      | 80/200 [1:27:02<5:00:44, 150.37s/it] "
     ]
    }
   ],
   "source": [
    "df_processed_2_pro = process_dataset(df_processed_2, num_workers=8)\n"
   ]
  },
  {
   "cell_type": "code",
   "execution_count": 13,
   "metadata": {},
   "outputs": [],
   "source": [
    "df_processed_2_pro.to_excel(\"data/data_1050_1150.xlsx\")"
   ]
  },
  {
   "cell_type": "code",
   "execution_count": 3,
   "metadata": {},
   "outputs": [],
   "source": [
    "import faiss \n",
    "import numpy as np \n",
    "import pandas as pd "
   ]
  },
  {
   "cell_type": "code",
   "execution_count": 22,
   "metadata": {},
   "outputs": [],
   "source": [
    "data_prev=pd.read_excel(\"data/data_preview_exploded.xlsx\")"
   ]
  },
  {
   "cell_type": "code",
   "execution_count": 23,
   "metadata": {},
   "outputs": [],
   "source": [
    "data_prev=data_prev.drop(\"Unnamed: 0\",axis=1)"
   ]
  },
  {
   "cell_type": "code",
   "execution_count": 6,
   "metadata": {},
   "outputs": [],
   "source": [
    "def lab_to_lch(lab):\n",
    "        L, a, b = lab\n",
    "        C = np.sqrt(a**2 + b**2)\n",
    "        H = np.degrees(np.arctan2(b, a)) % 360  # Normalisation correcte\n",
    "        return [L, C, H]\n",
    "\n",
    "def lch_to_lab(lch):\n",
    "    L, C, H = lch\n",
    "    a = C * np.cos(np.radians(H))\n",
    "    b = C * np.sin(np.radians(H))\n",
    "    return [L, a, b]\n",
    "\n",
    "def generate_harmonic_colors(input_colors_lab):\n",
    "\n",
    "    input_colors_lch = [lab_to_lch(color) for color in input_colors_lab]\n",
    "    num_colors = len(input_colors_lab)\n",
    "\n",
    "    if num_colors == 1:\n",
    "        L, C, H = input_colors_lch[0]\n",
    "        triad1 = lch_to_lab([L, C, (H + 120) % 360])\n",
    "        triad2 = lch_to_lab([L, C, (H + 240) % 360])\n",
    "        return input_colors_lab + [triad1, triad2]\n",
    "\n",
    "    elif num_colors == 2:\n",
    "        chosen_idx = np.random.choice([0, 1])\n",
    "        L, C, H = input_colors_lch[chosen_idx]\n",
    "        complementary = lch_to_lab([L, C, (H + 180) % 360])\n",
    "        return input_colors_lab + [complementary]\n",
    "\n",
    "    elif num_colors == 3:\n",
    "        chosen_indices = np.random.choice([0, 1, 2], size=2, replace=False)\n",
    "        selected_colors = [input_colors_lab[i] for i in chosen_indices]\n",
    "        return selected_colors\n",
    "\n",
    "    return input_colors_lab"
   ]
  },
  {
   "cell_type": "code",
   "execution_count": 42,
   "metadata": {},
   "outputs": [],
   "source": [
    "import yaml\n",
    "from pyprojroot import here\n",
    "with open(here(\"colorfact/configs/outfit.yaml\")) as cfg:\n",
    "    outfit = yaml.load(cfg, Loader=yaml.FullLoader)"
   ]
  },
  {
   "cell_type": "code",
   "execution_count": 8,
   "metadata": {},
   "outputs": [
    {
     "data": {
      "text/plain": [
       "Index(['Photo produit 1', 'Photo produit 2 ', 'Nom produit ', 'Lien achat',\n",
       "       'Catégorie produit', 'Genre', 'cielab_colors'],\n",
       "      dtype='object')"
      ]
     },
     "execution_count": 8,
     "metadata": {},
     "output_type": "execute_result"
    }
   ],
   "source": [
    "data.columns"
   ]
  },
  {
   "cell_type": "code",
   "execution_count": 115,
   "metadata": {},
   "outputs": [],
   "source": [
    "import ast\n",
    "import numpy as np\n",
    "import faiss\n",
    "\n",
    "def recommend_outfit(input_category, data, input_colors, outfit_type, ontology, top_k=3):\n",
    "    try:\n",
    "        required_items = ontology[\"Outfit\"][input_category][outfit_type]\n",
    "    except KeyError as e:\n",
    "        raise ValueError(f\"Invalid category or outfit type: {str(e)}\")\n",
    "\n",
    "    recommendations = {}\n",
    "    similarity_threshold = 0.2  # 90% similarity\n",
    "\n",
    "    # Generate harmonized colors for input\n",
    "    input_colors = generate_harmonic_colors(input_colors)\n",
    "    query_colors = np.array(input_colors, dtype=\"float32\")\n",
    "    faiss.normalize_L2(query_colors)\n",
    "\n",
    "    for item_category in required_items:\n",
    "        # Filter data for the given category\n",
    "        filtered_data = data[data[\"Catégorie produit\"] == item_category].copy()\n",
    "\n",
    "        # Ensure cielab_colors is correctly formatted\n",
    "        filtered_data[\"cielab_colors\"] = filtered_data[\"cielab_colors\"].apply(ast.literal_eval)\n",
    "        filtered_data.dropna(inplace=True)\n",
    "        filtered_data[\"cielab_colors\"] = filtered_data[\"cielab_colors\"].apply(tuple)\n",
    "        filtered_data.drop_duplicates(inplace=True)\n",
    "\n",
    "        # Convert to NumPy array\n",
    "        vectors = np.array([list(t) for t in filtered_data[\"cielab_colors\"]], dtype=\"float32\")\n",
    "        if vectors.shape[0] == 0:\n",
    "            continue  # Skip if no data available\n",
    "\n",
    "        # Normalize and create FAISS index\n",
    "        faiss.normalize_L2(vectors)\n",
    "        index = faiss.IndexFlatL2(vectors.shape[1])\n",
    "        index.add(vectors)\n",
    "\n",
    "        # Search for closest matches\n",
    "        distances, indices = index.search(query_colors, top_k)\n",
    "\n",
    "        seen_ids = set()\n",
    "        matches = []\n",
    "\n",
    "        for i in range(indices.shape[0]):\n",
    "            for j in range(indices.shape[1]):\n",
    "                idx = indices[i][j]\n",
    "                if idx >= len(filtered_data) or distances[i][j] > similarity_threshold:\n",
    "                    continue  # Skip invalid or low-similarity matches\n",
    "\n",
    "                product_id = filtered_data.iloc[idx][\"Photo produit 1\"]\n",
    "                if product_id not in seen_ids:\n",
    "                    seen_ids.add(product_id)\n",
    "                    matches.append({\n",
    "                        \"product_id\": product_id,\n",
    "                        \"distance\": distances[i][j],\n",
    "                        \"metadata\": filtered_data.iloc[idx].to_dict(),\n",
    "                    })\n",
    "                \n",
    "                if len(matches) >= top_k:\n",
    "                    break  # Stop early if enough matches are found\n",
    "\n",
    "        recommendations[item_category] = matches\n",
    "\n",
    "    return recommendations\n"
   ]
  },
  {
   "cell_type": "code",
   "execution_count": 111,
   "metadata": {},
   "outputs": [],
   "source": [
    "top_k=3\n",
    "input_colors=[[49.80392156862745, -17.0, -10.0], [41.568627450980394, -16.0, -9.0]]\n"
   ]
  },
  {
   "cell_type": "code",
   "execution_count": 2,
   "metadata": {},
   "outputs": [],
   "source": [
    "import json\n",
    "import unidecode\n",
    "from rapidfuzz import fuzz, process\n",
    "from pyprojroot import here\n",
    "with open(here(\"colorfact/mapping/product_mapping.json\"), \"r\", encoding=\"utf-8\") as f:\n",
    "    saved_mapping = json.load(f)\n",
    "# Load mapping dictionary\n",
    "mapping = saved_mapping\n",
    "\n",
    "# Normalize keys in mapping for case-insensitive lookup\n",
    "normalized_mapping = {unidecode.unidecode(k.lower().strip()): v for k, v in mapping.items()}\n",
    "\n",
    "# Function to normalize input\n",
    "def normalize_text(text):\n",
    "    text = text.lower().strip()  # Lowercase and remove extra spaces\n",
    "    text = unidecode.unidecode(text)  # Remove accents (é -> e)\n",
    "    text = text.replace(\"-\", \" \").replace(\"_\", \" \")  # Replace dashes and underscores with spaces\n",
    "    return text\n",
    "\n",
    "# Function to find best match using fuzzy matching\n",
    "def fuzzy_map(input_text, threshold=80):\n",
    "    input_text = normalize_text(input_text)\n",
    "\n",
    "    # 1. Exact match in normalized dictionary\n",
    "    if input_text in normalized_mapping:\n",
    "        return normalized_mapping[input_text]\n",
    "\n",
    "    # 2. Fuzzy match (token-based for better accuracy)\n",
    "    best_match, score, _ = process.extractOne(input_text, normalized_mapping.keys(), scorer=fuzz.token_sort_ratio)\n",
    "\n",
    "    if score >= threshold:\n",
    "        return normalized_mapping[best_match]\n",
    "\n",
    "    return \"No Match\"  # No good match found"
   ]
  },
  {
   "cell_type": "code",
   "execution_count": 27,
   "metadata": {},
   "outputs": [],
   "source": [
    "data_prev['Catégorie produit'] = data_prev['Catégorie produit'].apply(fuzzy_map)"
   ]
  },
  {
   "cell_type": "code",
   "execution_count": 116,
   "metadata": {},
   "outputs": [
    {
     "data": {
      "text/plain": [
       "{'Jean': [{'product_id': 'https://nestorevintage.fr/cdn/shop/files/IMG_96513.jpg?v=1713712617&width=2048',\n",
       "   'distance': 0.03934524,\n",
       "   'metadata': {'Photo produit 1': 'https://nestorevintage.fr/cdn/shop/files/IMG_96513.jpg?v=1713712617&width=2048',\n",
       "    'Photo produit 2 ': 'https://nestorevintage.fr/cdn/shop/files/IMG_96543.jpg?v=1713712645&width=2048',\n",
       "    'Nom produit\\xa0': 'Jean baggy Bape (XL)',\n",
       "    'Lien achat': 'https://nestorevintage.fr/products/jean-baggy-bape-6',\n",
       "    'Catégorie produit': 'Jean',\n",
       "    'Genre': 'H',\n",
       "    'cielab_colors': (39.21568627450981, -5.0, -8.0)}},\n",
       "  {'product_id': 'https://nestorevintage.fr/cdn/shop/files/ABE348CC-E537-4682-A63F-34D8C26706E1.jpg?v=1737289311&width=2048',\n",
       "   'distance': 0.040083643,\n",
       "   'metadata': {'Photo produit 1': 'https://nestorevintage.fr/cdn/shop/files/ABE348CC-E537-4682-A63F-34D8C26706E1.jpg?v=1737289311&width=2048',\n",
       "    'Photo produit 2 ': 'https://nestorevintage.fr/cdn/shop/files/29550E9D-84BC-4F79-9A7A-1C6682C40516.jpg?v=1737289311&width=2048',\n",
       "    'Nom produit\\xa0': 'Jean baggy style Karakuri (S)',\n",
       "    'Lien achat': 'https://nestorevintage.fr/products/jean-baggy-style-karakuri-3',\n",
       "    'Catégorie produit': 'Jean',\n",
       "    'Genre': 'H',\n",
       "    'cielab_colors': (39.6078431372549, -5.0, -7.0)}},\n",
       "  {'product_id': 'https://nestorevintage.fr/cdn/shop/files/IMG_2131.jpg?v=1715528599&width=2048',\n",
       "   'distance': 0.041776143,\n",
       "   'metadata': {'Photo produit 1': 'https://nestorevintage.fr/cdn/shop/files/IMG_2131.jpg?v=1715528599&width=2048',\n",
       "    'Photo produit 2 ': 'https://nestorevintage.fr/cdn/shop/files/IMG_2133.jpg?v=1715528607&width=2048',\n",
       "    'Nom produit\\xa0': 'Jean baggy Christian Audigier (M)',\n",
       "    'Lien achat': 'https://nestorevintage.fr/products/jean-baggy-christian-audigier-2',\n",
       "    'Catégorie produit': 'Jean',\n",
       "    'Genre': 'H',\n",
       "    'cielab_colors': (18.03921568627451, -3.0, -6.0)}},\n",
       "  {'product_id': 'https://wasted.fr/cdn/shop/files/jean-casper-sandblast-586531.jpg?v=1737390217',\n",
       "   'distance': 0.05378605,\n",
       "   'metadata': {'Photo produit 1': 'https://wasted.fr/cdn/shop/files/jean-casper-sandblast-586531.jpg?v=1737390217',\n",
       "    'Photo produit 2 ': '-',\n",
       "    'Nom produit\\xa0': 'Jean Casper Sandblast',\n",
       "    'Lien achat': 'https://wasted.fr/collections/pantalons-homme/products/jean-casper-sandblast',\n",
       "    'Catégorie produit': 'Jean',\n",
       "    'Genre': 'H ',\n",
       "    'cielab_colors': (14.117647058823529, 2.0, 4.0)}}],\n",
       " 'Lunettes': [{'product_id': 'https://nestorevintage.fr/cdn/shop/files/623B3473-757C-4EF2-9B92-B5562319F517.jpg?v=1725199435&width=2048',\n",
       "   'distance': 0.15584797,\n",
       "   'metadata': {'Photo produit 1': 'https://nestorevintage.fr/cdn/shop/files/623B3473-757C-4EF2-9B92-B5562319F517.jpg?v=1725199435&width=2048',\n",
       "    'Photo produit 2 ': 'https://nestorevintage.fr/cdn/shop/files/9B299CE3-0057-4DC8-A2A5-00D1DB3764D2.jpg?v=1725199435&width=2048',\n",
       "    'Nom produit\\xa0': 'Lunettes de soleil Prada Sport',\n",
       "    'Lien achat': 'https://nestorevintage.fr/products/lunettes-de-soleil-prada-sport',\n",
       "    'Catégorie produit': 'Lunettes',\n",
       "    'Genre': 'H/F',\n",
       "    'cielab_colors': (34.90196078431372, 12.0, 25.0)}}],\n",
       " 'Sneakers': [{'product_id': 'https://fr.sandro-paris.com/dw/image/v2/BCMW_PRD/on/demandware.static/-/Sites-master-catalog/default/dwe4d5ac03/images/packshot/Sandro_SFACH01164-47_F_P.jpg?sw=650&sh=650',\n",
       "   'distance': 0.11775888,\n",
       "   'metadata': {'Photo produit 1': 'https://fr.sandro-paris.com/dw/image/v2/BCMW_PRD/on/demandware.static/-/Sites-master-catalog/default/dwe4d5ac03/images/packshot/Sandro_SFACH01164-47_F_P.jpg?sw=650&sh=650',\n",
       "    'Photo produit 2 ': '-',\n",
       "    'Nom produit\\xa0': 'Baskets Flame',\n",
       "    'Lien achat': 'https://fr.sandro-paris.com/fr/p/baskets-flame/SFACH01164_47.html',\n",
       "    'Catégorie produit': 'Sneakers',\n",
       "    'Genre': 'F',\n",
       "    'cielab_colors': (50.588235294117645, 1.0, -8.0)}},\n",
       "  {'product_id': 'https://fr.sandro-paris.com/dw/image/v2/BCMW_PRD/on/demandware.static/-/Sites-master-catalog/default/dw5279f87f/images/packshot/Sandro_SFACH00860-20_V_P.jpg?sw=650&sh=650',\n",
       "   'distance': 0.15400456,\n",
       "   'metadata': {'Photo produit 1': 'https://fr.sandro-paris.com/dw/image/v2/BCMW_PRD/on/demandware.static/-/Sites-master-catalog/default/dw5279f87f/images/packshot/Sandro_SFACH00860-20_V_P.jpg?sw=650&sh=650',\n",
       "    'Photo produit 2 ': '-',\n",
       "    'Nom produit\\xa0': 'Baskets Flame',\n",
       "    'Lien achat': 'https://fr.sandro-paris.com/fr/p/baskets-flame/SFACH00860_20.html',\n",
       "    'Catégorie produit': 'Sneakers',\n",
       "    'Genre': 'F',\n",
       "    'cielab_colors': (89.80392156862746, 0.0, 3.0)}},\n",
       "  {'product_id': 'https://fr.sandro-paris.com/dw/image/v2/BCMW_PRD/on/demandware.static/-/Sites-master-catalog/default/dw7a539853/images/packshot/Sandro_SFACH01186-10_F_P.jpg?sw=650&sh=650',\n",
       "   'distance': 0.14584889,\n",
       "   'metadata': {'Photo produit 1': 'https://fr.sandro-paris.com/dw/image/v2/BCMW_PRD/on/demandware.static/-/Sites-master-catalog/default/dw7a539853/images/packshot/Sandro_SFACH01186-10_F_P.jpg?sw=650&sh=650',\n",
       "    'Photo produit 2 ': '-',\n",
       "    'Nom produit\\xa0': 'Baskets Flame',\n",
       "    'Lien achat': 'https://fr.sandro-paris.com/fr/p/baskets-flame/SFACH01186_10.html',\n",
       "    'Catégorie produit': 'Sneakers',\n",
       "    'Genre': 'F',\n",
       "    'cielab_colors': (85.49019607843137, 1.0, 4.0)}}]}"
      ]
     },
     "execution_count": 116,
     "metadata": {},
     "output_type": "execute_result"
    }
   ],
   "source": [
    "recommend_outfit(\"T-shirt\",data_prev,input_colors,\"Casual été\",outfit)"
   ]
  },
  {
   "cell_type": "code",
   "execution_count": 117,
   "metadata": {},
   "outputs": [],
   "source": [
    "import ast\n",
    "import numpy as np\n",
    "import faiss\n",
    "\n",
    "def recommend_outfit(input_category, data, input_colors, ontology, top_k=3):\n",
    "    try:\n",
    "        outfit_types = ontology[\"Outfit\"][input_category]\n",
    "    except KeyError as e:\n",
    "        raise ValueError(f\"Invalid category: {str(e)}\")\n",
    "\n",
    "    recommendations = {}\n",
    "    similarity_threshold = 0.2  # 90% similarity\n",
    "\n",
    "    # Generate harmonized colors for input\n",
    "    input_colors = generate_harmonic_colors(input_colors)\n",
    "    query_colors = np.array(input_colors, dtype=\"float32\")\n",
    "    faiss.normalize_L2(query_colors)\n",
    "\n",
    "    for outfit_type, required_items in outfit_types.items():\n",
    "        outfit_recommendations = {}\n",
    "\n",
    "        for item_category in required_items:\n",
    "            # Filter data for the given category\n",
    "            filtered_data = data[data[\"Catégorie produit\"] == item_category].copy()\n",
    "\n",
    "            # Ensure cielab_colors is correctly formatted\n",
    "            filtered_data[\"cielab_colors\"] = filtered_data[\"cielab_colors\"].apply(ast.literal_eval)\n",
    "            filtered_data.dropna(inplace=True)\n",
    "            filtered_data[\"cielab_colors\"] = filtered_data[\"cielab_colors\"].apply(tuple)\n",
    "            filtered_data.drop_duplicates(inplace=True)\n",
    "\n",
    "            # Convert to NumPy array\n",
    "            vectors = np.array([list(t) for t in filtered_data[\"cielab_colors\"]], dtype=\"float32\")\n",
    "            if vectors.shape[0] == 0:\n",
    "                continue  # Skip if no data available\n",
    "\n",
    "            # Normalize and create FAISS index\n",
    "            faiss.normalize_L2(vectors)\n",
    "            index = faiss.IndexFlatL2(vectors.shape[1])\n",
    "            index.add(vectors)\n",
    "\n",
    "            # Search for closest matches\n",
    "            distances, indices = index.search(query_colors, top_k)\n",
    "\n",
    "            seen_ids = set()\n",
    "            matches = []\n",
    "\n",
    "            for i in range(indices.shape[0]):\n",
    "                for j in range(indices.shape[1]):\n",
    "                    idx = indices[i][j]\n",
    "                    if idx >= len(filtered_data) or distances[i][j] > similarity_threshold:\n",
    "                        continue  # Skip invalid or low-similarity matches\n",
    "\n",
    "                    product_id = filtered_data.iloc[idx][\"Photo produit 1\"]\n",
    "                    if product_id not in seen_ids:\n",
    "                        seen_ids.add(product_id)\n",
    "                        matches.append({\n",
    "                            \"product_id\": product_id,\n",
    "                            \"distance\": distances[i][j],\n",
    "                            \"metadata\": filtered_data.iloc[idx].to_dict(),\n",
    "                        })\n",
    "                    \n",
    "                    if len(matches) >= top_k:\n",
    "                        break  # Stop early if enough matches are found\n",
    "\n",
    "            outfit_recommendations[item_category] = matches\n",
    "\n",
    "        recommendations[outfit_type] = outfit_recommendations\n",
    "\n",
    "    return recommendations\n"
   ]
  },
  {
   "cell_type": "code",
   "execution_count": 119,
   "metadata": {},
   "outputs": [],
   "source": [
    "rec=recommend_outfit(\"T-shirt\", data_prev, input_colors, outfit)\n"
   ]
  },
  {
   "cell_type": "code",
   "execution_count": 121,
   "metadata": {},
   "outputs": [
    {
     "data": {
      "text/plain": [
       "dict_keys(['Casual été', 'Casual hiver', 'Sportswear', 'Professionnel'])"
      ]
     },
     "execution_count": 121,
     "metadata": {},
     "output_type": "execute_result"
    }
   ],
   "source": [
    "rec.keys()"
   ]
  },
  {
   "cell_type": "code",
   "execution_count": 124,
   "metadata": {},
   "outputs": [
    {
     "data": {
      "text/plain": [
       "[{'product_id': 'https://fr.sandro-paris.com/dw/image/v2/BCMW_PRD/on/demandware.static/-/Sites-master-catalog/default/dwe4d5ac03/images/packshot/Sandro_SFACH01164-47_F_P.jpg?sw=650&sh=650',\n",
       "  'distance': 0.11775888,\n",
       "  'metadata': {'Photo produit 1': 'https://fr.sandro-paris.com/dw/image/v2/BCMW_PRD/on/demandware.static/-/Sites-master-catalog/default/dwe4d5ac03/images/packshot/Sandro_SFACH01164-47_F_P.jpg?sw=650&sh=650',\n",
       "   'Photo produit 2 ': '-',\n",
       "   'Nom produit\\xa0': 'Baskets Flame',\n",
       "   'Lien achat': 'https://fr.sandro-paris.com/fr/p/baskets-flame/SFACH01164_47.html',\n",
       "   'Catégorie produit': 'Sneakers',\n",
       "   'Genre': 'F',\n",
       "   'cielab_colors': (50.588235294117645, 1.0, -8.0)}},\n",
       " {'product_id': 'https://fr.sandro-paris.com/dw/image/v2/BCMW_PRD/on/demandware.static/-/Sites-master-catalog/default/dw5279f87f/images/packshot/Sandro_SFACH00860-20_V_P.jpg?sw=650&sh=650',\n",
       "  'distance': 0.15400456,\n",
       "  'metadata': {'Photo produit 1': 'https://fr.sandro-paris.com/dw/image/v2/BCMW_PRD/on/demandware.static/-/Sites-master-catalog/default/dw5279f87f/images/packshot/Sandro_SFACH00860-20_V_P.jpg?sw=650&sh=650',\n",
       "   'Photo produit 2 ': '-',\n",
       "   'Nom produit\\xa0': 'Baskets Flame',\n",
       "   'Lien achat': 'https://fr.sandro-paris.com/fr/p/baskets-flame/SFACH00860_20.html',\n",
       "   'Catégorie produit': 'Sneakers',\n",
       "   'Genre': 'F',\n",
       "   'cielab_colors': (89.80392156862746, 0.0, 3.0)}},\n",
       " {'product_id': 'https://fr.sandro-paris.com/dw/image/v2/BCMW_PRD/on/demandware.static/-/Sites-master-catalog/default/dw7a539853/images/packshot/Sandro_SFACH01186-10_F_P.jpg?sw=650&sh=650',\n",
       "  'distance': 0.14584889,\n",
       "  'metadata': {'Photo produit 1': 'https://fr.sandro-paris.com/dw/image/v2/BCMW_PRD/on/demandware.static/-/Sites-master-catalog/default/dw7a539853/images/packshot/Sandro_SFACH01186-10_F_P.jpg?sw=650&sh=650',\n",
       "   'Photo produit 2 ': '-',\n",
       "   'Nom produit\\xa0': 'Baskets Flame',\n",
       "   'Lien achat': 'https://fr.sandro-paris.com/fr/p/baskets-flame/SFACH01186_10.html',\n",
       "   'Catégorie produit': 'Sneakers',\n",
       "   'Genre': 'F',\n",
       "   'cielab_colors': (85.49019607843137, 1.0, 4.0)}}]"
      ]
     },
     "execution_count": 124,
     "metadata": {},
     "output_type": "execute_result"
    }
   ],
   "source": [
    "rec[\"Casual été\"][\"Sneakers\"]"
   ]
  },
  {
   "cell_type": "code",
   "execution_count": 1,
   "metadata": {},
   "outputs": [],
   "source": [
    "pathh=\"data/imagesremoved.png\"\n",
    "data_path=\"data/data_preview_exploded.xlsx\"\n",
    "mapping_path=\"mapping/product_mapping.json\""
   ]
  },
  {
   "cell_type": "code",
   "execution_count": 2,
   "metadata": {},
   "outputs": [],
   "source": [
    "from utils import get_category,matching_products,load_data\n",
    "import pandas as pd \n",
    "from utils import extract_colors_image,extract_colors_url"
   ]
  },
  {
   "cell_type": "code",
   "execution_count": 3,
   "metadata": {},
   "outputs": [],
   "source": [
    "colors=extract_colors_image(image_path=pathh)"
   ]
  },
  {
   "cell_type": "code",
   "execution_count": 4,
   "metadata": {},
   "outputs": [
    {
     "data": {
      "text/plain": [
       "[[77.25490196078432, 4.0, 14.0], [62.35294117647059, 7.0, 16.0]]"
      ]
     },
     "execution_count": 4,
     "metadata": {},
     "output_type": "execute_result"
    }
   ],
   "source": [
    "colors.colors"
   ]
  },
  {
   "cell_type": "code",
   "execution_count": 5,
   "metadata": {},
   "outputs": [],
   "source": [
    "cat=get_category(pathh)"
   ]
  },
  {
   "cell_type": "code",
   "execution_count": 6,
   "metadata": {},
   "outputs": [],
   "source": [
    "genre=cat.get_category_gender()"
   ]
  },
  {
   "cell_type": "code",
   "execution_count": 7,
   "metadata": {},
   "outputs": [
    {
     "data": {
      "text/plain": [
       "{'genre': 'H', 'category': 'Blouson'}"
      ]
     },
     "execution_count": 7,
     "metadata": {},
     "output_type": "execute_result"
    }
   ],
   "source": [
    "genre"
   ]
  },
  {
   "cell_type": "code",
   "execution_count": 8,
   "metadata": {},
   "outputs": [],
   "source": [
    "load=load_data(data_path,mapping_path)"
   ]
  },
  {
   "cell_type": "code",
   "execution_count": 9,
   "metadata": {},
   "outputs": [],
   "source": [
    "data=load.load_dataset()"
   ]
  },
  {
   "cell_type": "code",
   "execution_count": 12,
   "metadata": {},
   "outputs": [],
   "source": [
    "match=matching_products(data=data,ontologie=outfit)"
   ]
  },
  {
   "cell_type": "code",
   "execution_count": 14,
   "metadata": {},
   "outputs": [],
   "source": [
    "out=match.recommend_outfit(genre.get(\"category\"),colors.colors,genre.get(\"genre\"),top_k=1)"
   ]
  },
  {
   "cell_type": "code",
   "execution_count": 14,
   "metadata": {},
   "outputs": [
    {
     "data": {
      "text/plain": [
       "{'genre': 'H', 'category': 'Blouson'}"
      ]
     },
     "execution_count": 14,
     "metadata": {},
     "output_type": "execute_result"
    }
   ],
   "source": [
    "genre"
   ]
  },
  {
   "cell_type": "code",
   "execution_count": 15,
   "metadata": {},
   "outputs": [],
   "source": [
    "outfit_types=outfit[\"Outfit\"][genre.get(\"category\")]"
   ]
  },
  {
   "cell_type": "code",
   "execution_count": 16,
   "metadata": {},
   "outputs": [],
   "source": [
    "corrected_genre=['H/F', 'H']"
   ]
  },
  {
   "cell_type": "code",
   "execution_count": 17,
   "metadata": {},
   "outputs": [
    {
     "name": "stdout",
     "output_type": "stream",
     "text": [
      "['Col roulé', 'Sneakers', 'Jean', 'Casquette']\n",
      "['Sweatshirt', 'Pantalon', 'Sneakers', 'Bonnet']\n",
      "['Jogging', 'Cargo', 'Sneakers', 'Sweatshirt', 'Hoodie', 'Casquette']\n",
      "['Pantalon habillé', 'Col roulé', 'Chemise', 'Mocassins', 'Ceinture']\n"
     ]
    }
   ],
   "source": [
    "for outfit_type, required_items in outfit_types.items():\n",
    "    print(required_items)"
   ]
  },
  {
   "cell_type": "code",
   "execution_count": 19,
   "metadata": {},
   "outputs": [],
   "source": [
    "filtered_data = data[\n",
    "                    (data[\"Catégorie produit\"] == 'Pantalon') & \n",
    "                    (data[\"Genre\"].isin(corrected_genre))\n",
    "                    ].copy()"
   ]
  },
  {
   "cell_type": "code",
   "execution_count": 20,
   "metadata": {},
   "outputs": [
    {
     "data": {
      "text/plain": [
       "Catégorie produit\n",
       "Pantalon    27\n",
       "Name: count, dtype: int64"
      ]
     },
     "execution_count": 20,
     "metadata": {},
     "output_type": "execute_result"
    }
   ],
   "source": [
    "filtered_data[filtered_data[\"Genre\"].isin(corrected_genre)][\"Catégorie produit\"].value_counts()"
   ]
  },
  {
   "cell_type": "code",
   "execution_count": 19,
   "metadata": {},
   "outputs": [],
   "source": [
    "import random\n",
    "\n",
    "random_selection = random.sample(urls, 20)"
   ]
  },
  {
   "cell_type": "code",
   "execution_count": 20,
   "metadata": {},
   "outputs": [],
   "source": [
    "import os\n",
    "import requests\n",
    "from io import BytesIO\n",
    "from PIL import Image, UnidentifiedImageError\n",
    "\n",
    "def download_image(image_url,save_folder):\n",
    "    \"\"\"\n",
    "    Downloads an image from a URL and saves it to the specified local folder.\n",
    "    \"\"\"\n",
    "    try:\n",
    "        headers = {\"User-Agent\": \"Mozilla/5.0\"}  # Mimic a browser request\n",
    "        response = requests.get(image_url, headers=headers, timeout=10)\n",
    "        response.raise_for_status()  # Raise an error if request fails\n",
    "\n",
    "        try:\n",
    "            image = Image.open(BytesIO(response.content))\n",
    "\n",
    "            # Ensure the folder exists\n",
    "            os.makedirs(save_folder, exist_ok=True)\n",
    "\n",
    "            # Generate a filename from the URL\n",
    "            filename = os.path.join(save_folder, os.path.basename(image_url.split(\"?\")[0]))\n",
    "\n",
    "            # Save the image\n",
    "            image.save(filename)\n",
    "            print(f\"Image saved to {filename}\")\n",
    "            return filename\n",
    "\n",
    "        except UnidentifiedImageError:\n",
    "            print(f\"Error: Cannot identify image from {image_url}\")\n",
    "            return None\n",
    "\n",
    "    except requests.exceptions.RequestException as e:\n",
    "        print(f\"Request failed: {e}\")\n",
    "        return None\n"
   ]
  },
  {
   "cell_type": "code",
   "execution_count": 22,
   "metadata": {},
   "outputs": [
    {
     "name": "stdout",
     "output_type": "stream",
     "text": [
      "Image saved to data/images/t-shirt-acid-310415_2048x2048.jpg\n"
     ]
    },
    {
     "data": {
      "text/plain": [
       "'data/images/t-shirt-acid-310415_2048x2048.jpg'"
      ]
     },
     "execution_count": 22,
     "metadata": {},
     "output_type": "execute_result"
    }
   ],
   "source": [
    "download_image(\"https://wasted.fr/cdn/shop/files/t-shirt-acid-310415_2048x2048.jpg?v=1721324674\",\"data/images/\")"
   ]
  },
  {
   "cell_type": "code",
   "execution_count": 27,
   "metadata": {},
   "outputs": [
    {
     "data": {
      "text/plain": [
       "array(['H/F', 'H', 'F'], dtype=object)"
      ]
     },
     "execution_count": 27,
     "metadata": {},
     "output_type": "execute_result"
    }
   ],
   "source": [
    "data[\"Genre\"].unique()"
   ]
  },
  {
   "cell_type": "code",
   "execution_count": null,
   "metadata": {},
   "outputs": [],
   "source": [
    "from colormath.color_objects import LabColor, sRGBColor\n",
    "from colormath.color_conversions import convert_color\n",
    "\n",
    "def lab_to_rgb(lab_values):\n",
    "    rgb_colors = []\n",
    "    for lab in lab_values:\n",
    "        lab_color = LabColor(lab[0], lab[1], lab[2])\n",
    "        rgb_color = convert_color(lab_color, sRGBColor)\n",
    "        # Ensure RGB values are within the valid range\n",
    "        rgb_clamped = [max(0, min(255, int(c * 255))) for c in (rgb_color.clamped_rgb_r, rgb_color.clamped_rgb_g, rgb_color.clamped_rgb_b)]\n",
    "        rgb_colors.append(rgb_clamped)\n",
    "    return rgb_colors"
   ]
  },
  {
   "cell_type": "code",
   "execution_count": 30,
   "metadata": {},
   "outputs": [],
   "source": [
    "from IPython.display import display, HTML\n",
    "\n",
    "def display_color_swatches(rgb_colors):\n",
    "    swatches = []\n",
    "    for rgb in rgb_colors:\n",
    "        hex_color = '#{:02x}{:02x}{:02x}'.format(*rgb)\n",
    "        swatch = f'<div style=\"display:inline-block; width:100px; height:100px; background-color:{hex_color}; margin:5px;\"></div>'\n",
    "        swatches.append(swatch)\n",
    "    return swatches\n"
   ]
  },
  {
   "cell_type": "code",
   "execution_count": 31,
   "metadata": {},
   "outputs": [
    {
     "data": {
      "text/html": [
       "<div style=\"display:inline-block; width:100px; height:100px; background-color:#cebba5; margin:5px;\"></div><div style=\"display:inline-block; width:100px; height:100px; background-color:#aa917a; margin:5px;\"></div>"
      ],
      "text/plain": [
       "<IPython.core.display.HTML object>"
      ]
     },
     "metadata": {},
     "output_type": "display_data"
    }
   ],
   "source": [
    "# Example L*a*b* values\n",
    "example_lab = [\n",
    "    [77.25490196078432, 4.0, 14.0],\n",
    "    [62.35294117647059, 7.0, 16.0]\n",
    "]\n",
    "\n",
    "# Convert L*a*b* to RGB\n",
    "rgb_colors = lab_to_rgb(example_lab)\n",
    "\n",
    "# Display color swatches\n",
    "display_color_swatches(rgb_colors)"
   ]
  },
  {
   "cell_type": "code",
   "execution_count": 51,
   "metadata": {},
   "outputs": [
    {
     "data": {
      "text/html": [
       "<div>\n",
       "<style scoped>\n",
       "    .dataframe tbody tr th:only-of-type {\n",
       "        vertical-align: middle;\n",
       "    }\n",
       "\n",
       "    .dataframe tbody tr th {\n",
       "        vertical-align: top;\n",
       "    }\n",
       "\n",
       "    .dataframe thead th {\n",
       "        text-align: right;\n",
       "    }\n",
       "</style>\n",
       "<table border=\"1\" class=\"dataframe\">\n",
       "  <thead>\n",
       "    <tr style=\"text-align: right;\">\n",
       "      <th></th>\n",
       "      <th>Composants</th>\n",
       "      <th>Étiquettes</th>\n",
       "      <th>Priorité</th>\n",
       "      <th>Description</th>\n",
       "    </tr>\n",
       "  </thead>\n",
       "  <tbody>\n",
       "    <tr>\n",
       "      <th>0</th>\n",
       "      <td>IBM Planning Analytics</td>\n",
       "      <td>Applicatif</td>\n",
       "      <td>High</td>\n",
       "      <td>Bonjour,\\n\\n \\n\\nPourriez-vous svp :\\n\\n# Corr...</td>\n",
       "    </tr>\n",
       "    <tr>\n",
       "      <th>1</th>\n",
       "      <td>IBM Cognos Analytics</td>\n",
       "      <td>Support</td>\n",
       "      <td>High</td>\n",
       "      <td>Suite à notre montée de version Cognos et la m...</td>\n",
       "    </tr>\n",
       "    <tr>\n",
       "      <th>2</th>\n",
       "      <td>IBM Infosphere Datastage</td>\n",
       "      <td>Support</td>\n",
       "      <td>High</td>\n",
       "      <td>Bonjour,\\n\\nJe souhaite manipuler des fichiers...</td>\n",
       "    </tr>\n",
       "    <tr>\n",
       "      <th>3</th>\n",
       "      <td>IBM Infosphere Datastage</td>\n",
       "      <td>Support</td>\n",
       "      <td>Medium</td>\n",
       "      <td>Bonjour,\\n\\nJ’ai 2 jobs parallèle qui ont un c...</td>\n",
       "    </tr>\n",
       "    <tr>\n",
       "      <th>4</th>\n",
       "      <td>IBM Planning Analytics</td>\n",
       "      <td>Applicatif</td>\n",
       "      <td>Medium</td>\n",
       "      <td>Bonjour, vous pouvez ajouter le champ poste au...</td>\n",
       "    </tr>\n",
       "    <tr>\n",
       "      <th>...</th>\n",
       "      <td>...</td>\n",
       "      <td>...</td>\n",
       "      <td>...</td>\n",
       "      <td>...</td>\n",
       "    </tr>\n",
       "    <tr>\n",
       "      <th>377</th>\n",
       "      <td>IBM Cognos Analytics</td>\n",
       "      <td>Support</td>\n",
       "      <td>Medium</td>\n",
       "      <td>Bonjour,\\n\\nLa version Cognos que nous utiliso...</td>\n",
       "    </tr>\n",
       "    <tr>\n",
       "      <th>378</th>\n",
       "      <td>IBM Cognos Analytics</td>\n",
       "      <td>Support</td>\n",
       "      <td>Low</td>\n",
       "      <td>Bonjour,\\n\\nPourquoi sur certain rapports ou v...</td>\n",
       "    </tr>\n",
       "    <tr>\n",
       "      <th>379</th>\n",
       "      <td>IBM Planning Analytics Workspace</td>\n",
       "      <td>Support</td>\n",
       "      <td>Medium</td>\n",
       "      <td>Bonjour,\\n\\nJe n'arrive pas à me connecter à P...</td>\n",
       "    </tr>\n",
       "    <tr>\n",
       "      <th>380</th>\n",
       "      <td>NaN</td>\n",
       "      <td>Support</td>\n",
       "      <td>Medium</td>\n",
       "      <td>Bonjour Christophe, Issam,\\n\\nVous sauriez nou...</td>\n",
       "    </tr>\n",
       "    <tr>\n",
       "      <th>381</th>\n",
       "      <td>IBM Planning Analytics</td>\n",
       "      <td>Support</td>\n",
       "      <td>Medium</td>\n",
       "      <td>Questions sur l'antivirus, le parefeu, ports a...</td>\n",
       "    </tr>\n",
       "  </tbody>\n",
       "</table>\n",
       "<p>382 rows × 4 columns</p>\n",
       "</div>"
      ],
      "text/plain": [
       "                           Composants  Étiquettes Priorité  \\\n",
       "0              IBM Planning Analytics  Applicatif     High   \n",
       "1                IBM Cognos Analytics     Support     High   \n",
       "2            IBM Infosphere Datastage     Support     High   \n",
       "3            IBM Infosphere Datastage     Support   Medium   \n",
       "4              IBM Planning Analytics  Applicatif   Medium   \n",
       "..                                ...         ...      ...   \n",
       "377              IBM Cognos Analytics     Support   Medium   \n",
       "378              IBM Cognos Analytics     Support      Low   \n",
       "379  IBM Planning Analytics Workspace     Support   Medium   \n",
       "380                               NaN     Support   Medium   \n",
       "381            IBM Planning Analytics     Support   Medium   \n",
       "\n",
       "                                           Description  \n",
       "0    Bonjour,\\n\\n \\n\\nPourriez-vous svp :\\n\\n# Corr...  \n",
       "1    Suite à notre montée de version Cognos et la m...  \n",
       "2    Bonjour,\\n\\nJe souhaite manipuler des fichiers...  \n",
       "3    Bonjour,\\n\\nJ’ai 2 jobs parallèle qui ont un c...  \n",
       "4    Bonjour, vous pouvez ajouter le champ poste au...  \n",
       "..                                                 ...  \n",
       "377  Bonjour,\\n\\nLa version Cognos que nous utiliso...  \n",
       "378  Bonjour,\\n\\nPourquoi sur certain rapports ou v...  \n",
       "379  Bonjour,\\n\\nJe n'arrive pas à me connecter à P...  \n",
       "380  Bonjour Christophe, Issam,\\n\\nVous sauriez nou...  \n",
       "381  Questions sur l'antivirus, le parefeu, ports a...  \n",
       "\n",
       "[382 rows x 4 columns]"
      ]
     },
     "execution_count": 51,
     "metadata": {},
     "output_type": "execute_result"
    }
   ],
   "source": [
    "jira"
   ]
  },
  {
   "cell_type": "code",
   "execution_count": 52,
   "metadata": {},
   "outputs": [],
   "source": [
    "from langchain_openai import ChatOpenAI\n"
   ]
  },
  {
   "cell_type": "code",
   "execution_count": 70,
   "metadata": {},
   "outputs": [],
   "source": [
    "def get_level(desc):\n",
    "    llm=ChatOpenAI(model=\"gpt-4o\")\n",
    "    prompt = f\"\"\"  \n",
    "\n",
    "        Instructions :\n",
    "\n",
    "        Vous êtes un expert en classification des tickets Jira. Votre tâche est de déterminer si un ticket Jira est de niveau 1 ou de niveau 2/3 en fonction de sa description.\n",
    "\n",
    "        Description du Ticket : \n",
    "        -------------------------\n",
    "        {desc}\n",
    "        -------------------------\n",
    "\n",
    "        Classification :\n",
    "\n",
    "        Niveau 1 : Les tickets de niveau 1 concernent des problèmes de base ou des demandes simples qui peuvent être résolus rapidement par le support de premier niveau.\n",
    "        Niveau 2/3 : Les tickets de niveau 2/3 concernent des problèmes plus complexes ou des demandes nécessitant une expertise technique avancée et une intervention du support de deuxième ou troisième niveau.\n",
    "        Réponse : [Insérez ici la classification du ticket : Niveau 1 ou Niveau 2/3]\n",
    "        \"\"\"\n",
    "    messages=[\n",
    "    (\n",
    "        \"system\",prompt,\n",
    "    ),\n",
    " \n",
    "    ]\n",
    "    ai_msg=llm.invoke(messages)\n",
    "    return ai_msg.content.replace(\"Réponse :\",\"\").strip()\n",
    "\n",
    "    \n",
    "    "
   ]
  },
  {
   "cell_type": "code",
   "execution_count": 72,
   "metadata": {},
   "outputs": [],
   "source": [
    "jira[\"Niveau\"]=jira[\"Description\"].apply(lambda x : get_level(x))"
   ]
  },
  {
   "cell_type": "code",
   "execution_count": 75,
   "metadata": {},
   "outputs": [],
   "source": [
    "# Fonction pour nettoyer les valeurs\n",
    "def clean_niveau(value):\n",
    "    if value.startswith('Niveau 1'):\n",
    "        return 'Niveau 1'\n",
    "    elif value.startswith('Niveau 2/3'):\n",
    "        return 'Niveau 2/3'\n",
    "    else:\n",
    "        return value\n",
    "\n",
    "# Appliquer la fonction à la colonne 'Niveau'\n",
    "jira['Niveau'] = jira['Niveau'].apply(clean_niveau)"
   ]
  },
  {
   "cell_type": "code",
   "execution_count": 76,
   "metadata": {},
   "outputs": [
    {
     "data": {
      "text/plain": [
       "array(['Niveau 2/3', 'Niveau 1'], dtype=object)"
      ]
     },
     "execution_count": 76,
     "metadata": {},
     "output_type": "execute_result"
    }
   ],
   "source": [
    "jira[\"Niveau\"].unique()"
   ]
  },
  {
   "cell_type": "code",
   "execution_count": 77,
   "metadata": {},
   "outputs": [],
   "source": [
    "jira.to_excel(\"jira.xlsx\",index=False)"
   ]
  },
  {
   "cell_type": "code",
   "execution_count": 15,
   "metadata": {},
   "outputs": [
    {
     "data": {
      "text/plain": [
       "{'Casual 1': {'Jean': [{'product_id': 'https://ntmb.it/cdn/shop/products/jeans-ultra-baggy-white-patchwork-215632.jpg?v=1694471136&width=3000'},\n",
       "   {'product_id': 'https://fr.sandro-paris.com/dw/image/v2/BCMW_PRD/on/demandware.static/-/Sites-master-catalog/default/dw03ae337a/images/packshot/Sandro_SHPJE00666-20_H_P.jpg?sw=650&sh=650'},\n",
       "   {'product_id': 'https://ntmb.it/cdn/shop/products/jeans-straight-baggy-patchwork-stars-blue-440117.jpg?v=1694470803&width=3000'}]},\n",
       " 'Casual 2': {'Pantalon': [{'product_id': 'https://ntmb.it/cdn/shop/products/tracksuit-deconstructed-cream-950144.jpg?v=1694471076&width=3000'},\n",
       "   {'product_id': 'https://fr.sandro-paris.com/dw/image/v2/BCMW_PRD/on/demandware.static/-/Sites-master-catalog/default/dwd0523785/images/packshot/Sandro_SHPPA01144-21_V_P.jpg?sw=650&sh=650'}],\n",
       "  'Bonnet': [{'product_id': 'https://wasted.fr/cdn/shop/files/brow-beanie-reverse-prey-809917.jpg?v=1737638763'},\n",
       "   {'product_id': 'https://wasted.fr/cdn/shop/files/brow-beanie-skylab-519514.jpg?v=1730547746'}]},\n",
       " 'Sportswear': {'Jogging': [{'product_id': 'https://wasted.fr/cdn/shop/files/jogging-kingdom-curve-485671.jpg?v=1737390235'},\n",
       "   {'product_id': 'https://fr.sandro-paris.com/dw/image/v2/BCMW_PRD/on/demandware.static/-/Sites-master-catalog/default/dwd7746937/images/packshot/Sandro_SHPJO00083-24_H_P.jpg?sw=650&sh=650'}],\n",
       "  'Hoodie': [{'product_id': 'https://ntmb.it/cdn/shop/products/hoodie-yeti-over-cream-824843.jpg?v=1695936517&width=3000'},\n",
       "   {'product_id': 'https://colorfulstandard.com/cdn/shop/files/CS1006_Male_Classic_Organic_Hood-WarmTaupe_2.jpg?v=1738329844&width=3000'},\n",
       "   {'product_id': 'https://nestorevintage.fr/cdn/shop/files/FDAFFB54-03EE-4095-9A91-390047103AD2.jpg?v=1731246938&width=2048'}]},\n",
       " 'Professionnel': {'Pantalon habillé': [{'product_id': 'https://fr.sandro-paris.com/dw/image/v2/BCMW_PRD/on/demandware.static/-/Sites-master-catalog/default/dw3fa150ac/images/packshot/Sandro_SHPPA01331-72_V_P.jpg?sw=650&sh=650'},\n",
       "   {'product_id': 'https://fr.sandro-paris.com/dw/image/v2/BCMW_PRD/on/demandware.static/-/Sites-master-catalog/default/dw0d2cd6c4/images/packshot/Sandro_SHPPA01454-G023_H_P.jpg?sw=650&sh=650'},\n",
       "   {'product_id': 'https://fr.sandro-paris.com/dw/image/v2/BCMW_PRD/on/demandware.static/-/Sites-master-catalog/default/dwee3e00cc/images/packshot/Sandro_SHPPA01456-44_H_P.jpg?sw=650&sh=650'}],\n",
       "  'Chemise': [{'product_id': 'https://fr.sandro-paris.com/dw/image/v2/BCMW_PRD/on/demandware.static/-/Sites-master-catalog/default/dwa3ccb640/images/packshot/Sandro_SHPCM01172-G023_H_P.jpg?sw=650&sh=650'},\n",
       "   {'product_id': 'https://fr.sandro-paris.com/dw/image/v2/BCMW_PRD/on/demandware.static/-/Sites-master-catalog/default/dw50261d68/images/packshot/Sandro_SHPCM01172-44_H_P.jpg?sw=650&sh=650'}]}}"
      ]
     },
     "execution_count": 15,
     "metadata": {},
     "output_type": "execute_result"
    }
   ],
   "source": [
    "out"
   ]
  },
  {
   "cell_type": "code",
   "execution_count": 30,
   "metadata": {},
   "outputs": [
    {
     "name": "stdout",
     "output_type": "stream",
     "text": [
      "Casual 1 - Jean\n",
      "https://ntmb.it/cdn/shop/products/jeans-ultra-baggy-white-patchwork-215632.jpg?v=1694471136&width=3000\n",
      "Casual 2 - Pantalon\n",
      "https://ntmb.it/cdn/shop/products/tracksuit-deconstructed-cream-950144.jpg?v=1694471076&width=3000\n",
      "Casual 2 - Bonnet\n",
      "https://wasted.fr/cdn/shop/files/brow-beanie-reverse-prey-809917.jpg?v=1737638763\n",
      "Sportswear - Jogging\n",
      "https://wasted.fr/cdn/shop/files/jogging-kingdom-curve-485671.jpg?v=1737390235\n",
      "Sportswear - Hoodie\n",
      "https://ntmb.it/cdn/shop/products/hoodie-yeti-over-cream-824843.jpg?v=1695936517&width=3000\n",
      "Professionnel - Pantalon habillé\n",
      "https://fr.sandro-paris.com/dw/image/v2/BCMW_PRD/on/demandware.static/-/Sites-master-catalog/default/dw3fa150ac/images/packshot/Sandro_SHPPA01331-72_V_P.jpg?sw=650&sh=650\n",
      "Professionnel - Chemise\n",
      "https://fr.sandro-paris.com/dw/image/v2/BCMW_PRD/on/demandware.static/-/Sites-master-catalog/default/dwa3ccb640/images/packshot/Sandro_SHPCM01172-G023_H_P.jpg?sw=650&sh=650\n"
     ]
    }
   ],
   "source": [
    "for category, items in out.items():\n",
    "\n",
    "    for item in items:\n",
    "        print(category,'-',item)\n",
    "        print(out[category][item][0][\"product_id\"])"
   ]
  },
  {
   "cell_type": "code",
   "execution_count": 19,
   "metadata": {},
   "outputs": [],
   "source": [
    "recommendations_outfit = outfit.get(\"Outfit\", {}).get(genre.get(\"category\"), {})"
   ]
  },
  {
   "cell_type": "code",
   "execution_count": 32,
   "metadata": {},
   "outputs": [
    {
     "name": "stdout",
     "output_type": "stream",
     "text": [
      "Casual 1 - Col roulé\n",
      "no match\n",
      "Casual 1 - Sneakers\n",
      "no match\n",
      "Casual 1 - Jean\n",
      "https://ntmb.it/cdn/shop/products/jeans-ultra-baggy-white-patchwork-215632.jpg?v=1694471136&width=3000\n",
      "Casual 1 - Casquette\n",
      "no match\n",
      "Casual 2 - Sweatshirt\n",
      "no match\n",
      "Casual 2 - Pantalon\n",
      "https://ntmb.it/cdn/shop/products/tracksuit-deconstructed-cream-950144.jpg?v=1694471076&width=3000\n",
      "Casual 2 - Sneakers\n",
      "no match\n",
      "Casual 2 - Bonnet\n",
      "https://wasted.fr/cdn/shop/files/brow-beanie-reverse-prey-809917.jpg?v=1737638763\n",
      "Sportswear - Jogging\n",
      "https://wasted.fr/cdn/shop/files/jogging-kingdom-curve-485671.jpg?v=1737390235\n",
      "Sportswear - Cargo\n",
      "no match\n",
      "Sportswear - Sneakers\n",
      "no match\n",
      "Sportswear - Sweatshirt\n",
      "no match\n",
      "Sportswear - Hoodie\n",
      "https://ntmb.it/cdn/shop/products/hoodie-yeti-over-cream-824843.jpg?v=1695936517&width=3000\n",
      "Sportswear - Casquette\n",
      "no match\n",
      "Professionnel - Pantalon habillé\n",
      "https://fr.sandro-paris.com/dw/image/v2/BCMW_PRD/on/demandware.static/-/Sites-master-catalog/default/dw3fa150ac/images/packshot/Sandro_SHPPA01331-72_V_P.jpg?sw=650&sh=650\n",
      "Professionnel - Col roulé\n",
      "no match\n",
      "Professionnel - Chemise\n",
      "https://fr.sandro-paris.com/dw/image/v2/BCMW_PRD/on/demandware.static/-/Sites-master-catalog/default/dwa3ccb640/images/packshot/Sandro_SHPCM01172-G023_H_P.jpg?sw=650&sh=650\n",
      "Professionnel - Mocassins\n",
      "no match\n",
      "Professionnel - Ceinture\n",
      "no match\n"
     ]
    }
   ],
   "source": [
    "for category, items in recommendations_outfit.items():\n",
    "    for item in items : \n",
    "        try:\n",
    "            link=out[category][item][0][\"product_id\"]\n",
    "        except:\n",
    "            link=\"no match\"\n",
    "        print(category,'-',item)\n",
    "        print(link)"
   ]
  },
  {
   "cell_type": "code",
   "execution_count": 2,
   "metadata": {},
   "outputs": [],
   "source": [
    "from utils import extract_colors_image,extract_colors_url,load_data_outfit_mapping,matching_products\n",
    "from imageAnalysis import ImageAnalysis\n",
    "\n",
    "\n",
    "image_analysis = ImageAnalysis()\n",
    "selected_image = None\n",
    "# Load outfit recommendations from YAML file\n",
    "\n",
    "load=load_data_outfit_mapping(data_path=\"data/data_preview_exploded.xlsx\",mapping_path=\"mapping/product_mapping.json\",outfit_path=\"configs/outfit.yaml\")\n",
    "# Load outfit recommendations\n",
    "outfit_config = load.load_outfit()\n",
    "data=load.load_dataset()"
   ]
  },
  {
   "cell_type": "code",
   "execution_count": 3,
   "metadata": {},
   "outputs": [],
   "source": [
    "def analyze_image(image_path):\n",
    "    if image_path is None:\n",
    "        return {\"error\": \"No image selected\"}, None, None, None\n",
    "    \n",
    "    # Analyze the image\n",
    "    try:\n",
    "        rulesParameters, processed_image,colors = image_analysis.display_analysis(image_path)\n",
    "        \n",
    "        # In a real implementation, you would detect the product type from the image\n",
    "        # For demonstration, we'll just use a simple detection that selects a random product type\n",
    "        import random\n",
    "        product_types = list(outfit_config.get(\"Outfit\", {}).keys())\n",
    "        if not product_types:\n",
    "            return {\"error\": \"No product types found in configuration\"}, processed_image, None, None\n",
    "        \n",
    "        # Simulating detection - in a real app, this would come from your image analysis\n",
    "        params = rulesParameters.get('extractedPictureElements', {})\n",
    "        detected_product = params.get('Product', 'Unknown')\n",
    "        \n",
    "        # Get recommendations for the detected product\n",
    "        recommendations_outfit = outfit_config.get(\"Outfit\", {}).get(detected_product, {})\n",
    "        \n",
    "        return rulesParameters, processed_image, colors,detected_product,recommendations_outfit\n",
    "    except Exception as e:\n",
    "        return {\"error\": f\"Error analyzing image: {str(e)}\"}, None, None, None, None"
   ]
  },
  {
   "cell_type": "code",
   "execution_count": 5,
   "metadata": {},
   "outputs": [],
   "source": [
    "image=\"data/images/t-shirt-acid-310415_2048x2048.jpg\""
   ]
  },
  {
   "cell_type": "code",
   "execution_count": 6,
   "metadata": {},
   "outputs": [],
   "source": [
    "rulesParameters, processed_image, colors,detected_product,recommendations_outfit=analyze_image(image)"
   ]
  },
  {
   "cell_type": "code",
   "execution_count": 7,
   "metadata": {},
   "outputs": [
    {
     "data": {
      "text/plain": [
       "{'Casual été': ['Jean', 'Lunettes', 'Sneakers'],\n",
       " 'Casual hiver': ['Jean',\n",
       "  'Sneakers',\n",
       "  'Cardigan',\n",
       "  'Parka',\n",
       "  'Manteau',\n",
       "  'Bonnet'],\n",
       " 'Sportswear': ['Jogging', 'Sneakers', 'Hoodie', 'Casquettes'],\n",
       " 'Professionnel': ['Chaussures de ville', 'Pantalon', 'Blazer', 'Ceinture']}"
      ]
     },
     "execution_count": 7,
     "metadata": {},
     "output_type": "execute_result"
    }
   ],
   "source": [
    "recommendations_outfit"
   ]
  },
  {
   "cell_type": "code",
   "execution_count": 8,
   "metadata": {},
   "outputs": [
    {
     "data": {
      "image/jpeg": "[encoded data removed]",
      "image/png": "[encoded data removed]",
      "text/plain": [
       "<PIL.Image.Image image mode=RGB size=100x100>"
      ]
     },
     "execution_count": 8,
     "metadata": {},
     "output_type": "execute_result"
    }
   ],
   "source": [
    "colors\n"
   ]
  },
  {
   "cell_type": "code",
   "execution_count": 9,
   "metadata": {},
   "outputs": [
    {
     "data": {
      "text/plain": [
       "'T-shirt'"
      ]
     },
     "execution_count": 9,
     "metadata": {},
     "output_type": "execute_result"
    }
   ],
   "source": [
    "detected_product"
   ]
  },
  {
   "cell_type": "code",
   "execution_count": 10,
   "metadata": {},
   "outputs": [],
   "source": [
    "rec=image_analysis.get_recommendation()"
   ]
  },
  {
   "cell_type": "code",
   "execution_count": 11,
   "metadata": {},
   "outputs": [
    {
     "data": {
      "text/plain": [
       "{'Casual été': {'Jean': [{'product_id': 'https://nestorevintage.fr/cdn/shop/files/IMG_8510.jpg?v=1734263492&width=2048'},\n",
       "   {'product_id': 'https://nestorevintage.fr/cdn/shop/files/IMG_2131.jpg?v=1715528599&width=2048'},\n",
       "   {'product_id': 'https://nestorevintage.fr/cdn/shop/files/22924F88-AC8D-4F9F-8EAA-7E04EBAC85ED.jpg?v=1737896499&width=2048'}],\n",
       "  'Lunettes': []},\n",
       " 'Casual hiver': {'Jean': [{'product_id': 'https://nestorevintage.fr/cdn/shop/files/IMG_8510.jpg?v=1734263492&width=2048'},\n",
       "   {'product_id': 'https://nestorevintage.fr/cdn/shop/files/IMG_2131.jpg?v=1715528599&width=2048'},\n",
       "   {'product_id': 'https://nestorevintage.fr/cdn/shop/files/22924F88-AC8D-4F9F-8EAA-7E04EBAC85ED.jpg?v=1737896499&width=2048'}],\n",
       "  'Bonnet': [{'product_id': 'https://wasted.fr/cdn/shop/files/brow-beanie-reverse-prey-809917.jpg?v=1737638763'},\n",
       "   {'product_id': 'https://wasted.fr/cdn/shop/files/brow-beanie-skylab-519514.jpg?v=1730547746'}]},\n",
       " 'Sportswear': {'Jogging': [{'product_id': 'https://wasted.fr/cdn/shop/files/jogging-kingdom-curve-485671.jpg?v=1737390235'},\n",
       "   {'product_id': 'https://fr.sandro-paris.com/dw/image/v2/BCMW_PRD/on/demandware.static/-/Sites-master-catalog/default/dwd7746937/images/packshot/Sandro_SHPJO00083-24_H_P.jpg?sw=650&sh=650'}],\n",
       "  'Hoodie': [{'product_id': 'https://ntmb.it/cdn/shop/products/hoodie-yeti-over-cream-824843.jpg?v=1695936517&width=3000'},\n",
       "   {'product_id': 'https://colorfulstandard.com/cdn/shop/files/CS1007_Male_ClassicOrganicZipHoodcopy-SteelBlue_2.jpg?v=1738230431&width=3000'},\n",
       "   {'product_id': 'https://nestorevintage.fr/cdn/shop/files/IMG_5724.jpg?v=1738778911&width=2048'}],\n",
       "  'Casquettes': [{'product_id': 'https://wasted.fr/cdn/shop/files/casquette-kingdom-curve-destroy-852617.jpg?v=1737390063'},\n",
       "   {'product_id': 'https://wasted.fr/cdn/shop/files/casquette-acid-896153.jpg?v=1721324267'},\n",
       "   {'product_id': 'https://wasted.fr/cdn/shop/files/casquette-blade-441367.jpg?v=1737638764'}]},\n",
       " 'Professionnel': {'Chaussures de ville': [{'product_id': 'https://nestorevintage.fr/cdn/shop/files/4A311D8C-8234-4003-A2B5-0DC8D3B9A093.jpg?v=1732473750&width=2048'},\n",
       "   {'product_id': 'https://wasted.fr/cdn/shop/products/safari-hat-hyde-250523.jpg?v=1680826639'}],\n",
       "  'Pantalon': [{'product_id': 'https://ntmb.it/cdn/shop/products/tracksuit-deconstructed-cream-950144.jpg?v=1694471076&width=3000'},\n",
       "   {'product_id': 'https://wasted.fr/cdn/shop/files/jean-casper-feeler-520139.jpg?v=1712661722'},\n",
       "   {'product_id': 'https://fr.sandro-paris.com/dw/image/v2/BCMW_PRD/on/demandware.static/-/Sites-master-catalog/default/dwe95e3934/images/packshot/Sandro_SHPPA01453-24_H_P.jpg?sw=650&sh=650'}],\n",
       "  'Blazer': [{'product_id': 'https://fr.sandro-paris.com/dw/image/v2/BCMW_PRD/on/demandware.static/-/Sites-master-catalog/default/dwf31f1aa1/images/packshot/Sandro_SHPVE01044-1611_H_P.jpg?sw=650&sh=650'},\n",
       "   {'product_id': 'https://fr.sandro-paris.com/dw/image/v2/BCMW_PRD/on/demandware.static/-/Sites-master-catalog/default/dw6b5a17e6/images/packshot/Sandro_SHPVE01010-24_H_P.jpg?sw=650&sh=650'}]}}"
      ]
     },
     "execution_count": 11,
     "metadata": {},
     "output_type": "execute_result"
    }
   ],
   "source": [
    "rec"
   ]
  },
  {
   "cell_type": "code",
   "execution_count": 18,
   "metadata": {},
   "outputs": [],
   "source": [
    "import pandas as pd \n",
    "data_ex=pd.read_excel(\"data/data_preview_exploded.xlsx\")"
   ]
  },
  {
   "cell_type": "code",
   "execution_count": 23,
   "metadata": {},
   "outputs": [
    {
     "data": {
      "text/plain": [
       "['T-shirt',\n",
       " 'Hoodie',\n",
       " 'Pull',\n",
       " 'Jean',\n",
       " 'Pantalon',\n",
       " 'Jogging',\n",
       " 'Veste',\n",
       " 'Doudoune',\n",
       " 'Jupe',\n",
       " 'Bonnet',\n",
       " 'Casquette',\n",
       " 'Chapeau',\n",
       " 'Short',\n",
       " 'Veste ',\n",
       " 'Sac bandoulière',\n",
       " 'Sac à main',\n",
       " 'Bob',\n",
       " 'Chemise',\n",
       " 'Pantalon habillé',\n",
       " 'Chino',\n",
       " 'short',\n",
       " 'Blazer',\n",
       " 'Robe',\n",
       " 'Manteau',\n",
       " 'Blouson',\n",
       " 'Trench',\n",
       " 'Cardigan',\n",
       " 'Col roulé',\n",
       " 'Top',\n",
       " 'top',\n",
       " 'Débardeur',\n",
       " 'chemise',\n",
       " 't shirt ',\n",
       " 'body',\n",
       " 't shirt',\n",
       " 'jean',\n",
       " 'pantalon habillé',\n",
       " 'jupe',\n",
       " 'sneakers',\n",
       " 'botte',\n",
       " 'Chaussures de ville',\n",
       " 'bottes',\n",
       " 'escarpin',\n",
       " 'Bottes',\n",
       " 'T-Shirt',\n",
       " 'Écharpe',\n",
       " 'Portefeuille',\n",
       " 'Sac de voyage',\n",
       " 'Lunettes',\n",
       " 'Sac à dos']"
      ]
     },
     "execution_count": 23,
     "metadata": {},
     "output_type": "execute_result"
    }
   ],
   "source": [
    "data_ex[\"Catégorie produit\"].unique().tolist()"
   ]
  },
  {
   "cell_type": "code",
   "execution_count": 43,
   "metadata": {},
   "outputs": [],
   "source": [
    "prod=list(outfit[\"Outfit\"].keys())"
   ]
  },
  {
   "cell_type": "code",
   "execution_count": 46,
   "metadata": {},
   "outputs": [
    {
     "name": "stdout",
     "output_type": "stream",
     "text": [
      "Catégorie corrigée : Chaussures de ville\n"
     ]
    }
   ],
   "source": [
    "from Levenshtein import distance\n",
    "\n",
    "def corriger_categorie(categorie, liste_produits):\n",
    "    \"\"\"Corrige les fautes de frappe dans une catégorie.\"\"\"\n",
    "    meilleure_correspondance = categorie\n",
    "    distance_min = float('inf')\n",
    "\n",
    "    for produit in liste_produits:\n",
    "        dist = distance(categorie.lower(), produit.lower())\n",
    "        if dist < distance_min:\n",
    "            distance_min = dist\n",
    "            meilleure_correspondance = produit\n",
    "\n",
    "    return meilleure_correspondance\n",
    "\n",
    "# Exemple d'utilisation\n",
    "liste_produits = prod # Votre liste de produits\n",
    "categorie_dataset = 'chausure ville'  # Exemple de catégorie avec faute de frappe\n",
    "\n",
    "categorie_corrigee = corriger_categorie(categorie_dataset, liste_produits)\n",
    "print(f\"Catégorie corrigée : {categorie_corrigee}\")"
   ]
  },
  {
   "cell_type": "code",
   "execution_count": 34,
   "metadata": {},
   "outputs": [],
   "source": [
    "data_copy=data_ex.copy()"
   ]
  },
  {
   "cell_type": "code",
   "execution_count": 47,
   "metadata": {},
   "outputs": [],
   "source": [
    "data_copy['Catégorie produit'] = data_copy['Catégorie produit'].apply(lambda x : corriger_categorie(x,prod))\n"
   ]
  },
  {
   "cell_type": "code",
   "execution_count": 40,
   "metadata": {},
   "outputs": [
    {
     "data": {
      "text/plain": [
       "Catégorie produit\n",
       "Hoodie                 753\n",
       "T-shirt                480\n",
       "Jean                   402\n",
       "Pull                   382\n",
       "Short                  152\n",
       "T-Shirt                137\n",
       "Veste                   99\n",
       "Jogging                 90\n",
       "Robe                    64\n",
       "Pantalon                58\n",
       "chemise                 56\n",
       "Sac bandoulière         49\n",
       "Bonnet                  46\n",
       "Sac à main              45\n",
       "Chapeau                 44\n",
       "jupe                    43\n",
       "Veste                   40\n",
       "Cardigan                36\n",
       "Bob                     30\n",
       "short                   27\n",
       "Chemise                 25\n",
       "Portefeuille            24\n",
       "jean                    21\n",
       "Blazer                  20\n",
       "Manteau                 19\n",
       "Casquette               18\n",
       "Pantalon habillé        18\n",
       "t shirt                 15\n",
       "Doudoune                15\n",
       "Blouson                 14\n",
       "top                     14\n",
       "Écharpe                  8\n",
       "Chaussures de ville      8\n",
       "pantalon habillé         7\n",
       "bottes                   7\n",
       "sneakers                 6\n",
       "Sac à dos                6\n",
       "body                     5\n",
       "Col roulé                4\n",
       "botte                    2\n",
       "Débardeur                2\n",
       "Top                      2\n",
       "Chino                    2\n",
       "Jupe                     2\n",
       "Sac de voyage            2\n",
       "Lunettes                 2\n",
       "Trench                   2\n",
       "t shirt                  1\n",
       "escarpin                 1\n",
       "Bottes                   1\n",
       "Name: count, dtype: int64"
      ]
     },
     "execution_count": 40,
     "metadata": {},
     "output_type": "execute_result"
    }
   ],
   "source": [
    "data_ex[\"Catégorie produit\"].value_counts()"
   ]
  },
  {
   "cell_type": "code",
   "execution_count": 48,
   "metadata": {},
   "outputs": [
    {
     "data": {
      "text/plain": [
       "Catégorie produit\n",
       "Hoodie                 768\n",
       "T-shirt                633\n",
       "Jean                   423\n",
       "Pull                   406\n",
       "Short                  179\n",
       "Veste                  139\n",
       "Robe                    94\n",
       "Jogging                 90\n",
       "Chemise                 89\n",
       "Cardigan                81\n",
       "Manteau                 63\n",
       "Pantalons               58\n",
       "Bottes                  58\n",
       "Sandales                49\n",
       "Jupe                    45\n",
       "Pantalon habillé        25\n",
       "Polo                    21\n",
       "Blazer                  20\n",
       "Costume                 18\n",
       "Blouson                 14\n",
       "Chaussures de ville      8\n",
       "Chinos                   8\n",
       "Sneakers                 6\n",
       "Col roulé                4\n",
       "Tailleur                 2\n",
       "Trench                   2\n",
       "Robe de soirée           2\n",
       "Escarpins                1\n",
       "Name: count, dtype: int64"
      ]
     },
     "execution_count": 48,
     "metadata": {},
     "output_type": "execute_result"
    }
   ],
   "source": [
    "data_copy[\"Catégorie produit\"].value_counts()"
   ]
  },
  {
   "cell_type": "code",
   "execution_count": 52,
   "metadata": {},
   "outputs": [
    {
     "name": "stdout",
     "output_type": "stream",
     "text": [
      "['https://fr.sandro-paris.com/dw/image/v2/BCMW_PRD/on/demandware.static/-/Sites-master-catalog/default/dw1e981db8/images/packshot/Sandro_SFACH01136-20_F_P.jpg?sw=650&sh=650', 'https://fr.sandro-paris.com/dw/image/v2/BCMW_PRD/on/demandware.static/-/Sites-master-catalog/default/dw1e981db8/images/packshot/Sandro_SFACH01136-20_F_P.jpg?sw=650&sh=650', 'https://fr.sandro-paris.com/dw/image/v2/BCMW_PRD/on/demandware.static/-/Sites-master-catalog/default/dwb2989025/images/packshot/Sandro_SFACH01172-34_F_P.jpg?sw=650&sh=650', 'https://fr.sandro-paris.com/dw/image/v2/BCMW_PRD/on/demandware.static/-/Sites-master-catalog/default/dwb2989025/images/packshot/Sandro_SFACH01172-34_F_P.jpg?sw=650&sh=650', 'https://fr.sandro-paris.com/dw/image/v2/BCMW_PRD/on/demandware.static/-/Sites-master-catalog/default/dwb48c826b/images/packshot/Sandro_SFACH01180-16_F_P.jpg?sw=650&sh=650', 'https://fr.sandro-paris.com/dw/image/v2/BCMW_PRD/on/demandware.static/-/Sites-master-catalog/default/dwb48c826b/images/packshot/Sandro_SFACH01180-16_F_P.jpg?sw=650&sh=650', 'https://fr.sandro-paris.com/dw/image/v2/BCMW_PRD/on/demandware.static/-/Sites-master-catalog/default/dw86277013/images/packshot/Sandro_SFACH01184-G023_F_P.jpg?sw=650&sh=650', 'https://fr.sandro-paris.com/dw/image/v2/BCMW_PRD/on/demandware.static/-/Sites-master-catalog/default/dw86277013/images/packshot/Sandro_SFACH01184-G023_F_P.jpg?sw=650&sh=650']\n"
     ]
    }
   ],
   "source": [
    "print(data_copy[data_copy[\"Catégorie produit\"]==\"Chaussures de ville\"][\"Photo produit 1\"].tolist())"
   ]
  },
  {
   "cell_type": "code",
   "execution_count": 55,
   "metadata": {},
   "outputs": [],
   "source": [
    "def get_level(prod,input):\n",
    "    llm=ChatOpenAI(model=\"gpt-4o\")\n",
    "    prompt = f\"\"\"  \n",
    "\n",
    "        Instructions :\n",
    "\n",
    "        Vous êtes un expert en matching des textes. Votre tâche est matcher l'input avec une catégorie dans la liste donné.\n",
    "\n",
    "        listes des catégories : \n",
    "        -------------------------\n",
    "        {prod}\n",
    "        -------------------------\n",
    "\n",
    "        input : {input}\n",
    "        Réponse : \n",
    "        \"\"\"\n",
    "    messages=[\n",
    "    (\n",
    "        \"system\",prompt,\n",
    "    ),\n",
    " \n",
    "    ]\n",
    "    ai_msg=llm.invoke(messages)\n",
    "    return ai_msg.content\n",
    "\n",
    "    \n",
    "    "
   ]
  },
  {
   "cell_type": "code",
   "execution_count": 57,
   "metadata": {},
   "outputs": [
    {
     "data": {
      "text/plain": [
       "'Chaussures de ville'"
      ]
     },
     "execution_count": 57,
     "metadata": {},
     "output_type": "execute_result"
    }
   ],
   "source": [
    "from langchain_openai import ChatOpenAI\n",
    "from dotenv import load_dotenv\n",
    "load_dotenv()\n",
    "get_level(prod,\"chau. ville\")"
   ]
  },
  {
   "cell_type": "code",
   "execution_count": null,
   "metadata": {},
   "outputs": [],
   "source": []
  }
 ],
 "metadata": {
  "kernelspec": {
   "display_name": "clothes",
   "language": "python",
   "name": "python3"
  },
  "language_info": {
   "codemirror_mode": {
    "name": "ipython",
    "version": 3
   },
   "file_extension": ".py",
   "mimetype": "text/x-python",
   "name": "python",
   "nbconvert_exporter": "python",
   "pygments_lexer": "ipython3",
   "version": "3.11.11"
  }
 },
 "nbformat": 4,
 "nbformat_minor": 2
}
