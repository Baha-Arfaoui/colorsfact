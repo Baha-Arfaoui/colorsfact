{
 "cells": [
  {
   "cell_type": "code",
   "execution_count": 2,
   "metadata": {},
   "outputs": [],
   "source": [
    "import pandas as pd \n",
    "from utils import extract_colors_image,extract_colors_url"
   ]
  },
  {
   "cell_type": "code",
   "execution_count": 3,
   "metadata": {},
   "outputs": [
    {
     "name": "stderr",
     "output_type": "stream",
     "text": [
      "c:\\Users\\BahaARFAOUI\\OneDrive - CBTW\\Bureau\\colorfact\\colorfact\\utils.py:80: RuntimeWarning: overflow encountered in scalar subtract\n",
      "  a_std = float(a_opencv - 128)\n"
     ]
    }
   ],
   "source": [
    "url=extract_colors_url(\"https://nestorevintage.fr/cdn/shop/files/307FDA5D-D3FB-48D6-8DA2-2478DF104BD3.jpg?v=1738348432&width=2048\")"
   ]
  },
  {
   "cell_type": "code",
   "execution_count": 4,
   "metadata": {},
   "outputs": [
    {
     "data": {
      "text/plain": [
       "[[58.03921568627452, 251.0, 26.0], [46.27450980392157, 253.0, 23.0]]"
      ]
     },
     "execution_count": 4,
     "metadata": {},
     "output_type": "execute_result"
    }
   ],
   "source": [
    "url.colors"
   ]
  },
  {
   "cell_type": "code",
   "execution_count": 4,
   "metadata": {},
   "outputs": [],
   "source": [
    "image=extract_colors_image(image_path=\"data/doudoune.png\")"
   ]
  },
  {
   "cell_type": "code",
   "execution_count": 5,
   "metadata": {},
   "outputs": [
    {
     "data": {
      "text/plain": [
       "[[40.3921568627451, -7.0, 6.0], [23.52941176470588, -7.0, 6.0]]"
      ]
     },
     "execution_count": 5,
     "metadata": {},
     "output_type": "execute_result"
    }
   ],
   "source": [
    "image.colors"
   ]
  },
  {
   "cell_type": "code",
   "execution_count": 6,
   "metadata": {},
   "outputs": [],
   "source": [
    "im=image.remove_background_grabcut()"
   ]
  },
  {
   "cell_type": "code",
   "execution_count": 20,
   "metadata": {},
   "outputs": [],
   "source": [
    "import pandas as pd\n",
    "data=pd.read_excel(\"data/final_data.xlsx\")"
   ]
  },
  {
   "cell_type": "code",
   "execution_count": 21,
   "metadata": {},
   "outputs": [],
   "source": [
    "data=data.drop(\"Unnamed: 0\",axis=1)"
   ]
  },
  {
   "cell_type": "code",
   "execution_count": 5,
   "metadata": {},
   "outputs": [],
   "source": [
    "import pandas as pd\n",
    "import concurrent.futures\n",
    "from tqdm import tqdm\n",
    "\n",
    "def process_image(image_url):\n",
    "    \"\"\"Extracts dominant colors from an image URL.\"\"\"\n",
    "    try:\n",
    "        color_extractor = extract_colors_url(image_url)\n",
    "        return color_extractor.colors\n",
    "    except Exception as e:\n",
    "        print(f\"Error processing {image_url}: {str(e)}\")\n",
    "        return None\n",
    "\n",
    "def process_dataset(df: pd.DataFrame, num_workers=8) -> pd.DataFrame:\n",
    "    \"\"\"\n",
    "    Processes a dataset containing image links and adds a 'cielab_colors' column\n",
    "    with the dominant colors extracted from each image using multithreading.\n",
    "\n",
    "    Args:\n",
    "        df (pd.DataFrame): Input dataframe containing a 'Photo produit' column.\n",
    "        num_workers (int): Number of threads for parallel processing.\n",
    "\n",
    "    Returns:\n",
    "        pd.DataFrame: Modified dataframe with 'cielab_colors' column added.\n",
    "    \"\"\"\n",
    "    if not isinstance(df, pd.DataFrame):\n",
    "        raise ValueError(\"Input must be a pandas DataFrame\")\n",
    "\n",
    "    if 'Photo produit 1' not in df.columns:\n",
    "        raise ValueError(\"DataFrame must contain a 'Photo produit' column\")\n",
    "\n",
    "    image_urls = df['Photo produit 1'].tolist()\n",
    "\n",
    "    # Process images in parallel\n",
    "    with concurrent.futures.ThreadPoolExecutor(max_workers=num_workers) as executor:\n",
    "        results = list(tqdm(executor.map(process_image, image_urls), total=len(image_urls)))\n",
    "\n",
    "    df['cielab_colors'] = results\n",
    "    return df\n",
    "\n",
    "# Example usage:\n",
    "#df_processed = process_dataset(df_corrected, num_workers=8)\n"
   ]
  },
  {
   "cell_type": "code",
   "execution_count": 14,
   "metadata": {},
   "outputs": [],
   "source": [
    "df_processed_2=data.iloc[1150:1350,:]"
   ]
  },
  {
   "cell_type": "code",
   "execution_count": null,
   "metadata": {},
   "outputs": [
    {
     "name": "stderr",
     "output_type": "stream",
     "text": [
      "  0%|          | 0/200 [00:00<?, ?it/s]"
     ]
    },
    {
     "name": "stderr",
     "output_type": "stream",
     "text": [
      " 36%|███▌      | 72/200 [59:01<4:59:47, 140.53s/it]"
     ]
    },
    {
     "name": "stdout",
     "output_type": "stream",
     "text": [
      "Error processing https://images.stockx.com/images/New-Balance-M2002-Protection-Pack-Rain-Cloud-Product.jpg?fit=fill&bg=FFFFFF&w=140&h=75&q=60&dpr=1&trim=color&updated_at=1738193358: Found array with 0 sample(s) (shape=(0, 3)) while a minimum of 1 is required by KMeans.\n",
      "Error processing https://images.stockx.com/images/New-Balance-1906R-White-Gold-Product.jpg?fit=fill&bg=FFFFFF&w=140&h=75&q=60&dpr=1&trim=color&updated_at=1738193358: Found array with 0 sample(s) (shape=(0, 3)) while a minimum of 1 is required by KMeans.\n"
     ]
    },
    {
     "name": "stderr",
     "output_type": "stream",
     "text": [
      " 40%|████      | 80/200 [1:27:02<5:00:44, 150.37s/it] "
     ]
    }
   ],
   "source": [
    "df_processed_2_pro = process_dataset(df_processed_2, num_workers=8)\n"
   ]
  },
  {
   "cell_type": "code",
   "execution_count": 13,
   "metadata": {},
   "outputs": [],
   "source": [
    "df_processed_2_pro.to_excel(\"data/data_1050_1150.xlsx\")"
   ]
  },
  {
   "cell_type": "code",
   "execution_count": 3,
   "metadata": {},
   "outputs": [],
   "source": [
    "import faiss \n",
    "import numpy as np \n",
    "import pandas as pd "
   ]
  },
  {
   "cell_type": "code",
   "execution_count": 22,
   "metadata": {},
   "outputs": [],
   "source": [
    "data_prev=pd.read_excel(\"data/data_preview_exploded.xlsx\")"
   ]
  },
  {
   "cell_type": "code",
   "execution_count": 23,
   "metadata": {},
   "outputs": [],
   "source": [
    "data_prev=data_prev.drop(\"Unnamed: 0\",axis=1)"
   ]
  },
  {
   "cell_type": "code",
   "execution_count": 6,
   "metadata": {},
   "outputs": [],
   "source": [
    "def lab_to_lch(lab):\n",
    "        L, a, b = lab\n",
    "        C = np.sqrt(a**2 + b**2)\n",
    "        H = np.degrees(np.arctan2(b, a)) % 360  # Normalisation correcte\n",
    "        return [L, C, H]\n",
    "\n",
    "def lch_to_lab(lch):\n",
    "    L, C, H = lch\n",
    "    a = C * np.cos(np.radians(H))\n",
    "    b = C * np.sin(np.radians(H))\n",
    "    return [L, a, b]\n",
    "\n",
    "def generate_harmonic_colors(input_colors_lab):\n",
    "\n",
    "    input_colors_lch = [lab_to_lch(color) for color in input_colors_lab]\n",
    "    num_colors = len(input_colors_lab)\n",
    "\n",
    "    if num_colors == 1:\n",
    "        L, C, H = input_colors_lch[0]\n",
    "        triad1 = lch_to_lab([L, C, (H + 120) % 360])\n",
    "        triad2 = lch_to_lab([L, C, (H + 240) % 360])\n",
    "        return input_colors_lab + [triad1, triad2]\n",
    "\n",
    "    elif num_colors == 2:\n",
    "        chosen_idx = np.random.choice([0, 1])\n",
    "        L, C, H = input_colors_lch[chosen_idx]\n",
    "        complementary = lch_to_lab([L, C, (H + 180) % 360])\n",
    "        return input_colors_lab + [complementary]\n",
    "\n",
    "    elif num_colors == 3:\n",
    "        chosen_indices = np.random.choice([0, 1, 2], size=2, replace=False)\n",
    "        selected_colors = [input_colors_lab[i] for i in chosen_indices]\n",
    "        return selected_colors\n",
    "\n",
    "    return input_colors_lab"
   ]
  },
  {
   "cell_type": "code",
   "execution_count": 1,
   "metadata": {},
   "outputs": [],
   "source": [
    "import yaml\n",
    "from pyprojroot import here\n",
    "with open(here(\"colorfact/configs/outfit.yaml\")) as cfg:\n",
    "    outfit = yaml.load(cfg, Loader=yaml.FullLoader)"
   ]
  },
  {
   "cell_type": "code",
   "execution_count": 8,
   "metadata": {},
   "outputs": [
    {
     "data": {
      "text/plain": [
       "Index(['Photo produit 1', 'Photo produit 2 ', 'Nom produit ', 'Lien achat',\n",
       "       'Catégorie produit', 'Genre', 'cielab_colors'],\n",
       "      dtype='object')"
      ]
     },
     "execution_count": 8,
     "metadata": {},
     "output_type": "execute_result"
    }
   ],
   "source": [
    "data.columns"
   ]
  },
  {
   "cell_type": "code",
   "execution_count": 115,
   "metadata": {},
   "outputs": [],
   "source": [
    "import ast\n",
    "import numpy as np\n",
    "import faiss\n",
    "\n",
    "def recommend_outfit(input_category, data, input_colors, outfit_type, ontology, top_k=3):\n",
    "    try:\n",
    "        required_items = ontology[\"Outfit\"][input_category][outfit_type]\n",
    "    except KeyError as e:\n",
    "        raise ValueError(f\"Invalid category or outfit type: {str(e)}\")\n",
    "\n",
    "    recommendations = {}\n",
    "    similarity_threshold = 0.2  # 90% similarity\n",
    "\n",
    "    # Generate harmonized colors for input\n",
    "    input_colors = generate_harmonic_colors(input_colors)\n",
    "    query_colors = np.array(input_colors, dtype=\"float32\")\n",
    "    faiss.normalize_L2(query_colors)\n",
    "\n",
    "    for item_category in required_items:\n",
    "        # Filter data for the given category\n",
    "        filtered_data = data[data[\"Catégorie produit\"] == item_category].copy()\n",
    "\n",
    "        # Ensure cielab_colors is correctly formatted\n",
    "        filtered_data[\"cielab_colors\"] = filtered_data[\"cielab_colors\"].apply(ast.literal_eval)\n",
    "        filtered_data.dropna(inplace=True)\n",
    "        filtered_data[\"cielab_colors\"] = filtered_data[\"cielab_colors\"].apply(tuple)\n",
    "        filtered_data.drop_duplicates(inplace=True)\n",
    "\n",
    "        # Convert to NumPy array\n",
    "        vectors = np.array([list(t) for t in filtered_data[\"cielab_colors\"]], dtype=\"float32\")\n",
    "        if vectors.shape[0] == 0:\n",
    "            continue  # Skip if no data available\n",
    "\n",
    "        # Normalize and create FAISS index\n",
    "        faiss.normalize_L2(vectors)\n",
    "        index = faiss.IndexFlatL2(vectors.shape[1])\n",
    "        index.add(vectors)\n",
    "\n",
    "        # Search for closest matches\n",
    "        distances, indices = index.search(query_colors, top_k)\n",
    "\n",
    "        seen_ids = set()\n",
    "        matches = []\n",
    "\n",
    "        for i in range(indices.shape[0]):\n",
    "            for j in range(indices.shape[1]):\n",
    "                idx = indices[i][j]\n",
    "                if idx >= len(filtered_data) or distances[i][j] > similarity_threshold:\n",
    "                    continue  # Skip invalid or low-similarity matches\n",
    "\n",
    "                product_id = filtered_data.iloc[idx][\"Photo produit 1\"]\n",
    "                if product_id not in seen_ids:\n",
    "                    seen_ids.add(product_id)\n",
    "                    matches.append({\n",
    "                        \"product_id\": product_id,\n",
    "                        \"distance\": distances[i][j],\n",
    "                        \"metadata\": filtered_data.iloc[idx].to_dict(),\n",
    "                    })\n",
    "                \n",
    "                if len(matches) >= top_k:\n",
    "                    break  # Stop early if enough matches are found\n",
    "\n",
    "        recommendations[item_category] = matches\n",
    "\n",
    "    return recommendations\n"
   ]
  },
  {
   "cell_type": "code",
   "execution_count": 111,
   "metadata": {},
   "outputs": [],
   "source": [
    "top_k=3\n",
    "input_colors=[[49.80392156862745, -17.0, -10.0], [41.568627450980394, -16.0, -9.0]]\n"
   ]
  },
  {
   "cell_type": "code",
   "execution_count": 2,
   "metadata": {},
   "outputs": [],
   "source": [
    "import json\n",
    "import unidecode\n",
    "from rapidfuzz import fuzz, process\n",
    "from pyprojroot import here\n",
    "with open(here(\"colorfact/mapping/product_mapping.json\"), \"r\", encoding=\"utf-8\") as f:\n",
    "    saved_mapping = json.load(f)\n",
    "# Load mapping dictionary\n",
    "mapping = saved_mapping\n",
    "\n",
    "# Normalize keys in mapping for case-insensitive lookup\n",
    "normalized_mapping = {unidecode.unidecode(k.lower().strip()): v for k, v in mapping.items()}\n",
    "\n",
    "# Function to normalize input\n",
    "def normalize_text(text):\n",
    "    text = text.lower().strip()  # Lowercase and remove extra spaces\n",
    "    text = unidecode.unidecode(text)  # Remove accents (é -> e)\n",
    "    text = text.replace(\"-\", \" \").replace(\"_\", \" \")  # Replace dashes and underscores with spaces\n",
    "    return text\n",
    "\n",
    "# Function to find best match using fuzzy matching\n",
    "def fuzzy_map(input_text, threshold=80):\n",
    "    input_text = normalize_text(input_text)\n",
    "\n",
    "    # 1. Exact match in normalized dictionary\n",
    "    if input_text in normalized_mapping:\n",
    "        return normalized_mapping[input_text]\n",
    "\n",
    "    # 2. Fuzzy match (token-based for better accuracy)\n",
    "    best_match, score, _ = process.extractOne(input_text, normalized_mapping.keys(), scorer=fuzz.token_sort_ratio)\n",
    "\n",
    "    if score >= threshold:\n",
    "        return normalized_mapping[best_match]\n",
    "\n",
    "    return \"No Match\"  # No good match found"
   ]
  },
  {
   "cell_type": "code",
   "execution_count": 27,
   "metadata": {},
   "outputs": [],
   "source": [
    "data_prev['Catégorie produit'] = data_prev['Catégorie produit'].apply(fuzzy_map)"
   ]
  },
  {
   "cell_type": "code",
   "execution_count": 116,
   "metadata": {},
   "outputs": [
    {
     "data": {
      "text/plain": [
       "{'Jean': [{'product_id': 'https://nestorevintage.fr/cdn/shop/files/IMG_96513.jpg?v=1713712617&width=2048',\n",
       "   'distance': 0.03934524,\n",
       "   'metadata': {'Photo produit 1': 'https://nestorevintage.fr/cdn/shop/files/IMG_96513.jpg?v=1713712617&width=2048',\n",
       "    'Photo produit 2 ': 'https://nestorevintage.fr/cdn/shop/files/IMG_96543.jpg?v=1713712645&width=2048',\n",
       "    'Nom produit\\xa0': 'Jean baggy Bape (XL)',\n",
       "    'Lien achat': 'https://nestorevintage.fr/products/jean-baggy-bape-6',\n",
       "    'Catégorie produit': 'Jean',\n",
       "    'Genre': 'H',\n",
       "    'cielab_colors': (39.21568627450981, -5.0, -8.0)}},\n",
       "  {'product_id': 'https://nestorevintage.fr/cdn/shop/files/ABE348CC-E537-4682-A63F-34D8C26706E1.jpg?v=1737289311&width=2048',\n",
       "   'distance': 0.040083643,\n",
       "   'metadata': {'Photo produit 1': 'https://nestorevintage.fr/cdn/shop/files/ABE348CC-E537-4682-A63F-34D8C26706E1.jpg?v=1737289311&width=2048',\n",
       "    'Photo produit 2 ': 'https://nestorevintage.fr/cdn/shop/files/29550E9D-84BC-4F79-9A7A-1C6682C40516.jpg?v=1737289311&width=2048',\n",
       "    'Nom produit\\xa0': 'Jean baggy style Karakuri (S)',\n",
       "    'Lien achat': 'https://nestorevintage.fr/products/jean-baggy-style-karakuri-3',\n",
       "    'Catégorie produit': 'Jean',\n",
       "    'Genre': 'H',\n",
       "    'cielab_colors': (39.6078431372549, -5.0, -7.0)}},\n",
       "  {'product_id': 'https://nestorevintage.fr/cdn/shop/files/IMG_2131.jpg?v=1715528599&width=2048',\n",
       "   'distance': 0.041776143,\n",
       "   'metadata': {'Photo produit 1': 'https://nestorevintage.fr/cdn/shop/files/IMG_2131.jpg?v=1715528599&width=2048',\n",
       "    'Photo produit 2 ': 'https://nestorevintage.fr/cdn/shop/files/IMG_2133.jpg?v=1715528607&width=2048',\n",
       "    'Nom produit\\xa0': 'Jean baggy Christian Audigier (M)',\n",
       "    'Lien achat': 'https://nestorevintage.fr/products/jean-baggy-christian-audigier-2',\n",
       "    'Catégorie produit': 'Jean',\n",
       "    'Genre': 'H',\n",
       "    'cielab_colors': (18.03921568627451, -3.0, -6.0)}},\n",
       "  {'product_id': 'https://wasted.fr/cdn/shop/files/jean-casper-sandblast-586531.jpg?v=1737390217',\n",
       "   'distance': 0.05378605,\n",
       "   'metadata': {'Photo produit 1': 'https://wasted.fr/cdn/shop/files/jean-casper-sandblast-586531.jpg?v=1737390217',\n",
       "    'Photo produit 2 ': '-',\n",
       "    'Nom produit\\xa0': 'Jean Casper Sandblast',\n",
       "    'Lien achat': 'https://wasted.fr/collections/pantalons-homme/products/jean-casper-sandblast',\n",
       "    'Catégorie produit': 'Jean',\n",
       "    'Genre': 'H ',\n",
       "    'cielab_colors': (14.117647058823529, 2.0, 4.0)}}],\n",
       " 'Lunettes': [{'product_id': 'https://nestorevintage.fr/cdn/shop/files/623B3473-757C-4EF2-9B92-B5562319F517.jpg?v=1725199435&width=2048',\n",
       "   'distance': 0.15584797,\n",
       "   'metadata': {'Photo produit 1': 'https://nestorevintage.fr/cdn/shop/files/623B3473-757C-4EF2-9B92-B5562319F517.jpg?v=1725199435&width=2048',\n",
       "    'Photo produit 2 ': 'https://nestorevintage.fr/cdn/shop/files/9B299CE3-0057-4DC8-A2A5-00D1DB3764D2.jpg?v=1725199435&width=2048',\n",
       "    'Nom produit\\xa0': 'Lunettes de soleil Prada Sport',\n",
       "    'Lien achat': 'https://nestorevintage.fr/products/lunettes-de-soleil-prada-sport',\n",
       "    'Catégorie produit': 'Lunettes',\n",
       "    'Genre': 'H/F',\n",
       "    'cielab_colors': (34.90196078431372, 12.0, 25.0)}}],\n",
       " 'Sneakers': [{'product_id': 'https://fr.sandro-paris.com/dw/image/v2/BCMW_PRD/on/demandware.static/-/Sites-master-catalog/default/dwe4d5ac03/images/packshot/Sandro_SFACH01164-47_F_P.jpg?sw=650&sh=650',\n",
       "   'distance': 0.11775888,\n",
       "   'metadata': {'Photo produit 1': 'https://fr.sandro-paris.com/dw/image/v2/BCMW_PRD/on/demandware.static/-/Sites-master-catalog/default/dwe4d5ac03/images/packshot/Sandro_SFACH01164-47_F_P.jpg?sw=650&sh=650',\n",
       "    'Photo produit 2 ': '-',\n",
       "    'Nom produit\\xa0': 'Baskets Flame',\n",
       "    'Lien achat': 'https://fr.sandro-paris.com/fr/p/baskets-flame/SFACH01164_47.html',\n",
       "    'Catégorie produit': 'Sneakers',\n",
       "    'Genre': 'F',\n",
       "    'cielab_colors': (50.588235294117645, 1.0, -8.0)}},\n",
       "  {'product_id': 'https://fr.sandro-paris.com/dw/image/v2/BCMW_PRD/on/demandware.static/-/Sites-master-catalog/default/dw5279f87f/images/packshot/Sandro_SFACH00860-20_V_P.jpg?sw=650&sh=650',\n",
       "   'distance': 0.15400456,\n",
       "   'metadata': {'Photo produit 1': 'https://fr.sandro-paris.com/dw/image/v2/BCMW_PRD/on/demandware.static/-/Sites-master-catalog/default/dw5279f87f/images/packshot/Sandro_SFACH00860-20_V_P.jpg?sw=650&sh=650',\n",
       "    'Photo produit 2 ': '-',\n",
       "    'Nom produit\\xa0': 'Baskets Flame',\n",
       "    'Lien achat': 'https://fr.sandro-paris.com/fr/p/baskets-flame/SFACH00860_20.html',\n",
       "    'Catégorie produit': 'Sneakers',\n",
       "    'Genre': 'F',\n",
       "    'cielab_colors': (89.80392156862746, 0.0, 3.0)}},\n",
       "  {'product_id': 'https://fr.sandro-paris.com/dw/image/v2/BCMW_PRD/on/demandware.static/-/Sites-master-catalog/default/dw7a539853/images/packshot/Sandro_SFACH01186-10_F_P.jpg?sw=650&sh=650',\n",
       "   'distance': 0.14584889,\n",
       "   'metadata': {'Photo produit 1': 'https://fr.sandro-paris.com/dw/image/v2/BCMW_PRD/on/demandware.static/-/Sites-master-catalog/default/dw7a539853/images/packshot/Sandro_SFACH01186-10_F_P.jpg?sw=650&sh=650',\n",
       "    'Photo produit 2 ': '-',\n",
       "    'Nom produit\\xa0': 'Baskets Flame',\n",
       "    'Lien achat': 'https://fr.sandro-paris.com/fr/p/baskets-flame/SFACH01186_10.html',\n",
       "    'Catégorie produit': 'Sneakers',\n",
       "    'Genre': 'F',\n",
       "    'cielab_colors': (85.49019607843137, 1.0, 4.0)}}]}"
      ]
     },
     "execution_count": 116,
     "metadata": {},
     "output_type": "execute_result"
    }
   ],
   "source": [
    "recommend_outfit(\"T-shirt\",data_prev,input_colors,\"Casual été\",outfit)"
   ]
  },
  {
   "cell_type": "code",
   "execution_count": 117,
   "metadata": {},
   "outputs": [],
   "source": [
    "import ast\n",
    "import numpy as np\n",
    "import faiss\n",
    "\n",
    "def recommend_outfit(input_category, data, input_colors, ontology, top_k=3):\n",
    "    try:\n",
    "        outfit_types = ontology[\"Outfit\"][input_category]\n",
    "    except KeyError as e:\n",
    "        raise ValueError(f\"Invalid category: {str(e)}\")\n",
    "\n",
    "    recommendations = {}\n",
    "    similarity_threshold = 0.2  # 90% similarity\n",
    "\n",
    "    # Generate harmonized colors for input\n",
    "    input_colors = generate_harmonic_colors(input_colors)\n",
    "    query_colors = np.array(input_colors, dtype=\"float32\")\n",
    "    faiss.normalize_L2(query_colors)\n",
    "\n",
    "    for outfit_type, required_items in outfit_types.items():\n",
    "        outfit_recommendations = {}\n",
    "\n",
    "        for item_category in required_items:\n",
    "            # Filter data for the given category\n",
    "            filtered_data = data[data[\"Catégorie produit\"] == item_category].copy()\n",
    "\n",
    "            # Ensure cielab_colors is correctly formatted\n",
    "            filtered_data[\"cielab_colors\"] = filtered_data[\"cielab_colors\"].apply(ast.literal_eval)\n",
    "            filtered_data.dropna(inplace=True)\n",
    "            filtered_data[\"cielab_colors\"] = filtered_data[\"cielab_colors\"].apply(tuple)\n",
    "            filtered_data.drop_duplicates(inplace=True)\n",
    "\n",
    "            # Convert to NumPy array\n",
    "            vectors = np.array([list(t) for t in filtered_data[\"cielab_colors\"]], dtype=\"float32\")\n",
    "            if vectors.shape[0] == 0:\n",
    "                continue  # Skip if no data available\n",
    "\n",
    "            # Normalize and create FAISS index\n",
    "            faiss.normalize_L2(vectors)\n",
    "            index = faiss.IndexFlatL2(vectors.shape[1])\n",
    "            index.add(vectors)\n",
    "\n",
    "            # Search for closest matches\n",
    "            distances, indices = index.search(query_colors, top_k)\n",
    "\n",
    "            seen_ids = set()\n",
    "            matches = []\n",
    "\n",
    "            for i in range(indices.shape[0]):\n",
    "                for j in range(indices.shape[1]):\n",
    "                    idx = indices[i][j]\n",
    "                    if idx >= len(filtered_data) or distances[i][j] > similarity_threshold:\n",
    "                        continue  # Skip invalid or low-similarity matches\n",
    "\n",
    "                    product_id = filtered_data.iloc[idx][\"Photo produit 1\"]\n",
    "                    if product_id not in seen_ids:\n",
    "                        seen_ids.add(product_id)\n",
    "                        matches.append({\n",
    "                            \"product_id\": product_id,\n",
    "                            \"distance\": distances[i][j],\n",
    "                            \"metadata\": filtered_data.iloc[idx].to_dict(),\n",
    "                        })\n",
    "                    \n",
    "                    if len(matches) >= top_k:\n",
    "                        break  # Stop early if enough matches are found\n",
    "\n",
    "            outfit_recommendations[item_category] = matches\n",
    "\n",
    "        recommendations[outfit_type] = outfit_recommendations\n",
    "\n",
    "    return recommendations\n"
   ]
  },
  {
   "cell_type": "code",
   "execution_count": 119,
   "metadata": {},
   "outputs": [],
   "source": [
    "rec=recommend_outfit(\"T-shirt\", data_prev, input_colors, outfit)\n"
   ]
  },
  {
   "cell_type": "code",
   "execution_count": 121,
   "metadata": {},
   "outputs": [
    {
     "data": {
      "text/plain": [
       "dict_keys(['Casual été', 'Casual hiver', 'Sportswear', 'Professionnel'])"
      ]
     },
     "execution_count": 121,
     "metadata": {},
     "output_type": "execute_result"
    }
   ],
   "source": [
    "rec.keys()"
   ]
  },
  {
   "cell_type": "code",
   "execution_count": 124,
   "metadata": {},
   "outputs": [
    {
     "data": {
      "text/plain": [
       "[{'product_id': 'https://fr.sandro-paris.com/dw/image/v2/BCMW_PRD/on/demandware.static/-/Sites-master-catalog/default/dwe4d5ac03/images/packshot/Sandro_SFACH01164-47_F_P.jpg?sw=650&sh=650',\n",
       "  'distance': 0.11775888,\n",
       "  'metadata': {'Photo produit 1': 'https://fr.sandro-paris.com/dw/image/v2/BCMW_PRD/on/demandware.static/-/Sites-master-catalog/default/dwe4d5ac03/images/packshot/Sandro_SFACH01164-47_F_P.jpg?sw=650&sh=650',\n",
       "   'Photo produit 2 ': '-',\n",
       "   'Nom produit\\xa0': 'Baskets Flame',\n",
       "   'Lien achat': 'https://fr.sandro-paris.com/fr/p/baskets-flame/SFACH01164_47.html',\n",
       "   'Catégorie produit': 'Sneakers',\n",
       "   'Genre': 'F',\n",
       "   'cielab_colors': (50.588235294117645, 1.0, -8.0)}},\n",
       " {'product_id': 'https://fr.sandro-paris.com/dw/image/v2/BCMW_PRD/on/demandware.static/-/Sites-master-catalog/default/dw5279f87f/images/packshot/Sandro_SFACH00860-20_V_P.jpg?sw=650&sh=650',\n",
       "  'distance': 0.15400456,\n",
       "  'metadata': {'Photo produit 1': 'https://fr.sandro-paris.com/dw/image/v2/BCMW_PRD/on/demandware.static/-/Sites-master-catalog/default/dw5279f87f/images/packshot/Sandro_SFACH00860-20_V_P.jpg?sw=650&sh=650',\n",
       "   'Photo produit 2 ': '-',\n",
       "   'Nom produit\\xa0': 'Baskets Flame',\n",
       "   'Lien achat': 'https://fr.sandro-paris.com/fr/p/baskets-flame/SFACH00860_20.html',\n",
       "   'Catégorie produit': 'Sneakers',\n",
       "   'Genre': 'F',\n",
       "   'cielab_colors': (89.80392156862746, 0.0, 3.0)}},\n",
       " {'product_id': 'https://fr.sandro-paris.com/dw/image/v2/BCMW_PRD/on/demandware.static/-/Sites-master-catalog/default/dw7a539853/images/packshot/Sandro_SFACH01186-10_F_P.jpg?sw=650&sh=650',\n",
       "  'distance': 0.14584889,\n",
       "  'metadata': {'Photo produit 1': 'https://fr.sandro-paris.com/dw/image/v2/BCMW_PRD/on/demandware.static/-/Sites-master-catalog/default/dw7a539853/images/packshot/Sandro_SFACH01186-10_F_P.jpg?sw=650&sh=650',\n",
       "   'Photo produit 2 ': '-',\n",
       "   'Nom produit\\xa0': 'Baskets Flame',\n",
       "   'Lien achat': 'https://fr.sandro-paris.com/fr/p/baskets-flame/SFACH01186_10.html',\n",
       "   'Catégorie produit': 'Sneakers',\n",
       "   'Genre': 'F',\n",
       "   'cielab_colors': (85.49019607843137, 1.0, 4.0)}}]"
      ]
     },
     "execution_count": 124,
     "metadata": {},
     "output_type": "execute_result"
    }
   ],
   "source": [
    "rec[\"Casual été\"][\"Sneakers\"]"
   ]
  },
  {
   "cell_type": "code",
   "execution_count": 3,
   "metadata": {},
   "outputs": [],
   "source": [
    "pathh=\"data/imagesremoved.png\""
   ]
  },
  {
   "cell_type": "code",
   "execution_count": 4,
   "metadata": {},
   "outputs": [],
   "source": [
    "from utils import get_category,matching_products\n",
    "import pandas as pd \n",
    "from utils import extract_colors_image,extract_colors_url"
   ]
  },
  {
   "cell_type": "code",
   "execution_count": 5,
   "metadata": {},
   "outputs": [],
   "source": [
    "colors=extract_colors_image(image_path=pathh)"
   ]
  },
  {
   "cell_type": "code",
   "execution_count": 6,
   "metadata": {},
   "outputs": [
    {
     "data": {
      "text/plain": [
       "[[77.25490196078432, 4.0, 14.0], [62.35294117647059, 7.0, 16.0]]"
      ]
     },
     "execution_count": 6,
     "metadata": {},
     "output_type": "execute_result"
    }
   ],
   "source": [
    "colors.colors"
   ]
  },
  {
   "cell_type": "code",
   "execution_count": 7,
   "metadata": {},
   "outputs": [],
   "source": [
    "cat=get_category(pathh)"
   ]
  },
  {
   "cell_type": "code",
   "execution_count": 8,
   "metadata": {},
   "outputs": [],
   "source": [
    "genre=cat.get_category_gender()"
   ]
  },
  {
   "cell_type": "code",
   "execution_count": 9,
   "metadata": {},
   "outputs": [
    {
     "data": {
      "text/plain": [
       "{'genre': 'H', 'category': 'Blouson'}"
      ]
     },
     "execution_count": 9,
     "metadata": {},
     "output_type": "execute_result"
    }
   ],
   "source": [
    "genre"
   ]
  },
  {
   "cell_type": "code",
   "execution_count": 10,
   "metadata": {},
   "outputs": [],
   "source": [
    "data=pd.read_excel(\"data/data_preview_exploded.xlsx\")"
   ]
  },
  {
   "cell_type": "code",
   "execution_count": 11,
   "metadata": {},
   "outputs": [],
   "source": [
    "data=data.drop(\"Unnamed: 0\",axis=1)"
   ]
  },
  {
   "cell_type": "code",
   "execution_count": 12,
   "metadata": {},
   "outputs": [],
   "source": [
    "data['Genre']=data[\"Genre\"].apply(lambda x : x.strip())"
   ]
  },
  {
   "cell_type": "code",
   "execution_count": 13,
   "metadata": {},
   "outputs": [],
   "source": [
    "data['Catégorie produit'] = data['Catégorie produit'].apply(fuzzy_map)"
   ]
  },
  {
   "cell_type": "code",
   "execution_count": 14,
   "metadata": {},
   "outputs": [],
   "source": [
    "match=matching_products(data=data,ontologie=outfit)"
   ]
  },
  {
   "cell_type": "code",
   "execution_count": 15,
   "metadata": {},
   "outputs": [
    {
     "data": {
      "text/plain": [
       "{'Casual 1': {'Jean': [{'product_id': 'https://ntmb.it/cdn/shop/products/jeans-ultra-baggy-white-patchwork-215632.jpg?v=1694471136&width=3000',\n",
       "    'distance': 0.00083956117,\n",
       "    'metadata': {'Photo produit 1': 'https://ntmb.it/cdn/shop/products/jeans-ultra-baggy-white-patchwork-215632.jpg?v=1694471136&width=3000',\n",
       "     'Photo produit 2 ': '-',\n",
       "     'Nom produit\\xa0': 'Jeans ULTRA Baggy Patchwork',\n",
       "     'Lien achat': 'https://ntmb.it/collections/jeans/products/jeans-ultra-baggy-white-patchwork',\n",
       "     'Catégorie produit': 'Jean',\n",
       "     'Genre': 'H',\n",
       "     'cielab_colors': (72.54901960784314, 4.0, 11.0)}},\n",
       "   {'product_id': 'https://ntmb.it/cdn/shop/products/jeans-straight-baggy-cream-flowers-embroidery-653720.jpg?v=1694470562&width=3000',\n",
       "    'distance': 0.0021518648,\n",
       "    'metadata': {'Photo produit 1': 'https://ntmb.it/cdn/shop/products/jeans-straight-baggy-cream-flowers-embroidery-653720.jpg?v=1694470562&width=3000',\n",
       "     'Photo produit 2 ': '-',\n",
       "     'Nom produit\\xa0': 'Jeans Straight Baggy Cream flowers embroidery',\n",
       "     'Lien achat': 'https://ntmb.it/collections/jeans/products/denim-5-pkts-straight-pants-patchwork-embroidered-flowers',\n",
       "     'Catégorie produit': 'Jean',\n",
       "     'Genre': 'H',\n",
       "     'cielab_colors': (74.11764705882354, 3.0, 10.0)}},\n",
       "   {'product_id': 'https://ntmb.it/cdn/shop/products/graffiti-jeans-251669.jpg?v=1694469906&width=3000',\n",
       "    'distance': 0.0025939988,\n",
       "    'metadata': {'Photo produit 1': 'https://ntmb.it/cdn/shop/products/graffiti-jeans-251669.jpg?v=1694469906&width=3000',\n",
       "     'Photo produit 2 ': '-',\n",
       "     'Nom produit\\xa0': 'Graffiti Jeans',\n",
       "     'Lien achat': 'https://ntmb.it/collections/jeans/products/graffiti-jeans',\n",
       "     'Catégorie produit': 'Jean',\n",
       "     'Genre': 'H',\n",
       "     'cielab_colors': (50.19607843137255, 0.0, 9.0)}},\n",
       "   {'product_id': 'https://fr.sandro-paris.com/dw/image/v2/BCMW_PRD/on/demandware.static/-/Sites-master-catalog/default/dw03ae337a/images/packshot/Sandro_SHPJE00666-20_H_P.jpg?sw=650&sh=650',\n",
       "    'distance': 0.0012295427,\n",
       "    'metadata': {'Photo produit 1': 'https://fr.sandro-paris.com/dw/image/v2/BCMW_PRD/on/demandware.static/-/Sites-master-catalog/default/dw03ae337a/images/packshot/Sandro_SHPJE00666-20_H_P.jpg?sw=650&sh=650',\n",
       "     'Photo produit 2 ': '-',\n",
       "     'Nom produit\\xa0': 'Jean baggy',\n",
       "     'Lien achat': 'https://fr.sandro-paris.com/fr/p/jean-baggy-/SHPJE00666_20.html',\n",
       "     'Catégorie produit': 'Jean',\n",
       "     'Genre': 'H',\n",
       "     'cielab_colors': (12.549019607843137, 1.0, 3.0)}},\n",
       "   {'product_id': 'https://nestorevintage.fr/cdn/shop/files/IMG_40703.jpg?v=1717343848&width=2048',\n",
       "    'distance': 1.4704095e-05,\n",
       "    'metadata': {'Photo produit 1': 'https://nestorevintage.fr/cdn/shop/files/IMG_40703.jpg?v=1717343848&width=2048',\n",
       "     'Photo produit 2 ': 'https://nestorevintage.fr/cdn/shop/files/IMG_40713.jpg?v=1717343848&width=2048',\n",
       "     'Nom produit\\xa0': 'Jean baggy Ed Hardy (M)',\n",
       "     'Lien achat': 'https://nestorevintage.fr/products/jean-baggy-ed-hardy-17',\n",
       "     'Catégorie produit': 'Jean',\n",
       "     'Genre': 'H',\n",
       "     'cielab_colors': (43.13725490196079, -5.0, -11.0)}}]},\n",
       " 'Casual 2': {'Bonnet': [{'product_id': 'https://wasted.fr/cdn/shop/files/balaclava-chrome-317286.jpg?v=1730547740',\n",
       "    'distance': 0.034601748,\n",
       "    'metadata': {'Photo produit 1': 'https://wasted.fr/cdn/shop/files/balaclava-chrome-317286.jpg?v=1730547740',\n",
       "     'Photo produit 2 ': '-',\n",
       "     'Nom produit\\xa0': 'Balaclava Chrome',\n",
       "     'Lien achat': 'https://wasted.fr/collections/headwear/products/balaclava-chrome',\n",
       "     'Catégorie produit': 'Bonnet',\n",
       "     'Genre': 'H',\n",
       "     'cielab_colors': (7.0588235294117645, 0.0, 0.0)}}]},\n",
       " 'Sportswear': {'Jogging': [{'product_id': 'https://wasted.fr/cdn/shop/files/jogging-kingdom-curve-485671.jpg?v=1737390235',\n",
       "    'distance': 0.034601748,\n",
       "    'metadata': {'Photo produit 1': 'https://wasted.fr/cdn/shop/files/jogging-kingdom-curve-485671.jpg?v=1737390235',\n",
       "     'Photo produit 2 ': '-',\n",
       "     'Nom produit\\xa0': 'Jogging Kingdom Curve Destroy',\n",
       "     'Lien achat': 'https://wasted.fr/collections/pantalons-homme/products/jogging-kingdom-curve',\n",
       "     'Catégorie produit': 'Jogging',\n",
       "     'Genre': 'H',\n",
       "     'cielab_colors': (9.411764705882353, 0.0, 0.0)}},\n",
       "   {'product_id': 'https://fr.sandro-paris.com/dw/image/v2/BCMW_PRD/on/demandware.static/-/Sites-master-catalog/default/dwd7746937/images/packshot/Sandro_SHPJO00083-24_H_P.jpg?sw=650&sh=650',\n",
       "    'distance': 0.10140774,\n",
       "    'metadata': {'Photo produit 1': 'https://fr.sandro-paris.com/dw/image/v2/BCMW_PRD/on/demandware.static/-/Sites-master-catalog/default/dwd7746937/images/packshot/Sandro_SHPJO00083-24_H_P.jpg?sw=650&sh=650',\n",
       "     'Photo produit 2 ': '-',\n",
       "     'Nom produit\\xa0': 'Pantalon de jogging en molleton',\n",
       "     'Lien achat': 'https://fr.sandro-paris.com/fr/p/pantalon-de-jogging-en-molleton/SHPJO00083_24.html',\n",
       "     'Catégorie produit': 'Jogging',\n",
       "     'Genre': 'H',\n",
       "     'cielab_colors': (23.52941176470588, -1.0, -3.0)}},\n",
       "   {'product_id': 'https://wasted.fr/cdn/shop/files/JOGG.jpg?v=1737641598',\n",
       "    'distance': 0.06566818,\n",
       "    'metadata': {'Photo produit 1': 'https://wasted.fr/cdn/shop/files/JOGG.jpg?v=1737641598',\n",
       "     'Photo produit 2 ': '-',\n",
       "     'Nom produit\\xa0': 'Jogging Blade',\n",
       "     'Lien achat': 'https://wasted.fr/collections/pantalons-homme/products/jogging-blade',\n",
       "     'Catégorie produit': 'Jogging',\n",
       "     'Genre': 'H',\n",
       "     'cielab_colors': (14.117647058823529, 2.0, -5.0)}}],\n",
       "  'Hoodie': [{'product_id': 'https://ntmb.it/cdn/shop/products/hoodie-yeti-over-cream-824843.jpg?v=1695936517&width=3000',\n",
       "    'distance': 1.0746468e-05,\n",
       "    'metadata': {'Photo produit 1': 'https://ntmb.it/cdn/shop/products/hoodie-yeti-over-cream-824843.jpg?v=1695936517&width=3000',\n",
       "     'Photo produit 2 ': '-',\n",
       "     'Nom produit\\xa0': 'Hoodie Yeti Over',\n",
       "     'Lien achat': 'https://ntmb.it/collections/hoodie/products/hoodie-yeti-over-cream',\n",
       "     'Catégorie produit': 'Hoodie',\n",
       "     'Genre': 'H',\n",
       "     'cielab_colors': (82.35294117647058, 4.0, 15.0)}},\n",
       "   {'product_id': 'https://colorfulstandard.com/cdn/shop/files/CS1006_Male_Classic_Organic_Hood-HoneyBeige_2.jpg?v=1738240818&width=3000',\n",
       "    'distance': 9.338828e-05,\n",
       "    'metadata': {'Photo produit 1': 'https://colorfulstandard.com/cdn/shop/files/CS1006_Male_Classic_Organic_Hood-HoneyBeige_2.jpg?v=1738240818&width=3000',\n",
       "     'Photo produit 2 ': '-',\n",
       "     'Nom produit\\xa0': 'Classic Organic Hood - Honey Beige',\n",
       "     'Lien achat': 'https://colorfulstandard.com/fr-fr/products/classic-organic-hood-hoodie-honey-beige-male',\n",
       "     'Catégorie produit': 'Hoodie',\n",
       "     'Genre': 'H',\n",
       "     'cielab_colors': (81.56862745098039, 5.0, 15.0)}},\n",
       "   {'product_id': 'https://colorfulstandard.com/cdn/shop/files/CS1007_Male_ClassicOrganicZipHoodcopy-HoneyBeige_2.jpg?v=1738229745&width=3000',\n",
       "    'distance': 0.00011609056,\n",
       "    'metadata': {'Photo produit 1': 'https://colorfulstandard.com/cdn/shop/files/CS1007_Male_ClassicOrganicZipHoodcopy-HoneyBeige_2.jpg?v=1738229745&width=3000',\n",
       "     'Photo produit 2 ': '-',\n",
       "     'Nom produit\\xa0': 'Classic Organic Zip Hood - Honey Beige',\n",
       "     'Lien achat': 'https://colorfulstandard.com/fr-fr/products/classic-organic-zip-hood-zip-hoodie-honey-beige-male',\n",
       "     'Catégorie produit': 'Hoodie',\n",
       "     'Genre': 'H',\n",
       "     'cielab_colors': (80.7843137254902, 5.0, 15.0)}},\n",
       "   {'product_id': 'https://colorfulstandard.com/cdn/shop/files/CS1006_Male_Classic_Organic_Hood-WarmTaupe_2.jpg?v=1738329844&width=3000',\n",
       "    'distance': 0.00075290166,\n",
       "    'metadata': {'Photo produit 1': 'https://colorfulstandard.com/cdn/shop/files/CS1006_Male_Classic_Organic_Hood-WarmTaupe_2.jpg?v=1738329844&width=3000',\n",
       "     'Photo produit 2 ': '-',\n",
       "     'Nom produit\\xa0': 'Classic Organic Hood - Warm Taupe',\n",
       "     'Lien achat': 'https://colorfulstandard.com/fr-fr/products/classic-organic-hood-hoodie-warm-taupe-male',\n",
       "     'Catégorie produit': 'Hoodie',\n",
       "     'Genre': 'H',\n",
       "     'cielab_colors': (57.647058823529406, 5.0, 14.0)}},\n",
       "   {'product_id': 'https://colorfulstandard.com/cdn/shop/files/CS1015_Male_OrganicOversizedHood-SeasideBlue_2.jpg?v=1738159582&width=3000',\n",
       "    'distance': 0.0014479964,\n",
       "    'metadata': {'Photo produit 1': 'https://colorfulstandard.com/cdn/shop/files/CS1015_Male_OrganicOversizedHood-SeasideBlue_2.jpg?v=1738159582&width=3000',\n",
       "     'Photo produit 2 ': '-',\n",
       "     'Nom produit\\xa0': 'Organic Oversized Hood - Seaside Blue',\n",
       "     'Lien achat': 'https://colorfulstandard.com/fr-fr/products/organic-oversized-hood-seaside-blue-male',\n",
       "     'Catégorie produit': 'Hoodie',\n",
       "     'Genre': 'H',\n",
       "     'cielab_colors': (67.05882352941175, -5.0, -18.0)}}]},\n",
       " 'Professionnel': {'Pantalon habillé': [{'product_id': 'https://fr.sandro-paris.com/dw/image/v2/BCMW_PRD/on/demandware.static/-/Sites-master-catalog/default/dw3fa150ac/images/packshot/Sandro_SHPPA01331-72_V_P.jpg?sw=650&sh=650',\n",
       "    'distance': 0.0010142311,\n",
       "    'metadata': {'Photo produit 1': 'https://fr.sandro-paris.com/dw/image/v2/BCMW_PRD/on/demandware.static/-/Sites-master-catalog/default/dw3fa150ac/images/packshot/Sandro_SHPPA01331-72_V_P.jpg?sw=650&sh=650',\n",
       "     'Photo produit 2 ': '-',\n",
       "     'Nom produit\\xa0': 'Pantalon de costume',\n",
       "     'Lien achat': 'https://fr.sandro-paris.com/fr/p/pantalon-de-costume/SHPPA01331_72.html',\n",
       "     'Catégorie produit': 'Pantalon habillé',\n",
       "     'Genre': 'H',\n",
       "     'cielab_colors': (74.11764705882354, 2.0, 15.0)}},\n",
       "   {'product_id': 'https://fr.sandro-paris.com/dw/image/v2/BCMW_PRD/on/demandware.static/-/Sites-master-catalog/default/dw7753d29d/images/packshot/Sandro_SHPPA01496-1611_H_P.jpg?sw=650&sh=650',\n",
       "    'distance': 0.0051921,\n",
       "    'metadata': {'Photo produit 1': 'https://fr.sandro-paris.com/dw/image/v2/BCMW_PRD/on/demandware.static/-/Sites-master-catalog/default/dw7753d29d/images/packshot/Sandro_SHPPA01496-1611_H_P.jpg?sw=650&sh=650',\n",
       "     'Photo produit 2 ': '-',\n",
       "     'Nom produit\\xa0': 'Pantalon de costume',\n",
       "     'Lien achat': 'https://fr.sandro-paris.com/fr/p/pantalon-de-costume/SHPPA01496_1611.html',\n",
       "     'Catégorie produit': 'Pantalon habillé',\n",
       "     'Genre': 'H',\n",
       "     'cielab_colors': (80.0, 2.0, 9.0)}},\n",
       "   {'product_id': 'https://fr.sandro-paris.com/dw/image/v2/BCMW_PRD/on/demandware.static/-/Sites-master-catalog/default/dw9565daf1/images/packshot/Sandro_SHPPA01487-72_H_P.jpg?sw=650&sh=650',\n",
       "    'distance': 0.0061222,\n",
       "    'metadata': {'Photo produit 1': 'https://fr.sandro-paris.com/dw/image/v2/BCMW_PRD/on/demandware.static/-/Sites-master-catalog/default/dw9565daf1/images/packshot/Sandro_SHPPA01487-72_H_P.jpg?sw=650&sh=650',\n",
       "     'Photo produit 2 ': '-',\n",
       "     'Nom produit\\xa0': 'Pantalon de costume élastiqué',\n",
       "     'Lien achat': 'https://fr.sandro-paris.com/fr/p/pantalon-de-costume-elastique/SHPPA01487_72.html',\n",
       "     'Catégorie produit': 'Pantalon habillé',\n",
       "     'Genre': 'H',\n",
       "     'cielab_colors': (30.980392156862745, 4.0, 5.0)}},\n",
       "   {'product_id': 'https://fr.sandro-paris.com/dw/image/v2/BCMW_PRD/on/demandware.static/-/Sites-master-catalog/default/dw0d2cd6c4/images/packshot/Sandro_SHPPA01454-G023_H_P.jpg?sw=650&sh=650',\n",
       "    'distance': 0.005763091,\n",
       "    'metadata': {'Photo produit 1': 'https://fr.sandro-paris.com/dw/image/v2/BCMW_PRD/on/demandware.static/-/Sites-master-catalog/default/dw0d2cd6c4/images/packshot/Sandro_SHPPA01454-G023_H_P.jpg?sw=650&sh=650',\n",
       "     'Photo produit 2 ': '-',\n",
       "     'Nom produit\\xa0': 'Pantalon de costume',\n",
       "     'Lien achat': 'https://fr.sandro-paris.com/fr/p/pantalon-de-costume/SHPPA01454_G023.html',\n",
       "     'Catégorie produit': 'Pantalon habillé',\n",
       "     'Genre': 'H',\n",
       "     'cielab_colors': (21.176470588235293, 4.0, 5.0)}},\n",
       "   {'product_id': 'https://fr.sandro-paris.com/dw/image/v2/BCMW_PRD/on/demandware.static/-/Sites-master-catalog/default/dwee3e00cc/images/packshot/Sandro_SHPPA01456-44_H_P.jpg?sw=650&sh=650',\n",
       "    'distance': 0.013802866,\n",
       "    'metadata': {'Photo produit 1': 'https://fr.sandro-paris.com/dw/image/v2/BCMW_PRD/on/demandware.static/-/Sites-master-catalog/default/dwee3e00cc/images/packshot/Sandro_SHPPA01456-44_H_P.jpg?sw=650&sh=650',\n",
       "     'Photo produit 2 ': '-',\n",
       "     'Nom produit\\xa0': 'Pantalon à plis creux',\n",
       "     'Lien achat': 'https://fr.sandro-paris.com/fr/p/pantalon-a-plis-creux/SHPPA01456_44.html',\n",
       "     'Catégorie produit': 'Pantalon habillé',\n",
       "     'Genre': 'H',\n",
       "     'cielab_colors': (9.803921568627452, 0.0, -3.0)}}],\n",
       "  'Chemise': [{'product_id': 'https://fr.sandro-paris.com/dw/image/v2/BCMW_PRD/on/demandware.static/-/Sites-master-catalog/default/dwa3ccb640/images/packshot/Sandro_SHPCM01172-G023_H_P.jpg?sw=650&sh=650',\n",
       "    'distance': 0.008152429,\n",
       "    'metadata': {'Photo produit 1': 'https://fr.sandro-paris.com/dw/image/v2/BCMW_PRD/on/demandware.static/-/Sites-master-catalog/default/dwa3ccb640/images/packshot/Sandro_SHPCM01172-G023_H_P.jpg?sw=650&sh=650',\n",
       "     'Photo produit 2 ': '-',\n",
       "     'Nom produit\\xa0': 'Chemise fluide',\n",
       "     'Lien achat': 'https://fr.sandro-paris.com/fr/p/chemise-fluide/SHPCM01172_G023.html',\n",
       "     'Catégorie produit': 'Chemise',\n",
       "     'Genre': 'H',\n",
       "     'cielab_colors': (32.94117647058823, 4.0, 4.0)}},\n",
       "   {'product_id': 'https://fr.sandro-paris.com/dw/image/v2/BCMW_PRD/on/demandware.static/-/Sites-master-catalog/default/dw02487f5d/images/packshot/Sandro_SHPCM01196-10_H_P.jpg?sw=650&sh=650',\n",
       "    'distance': 0.027307628,\n",
       "    'metadata': {'Photo produit 1': 'https://fr.sandro-paris.com/dw/image/v2/BCMW_PRD/on/demandware.static/-/Sites-master-catalog/default/dw02487f5d/images/packshot/Sandro_SHPCM01196-10_H_P.jpg?sw=650&sh=650',\n",
       "     'Photo produit 2 ': '-',\n",
       "     'Nom produit\\xa0': 'Chemise à rayures',\n",
       "     'Lien achat': 'https://fr.sandro-paris.com/fr/p/chemise-a-rayures/SHPCM01196_10.html',\n",
       "     'Catégorie produit': 'Chemise',\n",
       "     'Genre': 'H',\n",
       "     'cielab_colors': (91.76470588235294, 0.0, 2.0)}},\n",
       "   {'product_id': 'https://fr.sandro-paris.com/dw/image/v2/BCMW_PRD/on/demandware.static/-/Sites-master-catalog/default/dw7ff61c1f/images/packshot/Sandro_SHPCM01238-G023_H_P.jpg?sw=650&sh=650',\n",
       "    'distance': 0.03960608,\n",
       "    'metadata': {'Photo produit 1': 'https://fr.sandro-paris.com/dw/image/v2/BCMW_PRD/on/demandware.static/-/Sites-master-catalog/default/dw7ff61c1f/images/packshot/Sandro_SHPCM01238-G023_H_P.jpg?sw=650&sh=650',\n",
       "     'Photo produit 2 ': '-',\n",
       "     'Nom produit\\xa0': 'Chemise imprimé camélias',\n",
       "     'Lien achat': 'https://fr.sandro-paris.com/fr/p/chemise-imprime-camelias/SHPCM01238_G023.html',\n",
       "     'Catégorie produit': 'Chemise',\n",
       "     'Genre': 'H',\n",
       "     'cielab_colors': (16.07843137254902, 5.0, 3.0)}},\n",
       "   {'product_id': 'https://fr.sandro-paris.com/dw/image/v2/BCMW_PRD/on/demandware.static/-/Sites-master-catalog/default/dw65d8badf/images/packshot/Sandro_SHPCM01169-40_H_P.jpg?sw=650&sh=650',\n",
       "    'distance': 0.0029735726,\n",
       "    'metadata': {'Photo produit 1': 'https://fr.sandro-paris.com/dw/image/v2/BCMW_PRD/on/demandware.static/-/Sites-master-catalog/default/dw65d8badf/images/packshot/Sandro_SHPCM01169-40_H_P.jpg?sw=650&sh=650',\n",
       "     'Photo produit 2 ': '-',\n",
       "     'Nom produit\\xa0': 'Chemise fluide Square Cross',\n",
       "     'Lien achat': 'https://fr.sandro-paris.com/fr/p/chemise-fluide-square-cross/SHPCM01169_40.html',\n",
       "     'Catégorie produit': 'Chemise',\n",
       "     'Genre': 'H',\n",
       "     'cielab_colors': (80.0, -8.0, -16.0)}}]}}"
      ]
     },
     "execution_count": 15,
     "metadata": {},
     "output_type": "execute_result"
    }
   ],
   "source": [
    "match.recommend_outfit(genre.get(\"category\"),colors.colors,genre.get(\"genre\"))"
   ]
  },
  {
   "cell_type": "code",
   "execution_count": 16,
   "metadata": {},
   "outputs": [],
   "source": [
    "urls=data[\"Photo produit 1\"].tolist()"
   ]
  },
  {
   "cell_type": "code",
   "execution_count": 18,
   "metadata": {},
   "outputs": [
    {
     "data": {
      "text/plain": [
       "3306"
      ]
     },
     "execution_count": 18,
     "metadata": {},
     "output_type": "execute_result"
    }
   ],
   "source": [
    "len(urls)"
   ]
  },
  {
   "cell_type": "code",
   "execution_count": 19,
   "metadata": {},
   "outputs": [],
   "source": [
    "import random\n",
    "\n",
    "random_selection = random.sample(urls, 20)"
   ]
  },
  {
   "cell_type": "code",
   "execution_count": 20,
   "metadata": {},
   "outputs": [],
   "source": [
    "import os\n",
    "import requests\n",
    "from io import BytesIO\n",
    "from PIL import Image, UnidentifiedImageError\n",
    "\n",
    "def download_image(image_url,save_folder):\n",
    "    \"\"\"\n",
    "    Downloads an image from a URL and saves it to the specified local folder.\n",
    "    \"\"\"\n",
    "    try:\n",
    "        headers = {\"User-Agent\": \"Mozilla/5.0\"}  # Mimic a browser request\n",
    "        response = requests.get(image_url, headers=headers, timeout=10)\n",
    "        response.raise_for_status()  # Raise an error if request fails\n",
    "\n",
    "        try:\n",
    "            image = Image.open(BytesIO(response.content))\n",
    "\n",
    "            # Ensure the folder exists\n",
    "            os.makedirs(save_folder, exist_ok=True)\n",
    "\n",
    "            # Generate a filename from the URL\n",
    "            filename = os.path.join(save_folder, os.path.basename(image_url.split(\"?\")[0]))\n",
    "\n",
    "            # Save the image\n",
    "            image.save(filename)\n",
    "            print(f\"Image saved to {filename}\")\n",
    "            return filename\n",
    "\n",
    "        except UnidentifiedImageError:\n",
    "            print(f\"Error: Cannot identify image from {image_url}\")\n",
    "            return None\n",
    "\n",
    "    except requests.exceptions.RequestException as e:\n",
    "        print(f\"Request failed: {e}\")\n",
    "        return None\n"
   ]
  },
  {
   "cell_type": "code",
   "execution_count": 22,
   "metadata": {},
   "outputs": [
    {
     "name": "stdout",
     "output_type": "stream",
     "text": [
      "Image saved to data/images/D79524CE-425D-4A39-868E-DEBFF208A823.jpg\n",
      "Image saved to data/images/EEBB3527-9E6D-4D17-B8C7-CE290E132BEC.jpg\n",
      "Image saved to data/images/CS1015_Male_OrganicOversizedHood-OceanGreen_2.jpg\n",
      "Image saved to data/images/hoodie-zip-crown-pitcher-736902_2048x2048.jpg\n",
      "Image saved to data/images/pull-mind-868755.jpg\n",
      "Image saved to data/images/CS1015_Male_OrganicOversizedHood-UltraViolet_2.jpg\n",
      "Image saved to data/images/CS2052_Female_WomenClassicOrganicCrew-SteelBlue_2.jpg\n",
      "Image saved to data/images/TshirtRockyVSunyzebreSS23-1_2000x.jpg\n",
      "Image saved to data/images/CS5091_Female_MerinoQuarterZip-DeepBlack_2.jpg\n",
      "Image saved to data/images/D8FEC524-E82B-4443-9B7C-F799DB76DA97.jpg\n",
      "Image saved to data/images/D4665C20-E47F-4BEA-92C4-E0AC544257E9.jpg\n",
      "Image saved to data/images/denim-bucket-hats-fragment-679513.jpg\n",
      "Image saved to data/images/CS5087_Female_WomenClassicMerinoWoolCrew-DustyOlive_2.jpg\n",
      "Image saved to data/images/jeans-straight-baggy-flame-patchwork-684700.jpg\n",
      "Image saved to data/images/IMG_45852.jpg\n",
      "Image saved to data/images/CS2052_Female_WomenClassicOrganicCrew-PetrolBlue_2.jpg\n",
      "Image saved to data/images/CS1014_Female_OrganicQuarterZip-PacificBlue_2.jpg\n",
      "Image saved to data/images/hoodie-zip-ace-738972_2048x2048.jpg\n",
      "Image saved to data/images/CS5091_Female_MerinoQuarterZip-LavaGrey_2.jpg\n",
      "Image saved to data/images/Sandro_SFPCM01204-E174_F_P.jpg\n"
     ]
    }
   ],
   "source": [
    "for item in random_selection: \n",
    "    download_image(item,\"data/images/\")"
   ]
  },
  {
   "cell_type": "code",
   "execution_count": null,
   "metadata": {},
   "outputs": [],
   "source": []
  }
 ],
 "metadata": {
  "kernelspec": {
   "display_name": "clothes",
   "language": "python",
   "name": "python3"
  },
  "language_info": {
   "codemirror_mode": {
    "name": "ipython",
    "version": 3
   },
   "file_extension": ".py",
   "mimetype": "text/x-python",
   "name": "python",
   "nbconvert_exporter": "python",
   "pygments_lexer": "ipython3",
   "version": "3.11.11"
  }
 },
 "nbformat": 4,
 "nbformat_minor": 2
}
