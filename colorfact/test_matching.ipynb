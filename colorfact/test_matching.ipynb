{
 "cells": [
  {
   "cell_type": "code",
   "execution_count": 1,
   "metadata": {},
   "outputs": [],
   "source": [
    "import pandas as pd "
   ]
  },
  {
   "cell_type": "code",
   "execution_count": 2,
   "metadata": {},
   "outputs": [],
   "source": [
    "dataset=pd.read_excel(\"data/data_test.xlsx\")"
   ]
  },
  {
   "cell_type": "code",
   "execution_count": 3,
   "metadata": {},
   "outputs": [],
   "source": [
    "df=pd.read_excel(\"data/data_200_300.xlsx\")"
   ]
  },
  {
   "cell_type": "code",
   "execution_count": 4,
   "metadata": {},
   "outputs": [],
   "source": [
    "df1=pd.read_excel(\"data/data_300_400.xlsx\")"
   ]
  },
  {
   "cell_type": "code",
   "execution_count": 5,
   "metadata": {},
   "outputs": [],
   "source": [
    "dataset=pd.concat([dataset,df,df1],ignore_index=True)"
   ]
  },
  {
   "cell_type": "code",
   "execution_count": 6,
   "metadata": {},
   "outputs": [],
   "source": [
    "dataset=dataset.drop(\"Unnamed: 0\",axis=1)"
   ]
  },
  {
   "cell_type": "code",
   "execution_count": 7,
   "metadata": {},
   "outputs": [],
   "source": [
    "dataset=dataset.drop_duplicates()"
   ]
  },
  {
   "cell_type": "code",
   "execution_count": 13,
   "metadata": {},
   "outputs": [],
   "source": [
    "dataset.to_excel(\"data/data_preview.xlsx\")"
   ]
  },
  {
   "cell_type": "code",
   "execution_count": 9,
   "metadata": {},
   "outputs": [
    {
     "data": {
      "text/html": [
       "<div>\n",
       "<style scoped>\n",
       "    .dataframe tbody tr th:only-of-type {\n",
       "        vertical-align: middle;\n",
       "    }\n",
       "\n",
       "    .dataframe tbody tr th {\n",
       "        vertical-align: top;\n",
       "    }\n",
       "\n",
       "    .dataframe thead th {\n",
       "        text-align: right;\n",
       "    }\n",
       "</style>\n",
       "<table border=\"1\" class=\"dataframe\">\n",
       "  <thead>\n",
       "    <tr style=\"text-align: right;\">\n",
       "      <th></th>\n",
       "      <th>Photo produit 1</th>\n",
       "      <th>Photo produit 2</th>\n",
       "      <th>Nom produit</th>\n",
       "      <th>Lien achat</th>\n",
       "      <th>Catégorie produit</th>\n",
       "      <th>Genre</th>\n",
       "      <th>cielab_colors</th>\n",
       "    </tr>\n",
       "  </thead>\n",
       "  <tbody>\n",
       "    <tr>\n",
       "      <th>0</th>\n",
       "      <td>https://wasted.fr/cdn/shop/files/t-shirt-acid-...</td>\n",
       "      <td>-</td>\n",
       "      <td>T-Shirt Acid</td>\n",
       "      <td>https://wasted.fr/collections/t-shirts-homme/p...</td>\n",
       "      <td>T-shirt</td>\n",
       "      <td>H/F</td>\n",
       "      <td>[[10.588235294117647, 0.0, 1.0]]</td>\n",
       "    </tr>\n",
       "    <tr>\n",
       "      <th>1</th>\n",
       "      <td>https://wasted.fr/cdn/shop/files/t-shirt-happy...</td>\n",
       "      <td>-</td>\n",
       "      <td>T-Shirt Happy When it Rains</td>\n",
       "      <td>https://wasted.fr/collections/t-shirts-homme/p...</td>\n",
       "      <td>T-shirt</td>\n",
       "      <td>H/F</td>\n",
       "      <td>[[10.588235294117647, 0.0, 0.0]]</td>\n",
       "    </tr>\n",
       "  </tbody>\n",
       "</table>\n",
       "</div>"
      ],
      "text/plain": [
       "                                     Photo produit 1 Photo produit 2   \\\n",
       "0  https://wasted.fr/cdn/shop/files/t-shirt-acid-...                -   \n",
       "1  https://wasted.fr/cdn/shop/files/t-shirt-happy...                -   \n",
       "\n",
       "                  Nom produit   \\\n",
       "0                 T-Shirt Acid   \n",
       "1  T-Shirt Happy When it Rains   \n",
       "\n",
       "                                          Lien achat Catégorie produit Genre  \\\n",
       "0  https://wasted.fr/collections/t-shirts-homme/p...           T-shirt   H/F   \n",
       "1  https://wasted.fr/collections/t-shirts-homme/p...           T-shirt   H/F   \n",
       "\n",
       "                      cielab_colors  \n",
       "0  [[10.588235294117647, 0.0, 1.0]]  \n",
       "1  [[10.588235294117647, 0.0, 0.0]]  "
      ]
     },
     "execution_count": 9,
     "metadata": {},
     "output_type": "execute_result"
    }
   ],
   "source": [
    "dataset.head(2)"
   ]
  },
  {
   "cell_type": "code",
   "execution_count": 10,
   "metadata": {},
   "outputs": [
    {
     "data": {
      "text/plain": [
       "Index(['Photo produit 1', 'Photo produit 2 ', 'Nom produit ', 'Lien achat',\n",
       "       'Catégorie produit', 'Genre', 'cielab_colors'],\n",
       "      dtype='object')"
      ]
     },
     "execution_count": 10,
     "metadata": {},
     "output_type": "execute_result"
    }
   ],
   "source": [
    "dataset.columns"
   ]
  },
  {
   "cell_type": "code",
   "execution_count": 12,
   "metadata": {},
   "outputs": [],
   "source": [
    "dataset=dataset.dropna()"
   ]
  },
  {
   "cell_type": "code",
   "execution_count": 14,
   "metadata": {},
   "outputs": [],
   "source": [
    "import ast \n",
    "\n",
    "dataset[\"cielab_colors\"]=dataset[\"cielab_colors\"].apply(ast.literal_eval)"
   ]
  },
  {
   "cell_type": "code",
   "execution_count": 15,
   "metadata": {},
   "outputs": [],
   "source": [
    "data=dataset.explode(\"cielab_colors\").reset_index(drop=True)"
   ]
  },
  {
   "cell_type": "code",
   "execution_count": 16,
   "metadata": {},
   "outputs": [
    {
     "data": {
      "text/plain": [
       "(2125, 7)"
      ]
     },
     "execution_count": 16,
     "metadata": {},
     "output_type": "execute_result"
    }
   ],
   "source": [
    "data.shape\n"
   ]
  },
  {
   "cell_type": "code",
   "execution_count": 17,
   "metadata": {},
   "outputs": [],
   "source": [
    "import faiss\n",
    "import numpy as np\n",
    "\n",
    "# --------------------------------------\n",
    "# 1. Prepare Data for FAISS\n",
    "# --------------------------------------\n",
    "# Extract all color vectors as a numpy array\n",
    "all_colors = np.array(data[\"cielab_colors\"].tolist(), dtype=\"float32\")\n",
    "\n",
    "# Create a FAISS index (L2 distance for CIELAB)\n",
    "dim = 3 # L, a, b\n",
    "index = faiss.IndexFlatL2(dim)\n",
    "index.add(all_colors)\n"
   ]
  },
  {
   "cell_type": "code",
   "execution_count": 19,
   "metadata": {},
   "outputs": [],
   "source": [
    "faiss.write_index(index,\"vector_store/faiss_index.idx\")"
   ]
  },
  {
   "cell_type": "code",
   "execution_count": 20,
   "metadata": {},
   "outputs": [],
   "source": [
    "# --------------------------------------\n",
    "# 2. Query Function\n",
    "# --------------------------------------\n",
    "def find_matching_products(query_colors, index, df, top_k=5):\n",
    "    query_colors = np.array(query_colors, dtype=\"float32\")\n",
    "    distances, indices = index.search(query_colors, top_k)\n",
    "\n",
    "    # Collect all matching product IDs and their distances\n",
    "    matches = []\n",
    "    for i, query in enumerate(query_colors):\n",
    "        for j in range(top_k):\n",
    "            product_id = df.iloc[indices[i][j]][\"Photo produit 1\"]\n",
    "            distance = distances[i][j]\n",
    "            matches.append((product_id, distance))\n",
    "\n",
    "    # Group by Product ID and keep the best (min) distance\n",
    "    product_distances = {}\n",
    "    for product_id, distance in matches:\n",
    "        if product_id not in product_distances or distance < product_distances[product_id]:\n",
    "            product_distances[product_id] = distance\n",
    "\n",
    "    # Sort products by distance\n",
    "    sorted_products = sorted(product_distances.items(), key=lambda x: x[1])\n",
    "    return sorted_products[:top_k]\n"
   ]
  },
  {
   "cell_type": "code",
   "execution_count": 171,
   "metadata": {},
   "outputs": [],
   "source": [
    "# --------------------------------------\n",
    "# 3. Example Usage\n",
    "# --------------------------------------\n",
    "# Input: Assume 2 dominant colors\n",
    "query_colors = query_color = [[63.921568627450974, -5.0, -17.0]] # Example CIELAB vectors\n",
    "matches = find_matching_products(query_colors, index, data, top_k=5)\n"
   ]
  },
  {
   "cell_type": "code",
   "execution_count": 172,
   "metadata": {},
   "outputs": [
    {
     "data": {
      "text/plain": [
       "[('https://wasted.fr/cdn/shop/files/varsity-jacket-prey-742723.jpg?v=1737390429',\n",
       "  np.float32(0.0)),\n",
       " ('https://ntmb.it/cdn/shop/products/jeans-baggy-reworked-blue-311475.jpg?v=1694471080&width=3000',\n",
       "  np.float32(7.8446774)),\n",
       " ('https://nestorevintage.fr/cdn/shop/files/055917A6-267F-48CA-87FE-973C1946E906.jpg?v=1725801192&width=2048',\n",
       "  np.float32(14.384086)),\n",
       " ('https://fr.sandro-paris.com/dw/image/v2/BCMW_PRD/on/demandware.static/-/Sites-master-catalog/default/dwcd63739a/images/packshot/Sandro_SHPBE00082-40_H_P.jpg?sw=650&sh=650',\n",
       "  np.float32(16.153788)),\n",
       " ('https://nestorevintage.fr/cdn/shop/files/IMG_23132.jpg?v=1715529282&width=2048',\n",
       "  np.float32(18.384087))]"
      ]
     },
     "execution_count": 172,
     "metadata": {},
     "output_type": "execute_result"
    }
   ],
   "source": [
    "matches"
   ]
  },
  {
   "cell_type": "code",
   "execution_count": 173,
   "metadata": {},
   "outputs": [],
   "source": [
    "from sklearn.neighbors import NearestNeighbors"
   ]
  },
  {
   "cell_type": "code",
   "execution_count": 174,
   "metadata": {},
   "outputs": [],
   "source": [
    "nn=NearestNeighbors(n_neighbors=5,metric=\"euclidean\")"
   ]
  },
  {
   "cell_type": "code",
   "execution_count": 175,
   "metadata": {},
   "outputs": [
    {
     "data": {
      "text/html": [
       "<style>#sk-container-id-1 {\n",
       "  /* Definition of color scheme common for light and dark mode */\n",
       "  --sklearn-color-text: #000;\n",
       "  --sklearn-color-text-muted: #666;\n",
       "  --sklearn-color-line: gray;\n",
       "  /* Definition of color scheme for unfitted estimators */\n",
       "  --sklearn-color-unfitted-level-0: #fff5e6;\n",
       "  --sklearn-color-unfitted-level-1: #f6e4d2;\n",
       "  --sklearn-color-unfitted-level-2: #ffe0b3;\n",
       "  --sklearn-color-unfitted-level-3: chocolate;\n",
       "  /* Definition of color scheme for fitted estimators */\n",
       "  --sklearn-color-fitted-level-0: #f0f8ff;\n",
       "  --sklearn-color-fitted-level-1: #d4ebff;\n",
       "  --sklearn-color-fitted-level-2: #b3dbfd;\n",
       "  --sklearn-color-fitted-level-3: cornflowerblue;\n",
       "\n",
       "  /* Specific color for light theme */\n",
       "  --sklearn-color-text-on-default-background: var(--sg-text-color, var(--theme-code-foreground, var(--jp-content-font-color1, black)));\n",
       "  --sklearn-color-background: var(--sg-background-color, var(--theme-background, var(--jp-layout-color0, white)));\n",
       "  --sklearn-color-border-box: var(--sg-text-color, var(--theme-code-foreground, var(--jp-content-font-color1, black)));\n",
       "  --sklearn-color-icon: #696969;\n",
       "\n",
       "  @media (prefers-color-scheme: dark) {\n",
       "    /* Redefinition of color scheme for dark theme */\n",
       "    --sklearn-color-text-on-default-background: var(--sg-text-color, var(--theme-code-foreground, var(--jp-content-font-color1, white)));\n",
       "    --sklearn-color-background: var(--sg-background-color, var(--theme-background, var(--jp-layout-color0, #111)));\n",
       "    --sklearn-color-border-box: var(--sg-text-color, var(--theme-code-foreground, var(--jp-content-font-color1, white)));\n",
       "    --sklearn-color-icon: #878787;\n",
       "  }\n",
       "}\n",
       "\n",
       "#sk-container-id-1 {\n",
       "  color: var(--sklearn-color-text);\n",
       "}\n",
       "\n",
       "#sk-container-id-1 pre {\n",
       "  padding: 0;\n",
       "}\n",
       "\n",
       "#sk-container-id-1 input.sk-hidden--visually {\n",
       "  border: 0;\n",
       "  clip: rect(1px 1px 1px 1px);\n",
       "  clip: rect(1px, 1px, 1px, 1px);\n",
       "  height: 1px;\n",
       "  margin: -1px;\n",
       "  overflow: hidden;\n",
       "  padding: 0;\n",
       "  position: absolute;\n",
       "  width: 1px;\n",
       "}\n",
       "\n",
       "#sk-container-id-1 div.sk-dashed-wrapped {\n",
       "  border: 1px dashed var(--sklearn-color-line);\n",
       "  margin: 0 0.4em 0.5em 0.4em;\n",
       "  box-sizing: border-box;\n",
       "  padding-bottom: 0.4em;\n",
       "  background-color: var(--sklearn-color-background);\n",
       "}\n",
       "\n",
       "#sk-container-id-1 div.sk-container {\n",
       "  /* jupyter's `normalize.less` sets `[hidden] { display: none; }`\n",
       "     but bootstrap.min.css set `[hidden] { display: none !important; }`\n",
       "     so we also need the `!important` here to be able to override the\n",
       "     default hidden behavior on the sphinx rendered scikit-learn.org.\n",
       "     See: https://github.com/scikit-learn/scikit-learn/issues/21755 */\n",
       "  display: inline-block !important;\n",
       "  position: relative;\n",
       "}\n",
       "\n",
       "#sk-container-id-1 div.sk-text-repr-fallback {\n",
       "  display: none;\n",
       "}\n",
       "\n",
       "div.sk-parallel-item,\n",
       "div.sk-serial,\n",
       "div.sk-item {\n",
       "  /* draw centered vertical line to link estimators */\n",
       "  background-image: linear-gradient(var(--sklearn-color-text-on-default-background), var(--sklearn-color-text-on-default-background));\n",
       "  background-size: 2px 100%;\n",
       "  background-repeat: no-repeat;\n",
       "  background-position: center center;\n",
       "}\n",
       "\n",
       "/* Parallel-specific style estimator block */\n",
       "\n",
       "#sk-container-id-1 div.sk-parallel-item::after {\n",
       "  content: \"\";\n",
       "  width: 100%;\n",
       "  border-bottom: 2px solid var(--sklearn-color-text-on-default-background);\n",
       "  flex-grow: 1;\n",
       "}\n",
       "\n",
       "#sk-container-id-1 div.sk-parallel {\n",
       "  display: flex;\n",
       "  align-items: stretch;\n",
       "  justify-content: center;\n",
       "  background-color: var(--sklearn-color-background);\n",
       "  position: relative;\n",
       "}\n",
       "\n",
       "#sk-container-id-1 div.sk-parallel-item {\n",
       "  display: flex;\n",
       "  flex-direction: column;\n",
       "}\n",
       "\n",
       "#sk-container-id-1 div.sk-parallel-item:first-child::after {\n",
       "  align-self: flex-end;\n",
       "  width: 50%;\n",
       "}\n",
       "\n",
       "#sk-container-id-1 div.sk-parallel-item:last-child::after {\n",
       "  align-self: flex-start;\n",
       "  width: 50%;\n",
       "}\n",
       "\n",
       "#sk-container-id-1 div.sk-parallel-item:only-child::after {\n",
       "  width: 0;\n",
       "}\n",
       "\n",
       "/* Serial-specific style estimator block */\n",
       "\n",
       "#sk-container-id-1 div.sk-serial {\n",
       "  display: flex;\n",
       "  flex-direction: column;\n",
       "  align-items: center;\n",
       "  background-color: var(--sklearn-color-background);\n",
       "  padding-right: 1em;\n",
       "  padding-left: 1em;\n",
       "}\n",
       "\n",
       "\n",
       "/* Toggleable style: style used for estimator/Pipeline/ColumnTransformer box that is\n",
       "clickable and can be expanded/collapsed.\n",
       "- Pipeline and ColumnTransformer use this feature and define the default style\n",
       "- Estimators will overwrite some part of the style using the `sk-estimator` class\n",
       "*/\n",
       "\n",
       "/* Pipeline and ColumnTransformer style (default) */\n",
       "\n",
       "#sk-container-id-1 div.sk-toggleable {\n",
       "  /* Default theme specific background. It is overwritten whether we have a\n",
       "  specific estimator or a Pipeline/ColumnTransformer */\n",
       "  background-color: var(--sklearn-color-background);\n",
       "}\n",
       "\n",
       "/* Toggleable label */\n",
       "#sk-container-id-1 label.sk-toggleable__label {\n",
       "  cursor: pointer;\n",
       "  display: flex;\n",
       "  width: 100%;\n",
       "  margin-bottom: 0;\n",
       "  padding: 0.5em;\n",
       "  box-sizing: border-box;\n",
       "  text-align: center;\n",
       "  align-items: start;\n",
       "  justify-content: space-between;\n",
       "  gap: 0.5em;\n",
       "}\n",
       "\n",
       "#sk-container-id-1 label.sk-toggleable__label .caption {\n",
       "  font-size: 0.6rem;\n",
       "  font-weight: lighter;\n",
       "  color: var(--sklearn-color-text-muted);\n",
       "}\n",
       "\n",
       "#sk-container-id-1 label.sk-toggleable__label-arrow:before {\n",
       "  /* Arrow on the left of the label */\n",
       "  content: \"▸\";\n",
       "  float: left;\n",
       "  margin-right: 0.25em;\n",
       "  color: var(--sklearn-color-icon);\n",
       "}\n",
       "\n",
       "#sk-container-id-1 label.sk-toggleable__label-arrow:hover:before {\n",
       "  color: var(--sklearn-color-text);\n",
       "}\n",
       "\n",
       "/* Toggleable content - dropdown */\n",
       "\n",
       "#sk-container-id-1 div.sk-toggleable__content {\n",
       "  max-height: 0;\n",
       "  max-width: 0;\n",
       "  overflow: hidden;\n",
       "  text-align: left;\n",
       "  /* unfitted */\n",
       "  background-color: var(--sklearn-color-unfitted-level-0);\n",
       "}\n",
       "\n",
       "#sk-container-id-1 div.sk-toggleable__content.fitted {\n",
       "  /* fitted */\n",
       "  background-color: var(--sklearn-color-fitted-level-0);\n",
       "}\n",
       "\n",
       "#sk-container-id-1 div.sk-toggleable__content pre {\n",
       "  margin: 0.2em;\n",
       "  border-radius: 0.25em;\n",
       "  color: var(--sklearn-color-text);\n",
       "  /* unfitted */\n",
       "  background-color: var(--sklearn-color-unfitted-level-0);\n",
       "}\n",
       "\n",
       "#sk-container-id-1 div.sk-toggleable__content.fitted pre {\n",
       "  /* unfitted */\n",
       "  background-color: var(--sklearn-color-fitted-level-0);\n",
       "}\n",
       "\n",
       "#sk-container-id-1 input.sk-toggleable__control:checked~div.sk-toggleable__content {\n",
       "  /* Expand drop-down */\n",
       "  max-height: 200px;\n",
       "  max-width: 100%;\n",
       "  overflow: auto;\n",
       "}\n",
       "\n",
       "#sk-container-id-1 input.sk-toggleable__control:checked~label.sk-toggleable__label-arrow:before {\n",
       "  content: \"▾\";\n",
       "}\n",
       "\n",
       "/* Pipeline/ColumnTransformer-specific style */\n",
       "\n",
       "#sk-container-id-1 div.sk-label input.sk-toggleable__control:checked~label.sk-toggleable__label {\n",
       "  color: var(--sklearn-color-text);\n",
       "  background-color: var(--sklearn-color-unfitted-level-2);\n",
       "}\n",
       "\n",
       "#sk-container-id-1 div.sk-label.fitted input.sk-toggleable__control:checked~label.sk-toggleable__label {\n",
       "  background-color: var(--sklearn-color-fitted-level-2);\n",
       "}\n",
       "\n",
       "/* Estimator-specific style */\n",
       "\n",
       "/* Colorize estimator box */\n",
       "#sk-container-id-1 div.sk-estimator input.sk-toggleable__control:checked~label.sk-toggleable__label {\n",
       "  /* unfitted */\n",
       "  background-color: var(--sklearn-color-unfitted-level-2);\n",
       "}\n",
       "\n",
       "#sk-container-id-1 div.sk-estimator.fitted input.sk-toggleable__control:checked~label.sk-toggleable__label {\n",
       "  /* fitted */\n",
       "  background-color: var(--sklearn-color-fitted-level-2);\n",
       "}\n",
       "\n",
       "#sk-container-id-1 div.sk-label label.sk-toggleable__label,\n",
       "#sk-container-id-1 div.sk-label label {\n",
       "  /* The background is the default theme color */\n",
       "  color: var(--sklearn-color-text-on-default-background);\n",
       "}\n",
       "\n",
       "/* On hover, darken the color of the background */\n",
       "#sk-container-id-1 div.sk-label:hover label.sk-toggleable__label {\n",
       "  color: var(--sklearn-color-text);\n",
       "  background-color: var(--sklearn-color-unfitted-level-2);\n",
       "}\n",
       "\n",
       "/* Label box, darken color on hover, fitted */\n",
       "#sk-container-id-1 div.sk-label.fitted:hover label.sk-toggleable__label.fitted {\n",
       "  color: var(--sklearn-color-text);\n",
       "  background-color: var(--sklearn-color-fitted-level-2);\n",
       "}\n",
       "\n",
       "/* Estimator label */\n",
       "\n",
       "#sk-container-id-1 div.sk-label label {\n",
       "  font-family: monospace;\n",
       "  font-weight: bold;\n",
       "  display: inline-block;\n",
       "  line-height: 1.2em;\n",
       "}\n",
       "\n",
       "#sk-container-id-1 div.sk-label-container {\n",
       "  text-align: center;\n",
       "}\n",
       "\n",
       "/* Estimator-specific */\n",
       "#sk-container-id-1 div.sk-estimator {\n",
       "  font-family: monospace;\n",
       "  border: 1px dotted var(--sklearn-color-border-box);\n",
       "  border-radius: 0.25em;\n",
       "  box-sizing: border-box;\n",
       "  margin-bottom: 0.5em;\n",
       "  /* unfitted */\n",
       "  background-color: var(--sklearn-color-unfitted-level-0);\n",
       "}\n",
       "\n",
       "#sk-container-id-1 div.sk-estimator.fitted {\n",
       "  /* fitted */\n",
       "  background-color: var(--sklearn-color-fitted-level-0);\n",
       "}\n",
       "\n",
       "/* on hover */\n",
       "#sk-container-id-1 div.sk-estimator:hover {\n",
       "  /* unfitted */\n",
       "  background-color: var(--sklearn-color-unfitted-level-2);\n",
       "}\n",
       "\n",
       "#sk-container-id-1 div.sk-estimator.fitted:hover {\n",
       "  /* fitted */\n",
       "  background-color: var(--sklearn-color-fitted-level-2);\n",
       "}\n",
       "\n",
       "/* Specification for estimator info (e.g. \"i\" and \"?\") */\n",
       "\n",
       "/* Common style for \"i\" and \"?\" */\n",
       "\n",
       ".sk-estimator-doc-link,\n",
       "a:link.sk-estimator-doc-link,\n",
       "a:visited.sk-estimator-doc-link {\n",
       "  float: right;\n",
       "  font-size: smaller;\n",
       "  line-height: 1em;\n",
       "  font-family: monospace;\n",
       "  background-color: var(--sklearn-color-background);\n",
       "  border-radius: 1em;\n",
       "  height: 1em;\n",
       "  width: 1em;\n",
       "  text-decoration: none !important;\n",
       "  margin-left: 0.5em;\n",
       "  text-align: center;\n",
       "  /* unfitted */\n",
       "  border: var(--sklearn-color-unfitted-level-1) 1pt solid;\n",
       "  color: var(--sklearn-color-unfitted-level-1);\n",
       "}\n",
       "\n",
       ".sk-estimator-doc-link.fitted,\n",
       "a:link.sk-estimator-doc-link.fitted,\n",
       "a:visited.sk-estimator-doc-link.fitted {\n",
       "  /* fitted */\n",
       "  border: var(--sklearn-color-fitted-level-1) 1pt solid;\n",
       "  color: var(--sklearn-color-fitted-level-1);\n",
       "}\n",
       "\n",
       "/* On hover */\n",
       "div.sk-estimator:hover .sk-estimator-doc-link:hover,\n",
       ".sk-estimator-doc-link:hover,\n",
       "div.sk-label-container:hover .sk-estimator-doc-link:hover,\n",
       ".sk-estimator-doc-link:hover {\n",
       "  /* unfitted */\n",
       "  background-color: var(--sklearn-color-unfitted-level-3);\n",
       "  color: var(--sklearn-color-background);\n",
       "  text-decoration: none;\n",
       "}\n",
       "\n",
       "div.sk-estimator.fitted:hover .sk-estimator-doc-link.fitted:hover,\n",
       ".sk-estimator-doc-link.fitted:hover,\n",
       "div.sk-label-container:hover .sk-estimator-doc-link.fitted:hover,\n",
       ".sk-estimator-doc-link.fitted:hover {\n",
       "  /* fitted */\n",
       "  background-color: var(--sklearn-color-fitted-level-3);\n",
       "  color: var(--sklearn-color-background);\n",
       "  text-decoration: none;\n",
       "}\n",
       "\n",
       "/* Span, style for the box shown on hovering the info icon */\n",
       ".sk-estimator-doc-link span {\n",
       "  display: none;\n",
       "  z-index: 9999;\n",
       "  position: relative;\n",
       "  font-weight: normal;\n",
       "  right: .2ex;\n",
       "  padding: .5ex;\n",
       "  margin: .5ex;\n",
       "  width: min-content;\n",
       "  min-width: 20ex;\n",
       "  max-width: 50ex;\n",
       "  color: var(--sklearn-color-text);\n",
       "  box-shadow: 2pt 2pt 4pt #999;\n",
       "  /* unfitted */\n",
       "  background: var(--sklearn-color-unfitted-level-0);\n",
       "  border: .5pt solid var(--sklearn-color-unfitted-level-3);\n",
       "}\n",
       "\n",
       ".sk-estimator-doc-link.fitted span {\n",
       "  /* fitted */\n",
       "  background: var(--sklearn-color-fitted-level-0);\n",
       "  border: var(--sklearn-color-fitted-level-3);\n",
       "}\n",
       "\n",
       ".sk-estimator-doc-link:hover span {\n",
       "  display: block;\n",
       "}\n",
       "\n",
       "/* \"?\"-specific style due to the `<a>` HTML tag */\n",
       "\n",
       "#sk-container-id-1 a.estimator_doc_link {\n",
       "  float: right;\n",
       "  font-size: 1rem;\n",
       "  line-height: 1em;\n",
       "  font-family: monospace;\n",
       "  background-color: var(--sklearn-color-background);\n",
       "  border-radius: 1rem;\n",
       "  height: 1rem;\n",
       "  width: 1rem;\n",
       "  text-decoration: none;\n",
       "  /* unfitted */\n",
       "  color: var(--sklearn-color-unfitted-level-1);\n",
       "  border: var(--sklearn-color-unfitted-level-1) 1pt solid;\n",
       "}\n",
       "\n",
       "#sk-container-id-1 a.estimator_doc_link.fitted {\n",
       "  /* fitted */\n",
       "  border: var(--sklearn-color-fitted-level-1) 1pt solid;\n",
       "  color: var(--sklearn-color-fitted-level-1);\n",
       "}\n",
       "\n",
       "/* On hover */\n",
       "#sk-container-id-1 a.estimator_doc_link:hover {\n",
       "  /* unfitted */\n",
       "  background-color: var(--sklearn-color-unfitted-level-3);\n",
       "  color: var(--sklearn-color-background);\n",
       "  text-decoration: none;\n",
       "}\n",
       "\n",
       "#sk-container-id-1 a.estimator_doc_link.fitted:hover {\n",
       "  /* fitted */\n",
       "  background-color: var(--sklearn-color-fitted-level-3);\n",
       "}\n",
       "</style><div id=\"sk-container-id-1\" class=\"sk-top-container\"><div class=\"sk-text-repr-fallback\"><pre>NearestNeighbors(metric=&#x27;euclidean&#x27;)</pre><b>In a Jupyter environment, please rerun this cell to show the HTML representation or trust the notebook. <br />On GitHub, the HTML representation is unable to render, please try loading this page with nbviewer.org.</b></div><div class=\"sk-container\" hidden><div class=\"sk-item\"><div class=\"sk-estimator fitted sk-toggleable\"><input class=\"sk-toggleable__control sk-hidden--visually\" id=\"sk-estimator-id-1\" type=\"checkbox\" checked><label for=\"sk-estimator-id-1\" class=\"sk-toggleable__label fitted sk-toggleable__label-arrow\"><div><div>NearestNeighbors</div></div><div><a class=\"sk-estimator-doc-link fitted\" rel=\"noreferrer\" target=\"_blank\" href=\"https://scikit-learn.org/1.6/modules/generated/sklearn.neighbors.NearestNeighbors.html\">?<span>Documentation for NearestNeighbors</span></a><span class=\"sk-estimator-doc-link fitted\">i<span>Fitted</span></span></div></label><div class=\"sk-toggleable__content fitted\"><pre>NearestNeighbors(metric=&#x27;euclidean&#x27;)</pre></div> </div></div></div></div>"
      ],
      "text/plain": [
       "NearestNeighbors(metric='euclidean')"
      ]
     },
     "execution_count": 175,
     "metadata": {},
     "output_type": "execute_result"
    }
   ],
   "source": [
    "nn.fit(all_colors)"
   ]
  },
  {
   "cell_type": "code",
   "execution_count": 179,
   "metadata": {},
   "outputs": [],
   "source": [
    "def find_matching_products_nn(query_colors, nn_model, df, top_k=5):\n",
    "    query_colors = np.array(query_colors, dtype=\"float32\")\n",
    "    distances, indices = nn_model.kneighbors(query_colors)\n",
    "\n",
    "    # Collect all matching product IDs and their distances\n",
    "    matches = []\n",
    "    for i, query in enumerate(query_colors):\n",
    "        for j in range(top_k):\n",
    "            product_id = df.iloc[indices[i][j]][\"Photo produit 1\"]\n",
    "            distance = distances[i][j]\n",
    "            matches.append((product_id, distance))\n",
    "\n",
    "    # Group by Product ID and keep the best (min) distance\n",
    "    product_distances = {}\n",
    "    for product_id, distance in matches:\n",
    "        if product_id not in product_distances or distance < product_distances[product_id]:\n",
    "            product_distances[product_id] = distance\n",
    "\n",
    "    # Sort products by distance\n",
    "    sorted_products = sorted(product_distances.items(), key=lambda x: x[1])\n",
    "    return sorted_products[:top_k]\n"
   ]
  },
  {
   "cell_type": "code",
   "execution_count": 185,
   "metadata": {},
   "outputs": [],
   "source": [
    "query_colors = query_color = [[83.13725490196079, 0.0, 0.0], [70.58823529411765, 0.0, 0.0]] # Example CIELAB vectors\n",
    "matches = find_matching_products(query_colors, index, data, top_k=5)"
   ]
  },
  {
   "cell_type": "code",
   "execution_count": 186,
   "metadata": {},
   "outputs": [
    {
     "data": {
      "text/plain": [
       "[('https://wasted.fr/cdn/shop/files/crewneck-negative-617699_2048x2048.jpg?v=1712661665',\n",
       "  np.float32(0.0)),\n",
       " ('https://wasted.fr/cdn/shop/products/jean-casper-snow-feeler-762622.jpg?v=1706147807',\n",
       "  np.float32(0.0)),\n",
       " ('https://wasted.fr/cdn/shop/files/t-shirt-united-930779_2048x2048.jpg?v=1730548101',\n",
       "  np.float32(0.1537883)),\n",
       " ('https://wasted.fr/cdn/shop/products/hoodie-zip-crown-pitcher-736902_2048x2048.jpg?v=1689958848',\n",
       "  np.float32(0.1537883)),\n",
       " ('https://wasted.fr/cdn/shop/files/jean-casper-signature-610785.jpg?v=1737390239',\n",
       "  np.float32(0.1537883))]"
      ]
     },
     "execution_count": 186,
     "metadata": {},
     "output_type": "execute_result"
    }
   ],
   "source": [
    "matches"
   ]
  },
  {
   "cell_type": "code",
   "execution_count": 187,
   "metadata": {},
   "outputs": [
    {
     "name": "stderr",
     "output_type": "stream",
     "text": [
      "C:\\Users\\BahaARFAOUI\\AppData\\Local\\Temp\\ipykernel_15116\\271524657.py:1: FutureWarning: Series.__getitem__ treating keys as positions is deprecated. In a future version, integer keys will always be treated as labels (consistent with DataFrame behavior). To access a value by position, use `ser.iloc[pos]`\n",
      "  dataset.iloc[140,][0]\n"
     ]
    },
    {
     "data": {
      "text/plain": [
       "'https://wasted.fr/cdn/shop/products/jean-casper-snow-feeler-762622.jpg?v=1706147807'"
      ]
     },
     "execution_count": 187,
     "metadata": {},
     "output_type": "execute_result"
    }
   ],
   "source": [
    "dataset.iloc[140,][0]"
   ]
  },
  {
   "cell_type": "code",
   "execution_count": 68,
   "metadata": {},
   "outputs": [],
   "source": [
    "data_preview=pd.read_excel(\"data/data_preview.xlsx\")"
   ]
  },
  {
   "cell_type": "code",
   "execution_count": 69,
   "metadata": {},
   "outputs": [],
   "source": [
    "data_preview=data_preview.drop(\"Unnamed: 0\",axis=1)"
   ]
  },
  {
   "cell_type": "code",
   "execution_count": 70,
   "metadata": {},
   "outputs": [],
   "source": [
    "products=data_preview[\"Catégorie produit\"].unique().tolist()"
   ]
  },
  {
   "cell_type": "code",
   "execution_count": 28,
   "metadata": {},
   "outputs": [
    {
     "name": "stdout",
     "output_type": "stream",
     "text": [
      "T-shirt\n",
      "Hoodie\n",
      "Pull\n",
      "Jean\n",
      "Pantalon\n",
      "Jogging\n",
      "Veste\n",
      "Doudoune\n",
      "Jupe\n",
      "Bonnet\n",
      "Casquette\n",
      "Chapeau\n",
      "Short\n",
      "Chemise\n",
      "Pantalon habillé\n",
      "Chino\n",
      "short\n",
      "Blazer\n",
      "Robe\n",
      "Manteau\n",
      "Blouson\n",
      "Trench\n",
      "Cardigan\n",
      "Col roulé\n",
      "Top\n",
      "top\n",
      "Débardeur\n",
      "chemise\n",
      "t shirt \n",
      "body\n",
      "t shirt\n",
      "jean\n",
      "pantalon habillé\n",
      "jupe\n",
      "sneakers\n",
      "botte\n",
      "Chaussures de ville\n",
      "bottes\n",
      "escarpin\n",
      "Bottes\n",
      "T-Shirt\n",
      "Écharpe\n",
      "Portefeuille\n",
      "Sac bandoulière\n",
      "Sac à main\n",
      "Sac de voyage\n",
      "Lunettes\n",
      "Sac à dos\n",
      "Veste \n",
      "Bob\n"
     ]
    }
   ],
   "source": [
    "for item in products:\n",
    "    print(f\"{item}\")"
   ]
  },
  {
   "cell_type": "code",
   "execution_count": 29,
   "metadata": {},
   "outputs": [],
   "source": [
    "import yaml\n",
    "from pyprojroot import here\n",
    "with open(here(\"colorfact/configs/outfit.yaml\")) as cfg:\n",
    "            outfit = yaml.load(cfg, Loader=yaml.FullLoader)"
   ]
  },
  {
   "cell_type": "code",
   "execution_count": 36,
   "metadata": {},
   "outputs": [],
   "source": [
    "cat=list(outfit[\"Ontologie\"].values())"
   ]
  },
  {
   "cell_type": "code",
   "execution_count": 43,
   "metadata": {},
   "outputs": [],
   "source": [
    "cat=[item.split(',') for item in cat]"
   ]
  },
  {
   "cell_type": "code",
   "execution_count": 45,
   "metadata": {},
   "outputs": [],
   "source": [
    "cat=[item.strip() for sublist in cat for item in sublist]"
   ]
  },
  {
   "cell_type": "code",
   "execution_count": 46,
   "metadata": {},
   "outputs": [
    {
     "data": {
      "text/plain": [
       "['T-shirt',\n",
       " 'Polo',\n",
       " 'Chemise',\n",
       " 'Col-roulés',\n",
       " 'Sweatshirt',\n",
       " 'Hoodie',\n",
       " 'Pull',\n",
       " 'Cardigan',\n",
       " 'Veste',\n",
       " 'Blouson',\n",
       " 'Manteau',\n",
       " 'Parka',\n",
       " 'Trench',\n",
       " 'Pantalons',\n",
       " 'Jean',\n",
       " 'Short',\n",
       " 'Jogging',\n",
       " 'Chinos',\n",
       " 'Jupes/Robes',\n",
       " 'Combinaisons',\n",
       " 'Costumes',\n",
       " 'Tailleurs',\n",
       " 'Pantalon habillé',\n",
       " 'Blazer',\n",
       " 'Robe de soirée',\n",
       " 'Sneakers',\n",
       " 'Bottes',\n",
       " 'Chaussures de ville',\n",
       " 'Escarpins',\n",
       " 'Talons',\n",
       " 'Sandales',\n",
       " 'Sac à main',\n",
       " 'Sac à dos',\n",
       " 'Lunettes',\n",
       " 'Bonnet',\n",
       " 'Casquettes',\n",
       " 'Ceinture',\n",
       " 'Montre']"
      ]
     },
     "execution_count": 46,
     "metadata": {},
     "output_type": "execute_result"
    }
   ],
   "source": [
    "cat"
   ]
  },
  {
   "cell_type": "code",
   "execution_count": 71,
   "metadata": {},
   "outputs": [],
   "source": [
    "products_not_in=[item for item in products if item not in cat]"
   ]
  },
  {
   "cell_type": "code",
   "execution_count": 72,
   "metadata": {},
   "outputs": [
    {
     "data": {
      "text/plain": [
       "['Pantalon',\n",
       " 'Doudoune',\n",
       " 'Jupe',\n",
       " 'Casquette',\n",
       " 'Chapeau',\n",
       " 'Chino',\n",
       " 'short',\n",
       " 'Robe',\n",
       " 'Col roulé',\n",
       " 'Top',\n",
       " 'top',\n",
       " 'Débardeur',\n",
       " 'chemise',\n",
       " 't shirt ',\n",
       " 'body',\n",
       " 't shirt',\n",
       " 'jean',\n",
       " 'pantalon habillé',\n",
       " 'jupe',\n",
       " 'sneakers',\n",
       " 'botte',\n",
       " 'bottes',\n",
       " 'escarpin',\n",
       " 'T-Shirt',\n",
       " 'Écharpe',\n",
       " 'Portefeuille',\n",
       " 'Sac bandoulière',\n",
       " 'Sac de voyage',\n",
       " 'Veste ',\n",
       " 'Bob']"
      ]
     },
     "execution_count": 72,
     "metadata": {},
     "output_type": "execute_result"
    }
   ],
   "source": [
    "products_not_in"
   ]
  },
  {
   "cell_type": "code",
   "execution_count": 51,
   "metadata": {},
   "outputs": [
    {
     "data": {
      "text/plain": [
       "['T-shirt',\n",
       " 'Hoodie',\n",
       " 'Pull',\n",
       " 'Jean',\n",
       " 'Pantalon',\n",
       " 'Jogging',\n",
       " 'Veste',\n",
       " 'Doudoune',\n",
       " 'Jupe',\n",
       " 'Bonnet',\n",
       " 'Casquette',\n",
       " 'Chapeau',\n",
       " 'Short',\n",
       " 'Chemise',\n",
       " 'Pantalon habillé',\n",
       " 'Chino',\n",
       " 'short',\n",
       " 'Blazer',\n",
       " 'Robe',\n",
       " 'Manteau',\n",
       " 'Blouson',\n",
       " 'Trench',\n",
       " 'Cardigan',\n",
       " 'Col roulé',\n",
       " 'Top',\n",
       " 'top',\n",
       " 'Débardeur',\n",
       " 'chemise',\n",
       " 't shirt ',\n",
       " 'body',\n",
       " 't shirt',\n",
       " 'jean',\n",
       " 'pantalon habillé',\n",
       " 'jupe',\n",
       " 'sneakers',\n",
       " 'botte',\n",
       " 'Chaussures de ville',\n",
       " 'bottes',\n",
       " 'escarpin',\n",
       " 'Bottes',\n",
       " 'T-Shirt',\n",
       " 'Écharpe',\n",
       " 'Portefeuille',\n",
       " 'Sac bandoulière',\n",
       " 'Sac à main',\n",
       " 'Sac de voyage',\n",
       " 'Lunettes',\n",
       " 'Sac à dos',\n",
       " 'Veste ',\n",
       " 'Bob']"
      ]
     },
     "execution_count": 51,
     "metadata": {},
     "output_type": "execute_result"
    }
   ],
   "source": [
    "products"
   ]
  },
  {
   "cell_type": "code",
   "execution_count": 52,
   "metadata": {},
   "outputs": [
    {
     "name": "stdout",
     "output_type": "stream",
     "text": [
      "T-shirt -> T-shirt\n",
      "Hoodie -> Hoodie\n",
      "Pull -> Pull\n",
      "Jean -> Jean\n",
      "Pantalon -> Pantalons\n",
      "Jogging -> Jogging\n",
      "Veste -> Veste\n",
      "Doudoune -> Blouson\n",
      "Jupe -> Jupes/Robes\n",
      "Bonnet -> Bonnet\n",
      "Casquette -> Casquettes\n",
      "Chapeau -> Chaussures de ville\n",
      "Short -> Short\n",
      "Chemise -> Chemise\n",
      "Pantalon habillé -> Pantalon habillé\n",
      "Chino -> Chinos\n",
      "short -> Short\n",
      "Blazer -> Blazer\n",
      "Robe -> Jupes/Robes\n",
      "Manteau -> Manteau\n",
      "Blouson -> Blouson\n",
      "Trench -> Trench\n",
      "Cardigan -> Cardigan\n",
      "Col roulé -> Col-roulés\n",
      "Top -> T-shirt\n",
      "top -> T-shirt\n",
      "Débardeur -> Blazer\n",
      "chemise -> Chemise\n",
      "t shirt  -> T-shirt\n",
      "body -> Bottes\n",
      "t shirt -> T-shirt\n",
      "jean -> Jean\n",
      "pantalon habillé -> Pantalon habillé\n",
      "jupe -> Jupes/Robes\n",
      "sneakers -> Sneakers\n",
      "botte -> Bottes\n",
      "Chaussures de ville -> Chaussures de ville\n",
      "bottes -> Bottes\n",
      "escarpin -> Escarpins\n",
      "Bottes -> Bottes\n",
      "T-Shirt -> T-shirt\n",
      "Écharpe -> Chaussures de ville\n",
      "Portefeuille -> Pull\n",
      "Sac bandoulière -> Sac à main\n",
      "Sac à main -> Sac à main\n",
      "Sac de voyage -> Sac à dos\n",
      "Lunettes -> Lunettes\n",
      "Sac à dos -> Sac à dos\n",
      "Veste  -> Veste\n",
      "Bob -> Bottes\n"
     ]
    }
   ],
   "source": [
    "from thefuzz import process\n",
    "\n",
    "# Your raw product list\n",
    "raw_products =products\n",
    "\n",
    "# Standardized product categories\n",
    "standard_products = cat\n",
    "\n",
    "# Match each raw product to the closest standard category\n",
    "matched_products = {product: process.extractOne(product, standard_products)[0] for product in raw_products}\n",
    "\n",
    "# Print results\n",
    "for original, matched in matched_products.items():\n",
    "    print(f\"{original} -> {matched}\")\n"
   ]
  },
  {
   "cell_type": "code",
   "execution_count": null,
   "metadata": {},
   "outputs": [],
   "source": []
  },
  {
   "cell_type": "code",
   "execution_count": 53,
   "metadata": {},
   "outputs": [],
   "source": [
    "new_products=list(matched_products.values())"
   ]
  },
  {
   "cell_type": "code",
   "execution_count": 56,
   "metadata": {},
   "outputs": [],
   "source": [
    "products_not_in=[item for item in new_products if item not in cat]"
   ]
  },
  {
   "cell_type": "code",
   "execution_count": 58,
   "metadata": {},
   "outputs": [
    {
     "data": {
      "text/plain": [
       "[]"
      ]
     },
     "execution_count": 58,
     "metadata": {},
     "output_type": "execute_result"
    }
   ],
   "source": [
    "products_not_in"
   ]
  },
  {
   "cell_type": "code",
   "execution_count": 59,
   "metadata": {},
   "outputs": [],
   "source": [
    "import json \n",
    "# Save matched products\n",
    "with open(here(\"colorfact/data/product_mapping.json\"), \"w\", encoding=\"utf-8\") as f:\n",
    "    json.dump(matched_products, f, ensure_ascii=False, indent=4)"
   ]
  },
  {
   "cell_type": "code",
   "execution_count": 61,
   "metadata": {},
   "outputs": [
    {
     "name": "stdout",
     "output_type": "stream",
     "text": [
      "Chemise\n"
     ]
    }
   ],
   "source": [
    "# Load the mapping\n",
    "with open(here(\"colorfact/data/product_mapping.json\"), \"r\", encoding=\"utf-8\") as f:\n",
    "    saved_mapping = json.load(f)\n",
    "\n",
    "# Use the mapping instead of re-matching\n",
    "new_input = \"chemise\"\n",
    "standardized_output = saved_mapping.get(new_input, process.extractOne(new_input, standard_products)[0])\n",
    "print(standardized_output)"
   ]
  },
  {
   "cell_type": "code",
   "execution_count": 67,
   "metadata": {},
   "outputs": [
    {
     "data": {
      "text/plain": [
       "Index(['Photo produit 1', 'Photo produit 2 ', 'Nom produit ', 'Lien achat',\n",
       "       'Catégorie produit', 'Genre', 'cielab_colors'],\n",
       "      dtype='object')"
      ]
     },
     "execution_count": 67,
     "metadata": {},
     "output_type": "execute_result"
    }
   ],
   "source": [
    "data_preview.columns"
   ]
  },
  {
   "cell_type": "code",
   "execution_count": 73,
   "metadata": {},
   "outputs": [],
   "source": [
    "data_preview['Catégorie produit'] = data_preview['Catégorie produit'].map(saved_mapping)"
   ]
  },
  {
   "cell_type": "code",
   "execution_count": 74,
   "metadata": {},
   "outputs": [],
   "source": [
    "\n",
    "standard_products = list(set(saved_mapping.values()))  # Ensure unique standard product names\n",
    "\n",
    "data_preview['Catégorie produit'] = data_preview['Catégorie produit'].fillna(data_preview['Catégorie produit'].apply(lambda x: process.extractOne(x, standard_products)[0]))\n"
   ]
  },
  {
   "cell_type": "code",
   "execution_count": 75,
   "metadata": {},
   "outputs": [],
   "source": [
    "products=data_preview[\"Catégorie produit\"].unique().tolist()"
   ]
  },
  {
   "cell_type": "code",
   "execution_count": 76,
   "metadata": {},
   "outputs": [],
   "source": [
    "products_not_in=[item for item in products if item not in cat]"
   ]
  },
  {
   "cell_type": "code",
   "execution_count": 77,
   "metadata": {},
   "outputs": [
    {
     "data": {
      "text/plain": [
       "[]"
      ]
     },
     "execution_count": 77,
     "metadata": {},
     "output_type": "execute_result"
    }
   ],
   "source": [
    "products_not_in"
   ]
  },
  {
   "cell_type": "code",
   "execution_count": 78,
   "metadata": {},
   "outputs": [],
   "source": [
    "from dotenv import load_dotenv"
   ]
  },
  {
   "cell_type": "code",
   "execution_count": 79,
   "metadata": {},
   "outputs": [
    {
     "data": {
      "text/plain": [
       "True"
      ]
     },
     "execution_count": 79,
     "metadata": {},
     "output_type": "execute_result"
    }
   ],
   "source": [
    "load_dotenv()"
   ]
  },
  {
   "cell_type": "code",
   "execution_count": null,
   "metadata": {},
   "outputs": [],
   "source": []
  }
 ],
 "metadata": {
  "kernelspec": {
   "display_name": "clothes",
   "language": "python",
   "name": "python3"
  },
  "language_info": {
   "codemirror_mode": {
    "name": "ipython",
    "version": 3
   },
   "file_extension": ".py",
   "mimetype": "text/x-python",
   "name": "python",
   "nbconvert_exporter": "python",
   "pygments_lexer": "ipython3",
   "version": "3.11.11"
  }
 },
 "nbformat": 4,
 "nbformat_minor": 2
}
