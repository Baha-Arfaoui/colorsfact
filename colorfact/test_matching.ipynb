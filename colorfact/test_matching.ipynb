{
 "cells": [
  {
   "cell_type": "code",
   "execution_count": 90,
   "metadata": {},
   "outputs": [],
   "source": [
    "import pandas as pd "
   ]
  },
  {
   "cell_type": "code",
   "execution_count": 91,
   "metadata": {},
   "outputs": [],
   "source": [
    "dataset=pd.read_excel(\"data/data_test.xlsx\")"
   ]
  },
  {
   "cell_type": "code",
   "execution_count": 92,
   "metadata": {},
   "outputs": [],
   "source": [
    "dataset=dataset.drop(\"Unnamed: 0\",axis=1)"
   ]
  },
  {
   "cell_type": "code",
   "execution_count": 94,
   "metadata": {},
   "outputs": [],
   "source": [
    "dataset=dataset.drop_duplicates()"
   ]
  },
  {
   "cell_type": "code",
   "execution_count": 95,
   "metadata": {},
   "outputs": [
    {
     "data": {
      "text/html": [
       "<div>\n",
       "<style scoped>\n",
       "    .dataframe tbody tr th:only-of-type {\n",
       "        vertical-align: middle;\n",
       "    }\n",
       "\n",
       "    .dataframe tbody tr th {\n",
       "        vertical-align: top;\n",
       "    }\n",
       "\n",
       "    .dataframe thead th {\n",
       "        text-align: right;\n",
       "    }\n",
       "</style>\n",
       "<table border=\"1\" class=\"dataframe\">\n",
       "  <thead>\n",
       "    <tr style=\"text-align: right;\">\n",
       "      <th></th>\n",
       "      <th>Photo produit 1</th>\n",
       "      <th>Photo produit 2</th>\n",
       "      <th>Nom produit</th>\n",
       "      <th>Lien achat</th>\n",
       "      <th>Catégorie produit</th>\n",
       "      <th>Genre</th>\n",
       "      <th>cielab_colors</th>\n",
       "    </tr>\n",
       "  </thead>\n",
       "  <tbody>\n",
       "    <tr>\n",
       "      <th>0</th>\n",
       "      <td>https://wasted.fr/cdn/shop/files/t-shirt-acid-...</td>\n",
       "      <td>-</td>\n",
       "      <td>T-Shirt Acid</td>\n",
       "      <td>https://wasted.fr/collections/t-shirts-homme/p...</td>\n",
       "      <td>T-shirt</td>\n",
       "      <td>H/F</td>\n",
       "      <td>[[10.588235294117647, 0.0, 1.0]]</td>\n",
       "    </tr>\n",
       "    <tr>\n",
       "      <th>1</th>\n",
       "      <td>https://wasted.fr/cdn/shop/files/t-shirt-happy...</td>\n",
       "      <td>-</td>\n",
       "      <td>T-Shirt Happy When it Rains</td>\n",
       "      <td>https://wasted.fr/collections/t-shirts-homme/p...</td>\n",
       "      <td>T-shirt</td>\n",
       "      <td>H/F</td>\n",
       "      <td>[[10.588235294117647, 0.0, 0.0]]</td>\n",
       "    </tr>\n",
       "  </tbody>\n",
       "</table>\n",
       "</div>"
      ],
      "text/plain": [
       "                                     Photo produit 1 Photo produit 2   \\\n",
       "0  https://wasted.fr/cdn/shop/files/t-shirt-acid-...                -   \n",
       "1  https://wasted.fr/cdn/shop/files/t-shirt-happy...                -   \n",
       "\n",
       "                  Nom produit   \\\n",
       "0                 T-Shirt Acid   \n",
       "1  T-Shirt Happy When it Rains   \n",
       "\n",
       "                                          Lien achat Catégorie produit Genre  \\\n",
       "0  https://wasted.fr/collections/t-shirts-homme/p...           T-shirt   H/F   \n",
       "1  https://wasted.fr/collections/t-shirts-homme/p...           T-shirt   H/F   \n",
       "\n",
       "                      cielab_colors  \n",
       "0  [[10.588235294117647, 0.0, 1.0]]  \n",
       "1  [[10.588235294117647, 0.0, 0.0]]  "
      ]
     },
     "execution_count": 95,
     "metadata": {},
     "output_type": "execute_result"
    }
   ],
   "source": [
    "dataset.head(2)"
   ]
  },
  {
   "cell_type": "code",
   "execution_count": 96,
   "metadata": {},
   "outputs": [
    {
     "data": {
      "text/plain": [
       "Index(['Photo produit 1', 'Photo produit 2 ', 'Nom produit ', 'Lien achat',\n",
       "       'Catégorie produit', 'Genre', 'cielab_colors'],\n",
       "      dtype='object')"
      ]
     },
     "execution_count": 96,
     "metadata": {},
     "output_type": "execute_result"
    }
   ],
   "source": [
    "dataset.columns"
   ]
  },
  {
   "cell_type": "code",
   "execution_count": 98,
   "metadata": {},
   "outputs": [],
   "source": [
    "import ast \n",
    "\n",
    "dataset[\"cielab_colors\"]=dataset[\"cielab_colors\"].apply(ast.literal_eval)"
   ]
  },
  {
   "cell_type": "code",
   "execution_count": 99,
   "metadata": {},
   "outputs": [],
   "source": [
    "data=dataset.explode(\"cielab_colors\").reset_index(drop=True)"
   ]
  },
  {
   "cell_type": "code",
   "execution_count": 100,
   "metadata": {},
   "outputs": [
    {
     "data": {
      "text/plain": [
       "(1782, 7)"
      ]
     },
     "execution_count": 100,
     "metadata": {},
     "output_type": "execute_result"
    }
   ],
   "source": [
    "data.shape\n"
   ]
  },
  {
   "cell_type": "code",
   "execution_count": 101,
   "metadata": {},
   "outputs": [],
   "source": [
    "import faiss "
   ]
  },
  {
   "cell_type": "code",
   "execution_count": 102,
   "metadata": {},
   "outputs": [],
   "source": [
    "import numpy as np "
   ]
  },
  {
   "cell_type": "code",
   "execution_count": 152,
   "metadata": {},
   "outputs": [],
   "source": [
    "all_colors=np.array(data[\"cielab_colors\"].tolist(),dtype=\"float32\")"
   ]
  },
  {
   "cell_type": "code",
   "execution_count": 104,
   "metadata": {},
   "outputs": [],
   "source": [
    "dim=3"
   ]
  },
  {
   "cell_type": "code",
   "execution_count": 159,
   "metadata": {},
   "outputs": [],
   "source": [
    "import faiss\n",
    "import numpy as np\n",
    "\n",
    "\n",
    "\n",
    "def normalize_L2(vectors):\n",
    "    \"\"\"Convertit en float32 et applique la normalisation L2\"\"\"\n",
    "    vectors = np.array(vectors, dtype=np.float32)  # Assurer float32\n",
    "    faiss.normalize_L2(vectors)  # Normalisation\n",
    "    return vectors\n",
    "\n",
    "\n",
    "# Charger les couleurs CIELAB (déjà normalisées entre 0 et 1)\n",
    "\n",
    "\n",
    "# Normalisation pour la similarité cosinus\n",
    "dataset_cielab_normalized = normalize_L2(all_colors)\n",
    "\n",
    "# Créer un index FAISS avec similarité cosinus\n",
    "d = 3 # Dimension des couleurs\n",
    "index = faiss.IndexFlatIP(d)  # Index pour la similarité cosinus\n",
    "index.add(dataset_cielab_normalized)  # Ajouter les vecteurs normalisés\n",
    "\n"
   ]
  },
  {
   "cell_type": "code",
   "execution_count": 160,
   "metadata": {},
   "outputs": [],
   "source": [
    "# Sauvegarde de l'index Faiss\n",
    "faiss.write_index(index, \"faiss_index.idx\")"
   ]
  },
  {
   "cell_type": "code",
   "execution_count": 44,
   "metadata": {},
   "outputs": [],
   "source": [
    "def fin_matching_products(query_colors,index,df,top_K=5):\n",
    "    query_colors=np.array(query_colors,dtype=\"float32\")\n",
    "    distances,indices=index.search(query_colors,top_K)\n",
    "    matches=[]\n",
    "    for i,query in enumerate(query_colors):\n",
    "        for j in range(top_K):\n",
    "            product_id=df.iloc[indices[i][j][\"Photo produit 1\"]]\n",
    "            distance=distances[i][j]\n",
    "            matches.append((product_id,distance))\n",
    "\n",
    "    product_distances={}\n",
    "    for product_id,distance in matches:\n",
    "        if product_id not in product_distances or distance < product_distances[product_id]:\n",
    "            product_distances[product_id]=distance\n",
    "    sorted_products=sorted(product_distances.items(),key=lambda x: x[1])\n",
    "    return sorted_products[:top_K]"
   ]
  },
  {
   "cell_type": "code",
   "execution_count": 139,
   "metadata": {},
   "outputs": [
    {
     "name": "stdout",
     "output_type": "stream",
     "text": [
      "Empty DataFrame\n",
      "Columns: [Photo produit 1, Photo produit 2 , Nom produit , Lien achat, Catégorie produit, Genre, cielab_colors]\n",
      "Index: []\n"
     ]
    }
   ],
   "source": [
    "print(dataset[dataset[\"cielab_colors\"]==\"[[58.03921568627452, -5.0, 26.0], [46.27450980392157, -3.0, 23.0]]\"])"
   ]
  },
  {
   "cell_type": "code",
   "execution_count": 125,
   "metadata": {},
   "outputs": [],
   "source": [
    "query_colors=[[58.03921568627452, -5.0, 26.0], [46.27450980392157, -3.0, 23.0]]"
   ]
  },
  {
   "cell_type": "code",
   "execution_count": 108,
   "metadata": {},
   "outputs": [],
   "source": [
    "# Sauvegarde des ID pour retrouver les produits plus tard\n",
    "product_ids = np.array(data[\"Photo produit 1\"])"
   ]
  },
  {
   "cell_type": "code",
   "execution_count": null,
   "metadata": {},
   "outputs": [],
   "source": [
    "\n",
    "\n"
   ]
  },
  {
   "cell_type": "code",
   "execution_count": 149,
   "metadata": {},
   "outputs": [],
   "source": [
    "def filter_results_by_threshold(D, I, threshold=90):\n",
    "    \"\"\"\n",
    "    Convertit les distances en score et filtre les résultats en dessous du seuil.\n",
    "    \"\"\"\n",
    "    results = []\n",
    "    for i, distances in enumerate(D):\n",
    "        for j, dist in enumerate(distances):\n",
    "            score = max(0, 100 - dist)  # Convertir la distance en score\n",
    "            if score >= threshold:\n",
    "                print(score)\n",
    "                results.append((I[i][j], score))\n",
    "    return results\n"
   ]
  },
  {
   "cell_type": "code",
   "execution_count": 150,
   "metadata": {},
   "outputs": [],
   "source": [
    "from collections import Counter\n",
    "\n",
    "def match_similar_products(query_colors, k=5, threshold=90):\n",
    "    \"\"\"\n",
    "    - Détecte et normalise les couleurs de l'image\n",
    "    - Filtre les catégories compatibles\n",
    "    - Effectue le matching avec FAISS et filtre les scores < 90%\n",
    "    \"\"\"\n",
    "    # Étape 1 : Détection et normalisation\n",
    "    query_colors = np.array([normalize_color(c) for c in query_colors])  \n",
    "    \n",
    "\n",
    "\n",
    "    # Étape 3 : Recherche des couleurs dans Faiss\n",
    "    product_matches = []\n",
    "    for query_color in query_colors:\n",
    "        D, I = index.search(np.array([query_color]), k=5)  # Recherche Faiss\n",
    "\n",
    "        # Filtrer les résultats sous le seuil de 90%\n",
    "        filtered_results = filter_results_by_threshold(D, I, threshold)\n",
    "        matched_products = [product_ids[idx] for idx, score in filtered_results ]\n",
    "        \n",
    "        product_matches.extend(matched_products)  # Ajout à la liste globale\n",
    "    \n",
    "    # Étape 4 : Agrégation des résultats\n",
    "    product_counts = Counter(product_matches)\n",
    "    sorted_products = sorted(product_counts.items(), key=lambda x: x[1], reverse=True)\n",
    "\n",
    "    return sorted_products[:k]\n",
    "\n"
   ]
  },
  {
   "cell_type": "code",
   "execution_count": 168,
   "metadata": {},
   "outputs": [
    {
     "name": "stdout",
     "output_type": "stream",
     "text": [
      "[[63.921568627450974, -5.0, -17.0]]\n"
     ]
    },
    {
     "name": "stderr",
     "output_type": "stream",
     "text": [
      "C:\\Users\\BahaARFAOUI\\AppData\\Local\\Temp\\ipykernel_15116\\954741250.py:1: FutureWarning: Series.__getitem__ treating keys as positions is deprecated. In a future version, integer keys will always be treated as labels (consistent with DataFrame behavior). To access a value by position, use `ser.iloc[pos]`\n",
      "  print(dataset.iloc[150,:][6])\n"
     ]
    }
   ],
   "source": [
    "print(dataset.iloc[150,:][6])"
   ]
  },
  {
   "cell_type": "code",
   "execution_count": 156,
   "metadata": {},
   "outputs": [],
   "source": [
    "query_color = [[63.921568627450974, -5.0, -17.0]]"
   ]
  },
  {
   "cell_type": "code",
   "execution_count": 151,
   "metadata": {},
   "outputs": [
    {
     "name": "stdout",
     "output_type": "stream",
     "text": [
      "100.0\n",
      "99.999245\n",
      "99.99849\n",
      "99.997986\n",
      "99.997986\n",
      "100.0\n",
      "99.99937\n",
      "99.9982\n",
      "99.99802\n",
      "99.997986\n"
     ]
    },
    {
     "data": {
      "text/plain": [
       "[('https://nestorevintage.fr/cdn/shop/files/307FDA5D-D3FB-48D6-8DA2-2478DF104BD3.jpg?v=1738348432&width=2048',\n",
       "  2),\n",
       " ('https://nestorevintage.fr/cdn/shop/files/412D63EB-6B35-495D-85BA-F26344D3024F.jpg?v=1737575887&width=2048',\n",
       "  2),\n",
       " ('https://nestorevintage.fr/cdn/shop/files/2A6F83FB-EC8C-47F1-9B44-017383A513C6.jpg?v=1737897164&width=2048',\n",
       "  2),\n",
       " ('https://nestorevintage.fr/cdn/shop/files/91D912F0-3E3C-40DA-AC96-20D2A1533068.jpg?v=1737896991&width=2048',\n",
       "  1),\n",
       " ('https://fr.sandro-paris.com/dw/image/v2/BCMW_PRD/on/demandware.static/-/Sites-master-catalog/default/dwb6adda94/images/packshot/Sandro_SFPPA01544-84_F_P.jpg?sw=650&sh=650',\n",
       "  1)]"
      ]
     },
     "execution_count": 151,
     "metadata": {},
     "output_type": "execute_result"
    }
   ],
   "source": [
    "match_similar_products(query_colors=query_colors)"
   ]
  },
  {
   "cell_type": "code",
   "execution_count": 161,
   "metadata": {},
   "outputs": [],
   "source": [
    "def match_similar_products_cosine(query_colors, k=5, threshold=0.9):\n",
    "    \"\"\"\n",
    "    - Détecte et normalise les couleurs de l'image\n",
    "    - Filtre les catégories compatibles\n",
    "    - Effectue le matching avec FAISS (cosine similarity)\n",
    "    - Garde uniquement les résultats avec un score ≥ 90%\n",
    "    \"\"\"\n",
    "    # Étape 1 : Détection et normalisation des couleurs\n",
    "    query_colors = np.array([normalize_color(c) for c in query_colors])  \n",
    "\n",
    "  \n",
    "\n",
    "    # Étape 3 : Recherche des couleurs dans Faiss\n",
    "    product_matches = []\n",
    "    for query_color in query_colors:\n",
    "        query_color = normalize_L2(np.array([query_color]))  # Normalisation L2 avant recherche\n",
    "        D, I = index.search(query_color, k=20)  # Recherche FAISS\n",
    "        \n",
    "        # Convertir les distances en scores de similarité\n",
    "        scores = D[0]  # Les scores sont déjà entre -1 et 1\n",
    "        filtered_results = [(I[0][i], scores[i]) for i in range(len(scores)) if scores[i] >= threshold]\n",
    "\n",
    "        matched_products = [product_ids[idx] for idx, score in filtered_results]\n",
    "        product_matches.extend(matched_products)\n",
    "\n",
    "    # Étape 4 : Agrégation des résultats\n",
    "    product_counts = Counter(product_matches)\n",
    "    sorted_products = sorted(product_counts.items(), key=lambda x: x[1], reverse=True)\n",
    "\n",
    "    return sorted_products[:k]\n"
   ]
  },
  {
   "cell_type": "code",
   "execution_count": 163,
   "metadata": {},
   "outputs": [
    {
     "name": "stdout",
     "output_type": "stream",
     "text": [
      "Produits recommandés :\n",
      "\n",
      "\n",
      " [('https://nestorevintage.fr/cdn/shop/files/6F63EA32-B320-4B16-93C0-ED31F37DE5E4.jpg?v=1730051143&width=2048', 1), ('https://wasted.fr/cdn/shop/files/pantalon-casper-acid-corduroy-952014.jpg?v=1721324562', 1), ('https://nestorevintage.fr/cdn/shop/files/C3A18182-357E-4551-8383-A9E57DD20141.jpg?v=1720365983&width=2048', 1), ('https://fr.sandro-paris.com/dw/image/v2/BCMW_PRD/on/demandware.static/-/Sites-master-catalog/default/dw06039427/images/packshot/Sandro_SFPOU00697-G023_F_P.jpg?sw=650&sh=650', 1), ('https://nestorevintage.fr/cdn/shop/files/IMG_05622_4b3d4fad-7021-4cc8-991a-fc508babefa2.jpg?v=1722790441&width=2048', 1)]\n"
     ]
    }
   ],
   "source": [
    "matched_products = match_similar_products_cosine(query_color, k=5, threshold=0.9)\n",
    "\n",
    "print(\"Produits recommandés :\\n\\n\\n\", matched_products)"
   ]
  },
  {
   "cell_type": "code",
   "execution_count": 164,
   "metadata": {},
   "outputs": [
    {
     "data": {
      "text/html": [
       "<div>\n",
       "<style scoped>\n",
       "    .dataframe tbody tr th:only-of-type {\n",
       "        vertical-align: middle;\n",
       "    }\n",
       "\n",
       "    .dataframe tbody tr th {\n",
       "        vertical-align: top;\n",
       "    }\n",
       "\n",
       "    .dataframe thead th {\n",
       "        text-align: right;\n",
       "    }\n",
       "</style>\n",
       "<table border=\"1\" class=\"dataframe\">\n",
       "  <thead>\n",
       "    <tr style=\"text-align: right;\">\n",
       "      <th></th>\n",
       "      <th>Photo produit 1</th>\n",
       "      <th>Photo produit 2</th>\n",
       "      <th>Nom produit</th>\n",
       "      <th>Lien achat</th>\n",
       "      <th>Catégorie produit</th>\n",
       "      <th>Genre</th>\n",
       "      <th>cielab_colors</th>\n",
       "    </tr>\n",
       "  </thead>\n",
       "  <tbody>\n",
       "    <tr>\n",
       "      <th>1711</th>\n",
       "      <td>https://nestorevintage.fr/cdn/shop/files/6F63E...</td>\n",
       "      <td>https://nestorevintage.fr/cdn/shop/files/E36A0...</td>\n",
       "      <td>Portefeuille MiuMiu</td>\n",
       "      <td>https://nestorevintage.fr/products/portefeuill...</td>\n",
       "      <td>Portefeuille</td>\n",
       "      <td>F</td>\n",
       "      <td>[47.84313725490196, 18.0, 16.0]</td>\n",
       "    </tr>\n",
       "    <tr>\n",
       "      <th>1712</th>\n",
       "      <td>https://nestorevintage.fr/cdn/shop/files/6F63E...</td>\n",
       "      <td>https://nestorevintage.fr/cdn/shop/files/E36A0...</td>\n",
       "      <td>Portefeuille MiuMiu</td>\n",
       "      <td>https://nestorevintage.fr/products/portefeuill...</td>\n",
       "      <td>Portefeuille</td>\n",
       "      <td>F</td>\n",
       "      <td>[30.58823529411765, 19.0, 20.0]</td>\n",
       "    </tr>\n",
       "  </tbody>\n",
       "</table>\n",
       "</div>"
      ],
      "text/plain": [
       "                                        Photo produit 1  \\\n",
       "1711  https://nestorevintage.fr/cdn/shop/files/6F63E...   \n",
       "1712  https://nestorevintage.fr/cdn/shop/files/6F63E...   \n",
       "\n",
       "                                       Photo produit 2          Nom produit   \\\n",
       "1711  https://nestorevintage.fr/cdn/shop/files/E36A0...  Portefeuille MiuMiu   \n",
       "1712  https://nestorevintage.fr/cdn/shop/files/E36A0...  Portefeuille MiuMiu   \n",
       "\n",
       "                                             Lien achat Catégorie produit  \\\n",
       "1711  https://nestorevintage.fr/products/portefeuill...      Portefeuille   \n",
       "1712  https://nestorevintage.fr/products/portefeuill...      Portefeuille   \n",
       "\n",
       "     Genre                    cielab_colors  \n",
       "1711     F  [47.84313725490196, 18.0, 16.0]  \n",
       "1712     F  [30.58823529411765, 19.0, 20.0]  "
      ]
     },
     "execution_count": 164,
     "metadata": {},
     "output_type": "execute_result"
    }
   ],
   "source": [
    "data[data[\"Photo produit 1\"]==\"https://nestorevintage.fr/cdn/shop/files/6F63EA32-B320-4B16-93C0-ED31F37DE5E4.jpg?v=1730051143&width=2048\"]"
   ]
  },
  {
   "cell_type": "code",
   "execution_count": 165,
   "metadata": {},
   "outputs": [],
   "source": [
    "import faiss\n",
    "import numpy as np\n",
    "\n",
    "# --------------------------------------\n",
    "# 1. Prepare Data for FAISS\n",
    "# --------------------------------------\n",
    "# Extract all color vectors as a numpy array\n",
    "all_colors = np.array(data[\"cielab_colors\"].tolist(), dtype=\"float32\")\n",
    "\n",
    "# Create a FAISS index (L2 distance for CIELAB)\n",
    "dim = 3 # L, a, b\n",
    "index = faiss.IndexFlatL2(dim)\n",
    "index.add(all_colors)\n"
   ]
  },
  {
   "cell_type": "code",
   "execution_count": 170,
   "metadata": {},
   "outputs": [],
   "source": [
    "# --------------------------------------\n",
    "# 2. Query Function\n",
    "# --------------------------------------\n",
    "def find_matching_products(query_colors, index, df, top_k=5):\n",
    "    query_colors = np.array(query_colors, dtype=\"float32\")\n",
    "    distances, indices = index.search(query_colors, top_k)\n",
    "\n",
    "    # Collect all matching product IDs and their distances\n",
    "    matches = []\n",
    "    for i, query in enumerate(query_colors):\n",
    "        for j in range(top_k):\n",
    "            product_id = df.iloc[indices[i][j]][\"Photo produit 1\"]\n",
    "            distance = distances[i][j]\n",
    "            matches.append((product_id, distance))\n",
    "\n",
    "    # Group by Product ID and keep the best (min) distance\n",
    "    product_distances = {}\n",
    "    for product_id, distance in matches:\n",
    "        if product_id not in product_distances or distance < product_distances[product_id]:\n",
    "            product_distances[product_id] = distance\n",
    "\n",
    "    # Sort products by distance\n",
    "    sorted_products = sorted(product_distances.items(), key=lambda x: x[1])\n",
    "    return sorted_products[:top_k]\n"
   ]
  },
  {
   "cell_type": "code",
   "execution_count": 171,
   "metadata": {},
   "outputs": [],
   "source": [
    "# --------------------------------------\n",
    "# 3. Example Usage\n",
    "# --------------------------------------\n",
    "# Input: Assume 2 dominant colors\n",
    "query_colors = query_color = [[63.921568627450974, -5.0, -17.0]] # Example CIELAB vectors\n",
    "matches = find_matching_products(query_colors, index, data, top_k=5)\n"
   ]
  },
  {
   "cell_type": "code",
   "execution_count": 172,
   "metadata": {},
   "outputs": [
    {
     "data": {
      "text/plain": [
       "[('https://wasted.fr/cdn/shop/files/varsity-jacket-prey-742723.jpg?v=1737390429',\n",
       "  np.float32(0.0)),\n",
       " ('https://ntmb.it/cdn/shop/products/jeans-baggy-reworked-blue-311475.jpg?v=1694471080&width=3000',\n",
       "  np.float32(7.8446774)),\n",
       " ('https://nestorevintage.fr/cdn/shop/files/055917A6-267F-48CA-87FE-973C1946E906.jpg?v=1725801192&width=2048',\n",
       "  np.float32(14.384086)),\n",
       " ('https://fr.sandro-paris.com/dw/image/v2/BCMW_PRD/on/demandware.static/-/Sites-master-catalog/default/dwcd63739a/images/packshot/Sandro_SHPBE00082-40_H_P.jpg?sw=650&sh=650',\n",
       "  np.float32(16.153788)),\n",
       " ('https://nestorevintage.fr/cdn/shop/files/IMG_23132.jpg?v=1715529282&width=2048',\n",
       "  np.float32(18.384087))]"
      ]
     },
     "execution_count": 172,
     "metadata": {},
     "output_type": "execute_result"
    }
   ],
   "source": [
    "matches"
   ]
  },
  {
   "cell_type": "code",
   "execution_count": 173,
   "metadata": {},
   "outputs": [],
   "source": [
    "from sklearn.neighbors import NearestNeighbors"
   ]
  },
  {
   "cell_type": "code",
   "execution_count": 174,
   "metadata": {},
   "outputs": [],
   "source": [
    "nn=NearestNeighbors(n_neighbors=5,metric=\"euclidean\")"
   ]
  },
  {
   "cell_type": "code",
   "execution_count": 175,
   "metadata": {},
   "outputs": [
    {
     "data": {
      "text/html": [
       "<style>#sk-container-id-1 {\n",
       "  /* Definition of color scheme common for light and dark mode */\n",
       "  --sklearn-color-text: #000;\n",
       "  --sklearn-color-text-muted: #666;\n",
       "  --sklearn-color-line: gray;\n",
       "  /* Definition of color scheme for unfitted estimators */\n",
       "  --sklearn-color-unfitted-level-0: #fff5e6;\n",
       "  --sklearn-color-unfitted-level-1: #f6e4d2;\n",
       "  --sklearn-color-unfitted-level-2: #ffe0b3;\n",
       "  --sklearn-color-unfitted-level-3: chocolate;\n",
       "  /* Definition of color scheme for fitted estimators */\n",
       "  --sklearn-color-fitted-level-0: #f0f8ff;\n",
       "  --sklearn-color-fitted-level-1: #d4ebff;\n",
       "  --sklearn-color-fitted-level-2: #b3dbfd;\n",
       "  --sklearn-color-fitted-level-3: cornflowerblue;\n",
       "\n",
       "  /* Specific color for light theme */\n",
       "  --sklearn-color-text-on-default-background: var(--sg-text-color, var(--theme-code-foreground, var(--jp-content-font-color1, black)));\n",
       "  --sklearn-color-background: var(--sg-background-color, var(--theme-background, var(--jp-layout-color0, white)));\n",
       "  --sklearn-color-border-box: var(--sg-text-color, var(--theme-code-foreground, var(--jp-content-font-color1, black)));\n",
       "  --sklearn-color-icon: #696969;\n",
       "\n",
       "  @media (prefers-color-scheme: dark) {\n",
       "    /* Redefinition of color scheme for dark theme */\n",
       "    --sklearn-color-text-on-default-background: var(--sg-text-color, var(--theme-code-foreground, var(--jp-content-font-color1, white)));\n",
       "    --sklearn-color-background: var(--sg-background-color, var(--theme-background, var(--jp-layout-color0, #111)));\n",
       "    --sklearn-color-border-box: var(--sg-text-color, var(--theme-code-foreground, var(--jp-content-font-color1, white)));\n",
       "    --sklearn-color-icon: #878787;\n",
       "  }\n",
       "}\n",
       "\n",
       "#sk-container-id-1 {\n",
       "  color: var(--sklearn-color-text);\n",
       "}\n",
       "\n",
       "#sk-container-id-1 pre {\n",
       "  padding: 0;\n",
       "}\n",
       "\n",
       "#sk-container-id-1 input.sk-hidden--visually {\n",
       "  border: 0;\n",
       "  clip: rect(1px 1px 1px 1px);\n",
       "  clip: rect(1px, 1px, 1px, 1px);\n",
       "  height: 1px;\n",
       "  margin: -1px;\n",
       "  overflow: hidden;\n",
       "  padding: 0;\n",
       "  position: absolute;\n",
       "  width: 1px;\n",
       "}\n",
       "\n",
       "#sk-container-id-1 div.sk-dashed-wrapped {\n",
       "  border: 1px dashed var(--sklearn-color-line);\n",
       "  margin: 0 0.4em 0.5em 0.4em;\n",
       "  box-sizing: border-box;\n",
       "  padding-bottom: 0.4em;\n",
       "  background-color: var(--sklearn-color-background);\n",
       "}\n",
       "\n",
       "#sk-container-id-1 div.sk-container {\n",
       "  /* jupyter's `normalize.less` sets `[hidden] { display: none; }`\n",
       "     but bootstrap.min.css set `[hidden] { display: none !important; }`\n",
       "     so we also need the `!important` here to be able to override the\n",
       "     default hidden behavior on the sphinx rendered scikit-learn.org.\n",
       "     See: https://github.com/scikit-learn/scikit-learn/issues/21755 */\n",
       "  display: inline-block !important;\n",
       "  position: relative;\n",
       "}\n",
       "\n",
       "#sk-container-id-1 div.sk-text-repr-fallback {\n",
       "  display: none;\n",
       "}\n",
       "\n",
       "div.sk-parallel-item,\n",
       "div.sk-serial,\n",
       "div.sk-item {\n",
       "  /* draw centered vertical line to link estimators */\n",
       "  background-image: linear-gradient(var(--sklearn-color-text-on-default-background), var(--sklearn-color-text-on-default-background));\n",
       "  background-size: 2px 100%;\n",
       "  background-repeat: no-repeat;\n",
       "  background-position: center center;\n",
       "}\n",
       "\n",
       "/* Parallel-specific style estimator block */\n",
       "\n",
       "#sk-container-id-1 div.sk-parallel-item::after {\n",
       "  content: \"\";\n",
       "  width: 100%;\n",
       "  border-bottom: 2px solid var(--sklearn-color-text-on-default-background);\n",
       "  flex-grow: 1;\n",
       "}\n",
       "\n",
       "#sk-container-id-1 div.sk-parallel {\n",
       "  display: flex;\n",
       "  align-items: stretch;\n",
       "  justify-content: center;\n",
       "  background-color: var(--sklearn-color-background);\n",
       "  position: relative;\n",
       "}\n",
       "\n",
       "#sk-container-id-1 div.sk-parallel-item {\n",
       "  display: flex;\n",
       "  flex-direction: column;\n",
       "}\n",
       "\n",
       "#sk-container-id-1 div.sk-parallel-item:first-child::after {\n",
       "  align-self: flex-end;\n",
       "  width: 50%;\n",
       "}\n",
       "\n",
       "#sk-container-id-1 div.sk-parallel-item:last-child::after {\n",
       "  align-self: flex-start;\n",
       "  width: 50%;\n",
       "}\n",
       "\n",
       "#sk-container-id-1 div.sk-parallel-item:only-child::after {\n",
       "  width: 0;\n",
       "}\n",
       "\n",
       "/* Serial-specific style estimator block */\n",
       "\n",
       "#sk-container-id-1 div.sk-serial {\n",
       "  display: flex;\n",
       "  flex-direction: column;\n",
       "  align-items: center;\n",
       "  background-color: var(--sklearn-color-background);\n",
       "  padding-right: 1em;\n",
       "  padding-left: 1em;\n",
       "}\n",
       "\n",
       "\n",
       "/* Toggleable style: style used for estimator/Pipeline/ColumnTransformer box that is\n",
       "clickable and can be expanded/collapsed.\n",
       "- Pipeline and ColumnTransformer use this feature and define the default style\n",
       "- Estimators will overwrite some part of the style using the `sk-estimator` class\n",
       "*/\n",
       "\n",
       "/* Pipeline and ColumnTransformer style (default) */\n",
       "\n",
       "#sk-container-id-1 div.sk-toggleable {\n",
       "  /* Default theme specific background. It is overwritten whether we have a\n",
       "  specific estimator or a Pipeline/ColumnTransformer */\n",
       "  background-color: var(--sklearn-color-background);\n",
       "}\n",
       "\n",
       "/* Toggleable label */\n",
       "#sk-container-id-1 label.sk-toggleable__label {\n",
       "  cursor: pointer;\n",
       "  display: flex;\n",
       "  width: 100%;\n",
       "  margin-bottom: 0;\n",
       "  padding: 0.5em;\n",
       "  box-sizing: border-box;\n",
       "  text-align: center;\n",
       "  align-items: start;\n",
       "  justify-content: space-between;\n",
       "  gap: 0.5em;\n",
       "}\n",
       "\n",
       "#sk-container-id-1 label.sk-toggleable__label .caption {\n",
       "  font-size: 0.6rem;\n",
       "  font-weight: lighter;\n",
       "  color: var(--sklearn-color-text-muted);\n",
       "}\n",
       "\n",
       "#sk-container-id-1 label.sk-toggleable__label-arrow:before {\n",
       "  /* Arrow on the left of the label */\n",
       "  content: \"▸\";\n",
       "  float: left;\n",
       "  margin-right: 0.25em;\n",
       "  color: var(--sklearn-color-icon);\n",
       "}\n",
       "\n",
       "#sk-container-id-1 label.sk-toggleable__label-arrow:hover:before {\n",
       "  color: var(--sklearn-color-text);\n",
       "}\n",
       "\n",
       "/* Toggleable content - dropdown */\n",
       "\n",
       "#sk-container-id-1 div.sk-toggleable__content {\n",
       "  max-height: 0;\n",
       "  max-width: 0;\n",
       "  overflow: hidden;\n",
       "  text-align: left;\n",
       "  /* unfitted */\n",
       "  background-color: var(--sklearn-color-unfitted-level-0);\n",
       "}\n",
       "\n",
       "#sk-container-id-1 div.sk-toggleable__content.fitted {\n",
       "  /* fitted */\n",
       "  background-color: var(--sklearn-color-fitted-level-0);\n",
       "}\n",
       "\n",
       "#sk-container-id-1 div.sk-toggleable__content pre {\n",
       "  margin: 0.2em;\n",
       "  border-radius: 0.25em;\n",
       "  color: var(--sklearn-color-text);\n",
       "  /* unfitted */\n",
       "  background-color: var(--sklearn-color-unfitted-level-0);\n",
       "}\n",
       "\n",
       "#sk-container-id-1 div.sk-toggleable__content.fitted pre {\n",
       "  /* unfitted */\n",
       "  background-color: var(--sklearn-color-fitted-level-0);\n",
       "}\n",
       "\n",
       "#sk-container-id-1 input.sk-toggleable__control:checked~div.sk-toggleable__content {\n",
       "  /* Expand drop-down */\n",
       "  max-height: 200px;\n",
       "  max-width: 100%;\n",
       "  overflow: auto;\n",
       "}\n",
       "\n",
       "#sk-container-id-1 input.sk-toggleable__control:checked~label.sk-toggleable__label-arrow:before {\n",
       "  content: \"▾\";\n",
       "}\n",
       "\n",
       "/* Pipeline/ColumnTransformer-specific style */\n",
       "\n",
       "#sk-container-id-1 div.sk-label input.sk-toggleable__control:checked~label.sk-toggleable__label {\n",
       "  color: var(--sklearn-color-text);\n",
       "  background-color: var(--sklearn-color-unfitted-level-2);\n",
       "}\n",
       "\n",
       "#sk-container-id-1 div.sk-label.fitted input.sk-toggleable__control:checked~label.sk-toggleable__label {\n",
       "  background-color: var(--sklearn-color-fitted-level-2);\n",
       "}\n",
       "\n",
       "/* Estimator-specific style */\n",
       "\n",
       "/* Colorize estimator box */\n",
       "#sk-container-id-1 div.sk-estimator input.sk-toggleable__control:checked~label.sk-toggleable__label {\n",
       "  /* unfitted */\n",
       "  background-color: var(--sklearn-color-unfitted-level-2);\n",
       "}\n",
       "\n",
       "#sk-container-id-1 div.sk-estimator.fitted input.sk-toggleable__control:checked~label.sk-toggleable__label {\n",
       "  /* fitted */\n",
       "  background-color: var(--sklearn-color-fitted-level-2);\n",
       "}\n",
       "\n",
       "#sk-container-id-1 div.sk-label label.sk-toggleable__label,\n",
       "#sk-container-id-1 div.sk-label label {\n",
       "  /* The background is the default theme color */\n",
       "  color: var(--sklearn-color-text-on-default-background);\n",
       "}\n",
       "\n",
       "/* On hover, darken the color of the background */\n",
       "#sk-container-id-1 div.sk-label:hover label.sk-toggleable__label {\n",
       "  color: var(--sklearn-color-text);\n",
       "  background-color: var(--sklearn-color-unfitted-level-2);\n",
       "}\n",
       "\n",
       "/* Label box, darken color on hover, fitted */\n",
       "#sk-container-id-1 div.sk-label.fitted:hover label.sk-toggleable__label.fitted {\n",
       "  color: var(--sklearn-color-text);\n",
       "  background-color: var(--sklearn-color-fitted-level-2);\n",
       "}\n",
       "\n",
       "/* Estimator label */\n",
       "\n",
       "#sk-container-id-1 div.sk-label label {\n",
       "  font-family: monospace;\n",
       "  font-weight: bold;\n",
       "  display: inline-block;\n",
       "  line-height: 1.2em;\n",
       "}\n",
       "\n",
       "#sk-container-id-1 div.sk-label-container {\n",
       "  text-align: center;\n",
       "}\n",
       "\n",
       "/* Estimator-specific */\n",
       "#sk-container-id-1 div.sk-estimator {\n",
       "  font-family: monospace;\n",
       "  border: 1px dotted var(--sklearn-color-border-box);\n",
       "  border-radius: 0.25em;\n",
       "  box-sizing: border-box;\n",
       "  margin-bottom: 0.5em;\n",
       "  /* unfitted */\n",
       "  background-color: var(--sklearn-color-unfitted-level-0);\n",
       "}\n",
       "\n",
       "#sk-container-id-1 div.sk-estimator.fitted {\n",
       "  /* fitted */\n",
       "  background-color: var(--sklearn-color-fitted-level-0);\n",
       "}\n",
       "\n",
       "/* on hover */\n",
       "#sk-container-id-1 div.sk-estimator:hover {\n",
       "  /* unfitted */\n",
       "  background-color: var(--sklearn-color-unfitted-level-2);\n",
       "}\n",
       "\n",
       "#sk-container-id-1 div.sk-estimator.fitted:hover {\n",
       "  /* fitted */\n",
       "  background-color: var(--sklearn-color-fitted-level-2);\n",
       "}\n",
       "\n",
       "/* Specification for estimator info (e.g. \"i\" and \"?\") */\n",
       "\n",
       "/* Common style for \"i\" and \"?\" */\n",
       "\n",
       ".sk-estimator-doc-link,\n",
       "a:link.sk-estimator-doc-link,\n",
       "a:visited.sk-estimator-doc-link {\n",
       "  float: right;\n",
       "  font-size: smaller;\n",
       "  line-height: 1em;\n",
       "  font-family: monospace;\n",
       "  background-color: var(--sklearn-color-background);\n",
       "  border-radius: 1em;\n",
       "  height: 1em;\n",
       "  width: 1em;\n",
       "  text-decoration: none !important;\n",
       "  margin-left: 0.5em;\n",
       "  text-align: center;\n",
       "  /* unfitted */\n",
       "  border: var(--sklearn-color-unfitted-level-1) 1pt solid;\n",
       "  color: var(--sklearn-color-unfitted-level-1);\n",
       "}\n",
       "\n",
       ".sk-estimator-doc-link.fitted,\n",
       "a:link.sk-estimator-doc-link.fitted,\n",
       "a:visited.sk-estimator-doc-link.fitted {\n",
       "  /* fitted */\n",
       "  border: var(--sklearn-color-fitted-level-1) 1pt solid;\n",
       "  color: var(--sklearn-color-fitted-level-1);\n",
       "}\n",
       "\n",
       "/* On hover */\n",
       "div.sk-estimator:hover .sk-estimator-doc-link:hover,\n",
       ".sk-estimator-doc-link:hover,\n",
       "div.sk-label-container:hover .sk-estimator-doc-link:hover,\n",
       ".sk-estimator-doc-link:hover {\n",
       "  /* unfitted */\n",
       "  background-color: var(--sklearn-color-unfitted-level-3);\n",
       "  color: var(--sklearn-color-background);\n",
       "  text-decoration: none;\n",
       "}\n",
       "\n",
       "div.sk-estimator.fitted:hover .sk-estimator-doc-link.fitted:hover,\n",
       ".sk-estimator-doc-link.fitted:hover,\n",
       "div.sk-label-container:hover .sk-estimator-doc-link.fitted:hover,\n",
       ".sk-estimator-doc-link.fitted:hover {\n",
       "  /* fitted */\n",
       "  background-color: var(--sklearn-color-fitted-level-3);\n",
       "  color: var(--sklearn-color-background);\n",
       "  text-decoration: none;\n",
       "}\n",
       "\n",
       "/* Span, style for the box shown on hovering the info icon */\n",
       ".sk-estimator-doc-link span {\n",
       "  display: none;\n",
       "  z-index: 9999;\n",
       "  position: relative;\n",
       "  font-weight: normal;\n",
       "  right: .2ex;\n",
       "  padding: .5ex;\n",
       "  margin: .5ex;\n",
       "  width: min-content;\n",
       "  min-width: 20ex;\n",
       "  max-width: 50ex;\n",
       "  color: var(--sklearn-color-text);\n",
       "  box-shadow: 2pt 2pt 4pt #999;\n",
       "  /* unfitted */\n",
       "  background: var(--sklearn-color-unfitted-level-0);\n",
       "  border: .5pt solid var(--sklearn-color-unfitted-level-3);\n",
       "}\n",
       "\n",
       ".sk-estimator-doc-link.fitted span {\n",
       "  /* fitted */\n",
       "  background: var(--sklearn-color-fitted-level-0);\n",
       "  border: var(--sklearn-color-fitted-level-3);\n",
       "}\n",
       "\n",
       ".sk-estimator-doc-link:hover span {\n",
       "  display: block;\n",
       "}\n",
       "\n",
       "/* \"?\"-specific style due to the `<a>` HTML tag */\n",
       "\n",
       "#sk-container-id-1 a.estimator_doc_link {\n",
       "  float: right;\n",
       "  font-size: 1rem;\n",
       "  line-height: 1em;\n",
       "  font-family: monospace;\n",
       "  background-color: var(--sklearn-color-background);\n",
       "  border-radius: 1rem;\n",
       "  height: 1rem;\n",
       "  width: 1rem;\n",
       "  text-decoration: none;\n",
       "  /* unfitted */\n",
       "  color: var(--sklearn-color-unfitted-level-1);\n",
       "  border: var(--sklearn-color-unfitted-level-1) 1pt solid;\n",
       "}\n",
       "\n",
       "#sk-container-id-1 a.estimator_doc_link.fitted {\n",
       "  /* fitted */\n",
       "  border: var(--sklearn-color-fitted-level-1) 1pt solid;\n",
       "  color: var(--sklearn-color-fitted-level-1);\n",
       "}\n",
       "\n",
       "/* On hover */\n",
       "#sk-container-id-1 a.estimator_doc_link:hover {\n",
       "  /* unfitted */\n",
       "  background-color: var(--sklearn-color-unfitted-level-3);\n",
       "  color: var(--sklearn-color-background);\n",
       "  text-decoration: none;\n",
       "}\n",
       "\n",
       "#sk-container-id-1 a.estimator_doc_link.fitted:hover {\n",
       "  /* fitted */\n",
       "  background-color: var(--sklearn-color-fitted-level-3);\n",
       "}\n",
       "</style><div id=\"sk-container-id-1\" class=\"sk-top-container\"><div class=\"sk-text-repr-fallback\"><pre>NearestNeighbors(metric=&#x27;euclidean&#x27;)</pre><b>In a Jupyter environment, please rerun this cell to show the HTML representation or trust the notebook. <br />On GitHub, the HTML representation is unable to render, please try loading this page with nbviewer.org.</b></div><div class=\"sk-container\" hidden><div class=\"sk-item\"><div class=\"sk-estimator fitted sk-toggleable\"><input class=\"sk-toggleable__control sk-hidden--visually\" id=\"sk-estimator-id-1\" type=\"checkbox\" checked><label for=\"sk-estimator-id-1\" class=\"sk-toggleable__label fitted sk-toggleable__label-arrow\"><div><div>NearestNeighbors</div></div><div><a class=\"sk-estimator-doc-link fitted\" rel=\"noreferrer\" target=\"_blank\" href=\"https://scikit-learn.org/1.6/modules/generated/sklearn.neighbors.NearestNeighbors.html\">?<span>Documentation for NearestNeighbors</span></a><span class=\"sk-estimator-doc-link fitted\">i<span>Fitted</span></span></div></label><div class=\"sk-toggleable__content fitted\"><pre>NearestNeighbors(metric=&#x27;euclidean&#x27;)</pre></div> </div></div></div></div>"
      ],
      "text/plain": [
       "NearestNeighbors(metric='euclidean')"
      ]
     },
     "execution_count": 175,
     "metadata": {},
     "output_type": "execute_result"
    }
   ],
   "source": [
    "nn.fit(all_colors)"
   ]
  },
  {
   "cell_type": "code",
   "execution_count": 179,
   "metadata": {},
   "outputs": [],
   "source": [
    "def find_matching_products_nn(query_colors, nn_model, df, top_k=5):\n",
    "    query_colors = np.array(query_colors, dtype=\"float32\")\n",
    "    distances, indices = nn_model.kneighbors(query_colors)\n",
    "\n",
    "    # Collect all matching product IDs and their distances\n",
    "    matches = []\n",
    "    for i, query in enumerate(query_colors):\n",
    "        for j in range(top_k):\n",
    "            product_id = df.iloc[indices[i][j]][\"Photo produit 1\"]\n",
    "            distance = distances[i][j]\n",
    "            matches.append((product_id, distance))\n",
    "\n",
    "    # Group by Product ID and keep the best (min) distance\n",
    "    product_distances = {}\n",
    "    for product_id, distance in matches:\n",
    "        if product_id not in product_distances or distance < product_distances[product_id]:\n",
    "            product_distances[product_id] = distance\n",
    "\n",
    "    # Sort products by distance\n",
    "    sorted_products = sorted(product_distances.items(), key=lambda x: x[1])\n",
    "    return sorted_products[:top_k]\n"
   ]
  },
  {
   "cell_type": "code",
   "execution_count": 185,
   "metadata": {},
   "outputs": [],
   "source": [
    "query_colors = query_color = [[83.13725490196079, 0.0, 0.0], [70.58823529411765, 0.0, 0.0]] # Example CIELAB vectors\n",
    "matches = find_matching_products(query_colors, index, data, top_k=5)"
   ]
  },
  {
   "cell_type": "code",
   "execution_count": 186,
   "metadata": {},
   "outputs": [
    {
     "data": {
      "text/plain": [
       "[('https://wasted.fr/cdn/shop/files/crewneck-negative-617699_2048x2048.jpg?v=1712661665',\n",
       "  np.float32(0.0)),\n",
       " ('https://wasted.fr/cdn/shop/products/jean-casper-snow-feeler-762622.jpg?v=1706147807',\n",
       "  np.float32(0.0)),\n",
       " ('https://wasted.fr/cdn/shop/files/t-shirt-united-930779_2048x2048.jpg?v=1730548101',\n",
       "  np.float32(0.1537883)),\n",
       " ('https://wasted.fr/cdn/shop/products/hoodie-zip-crown-pitcher-736902_2048x2048.jpg?v=1689958848',\n",
       "  np.float32(0.1537883)),\n",
       " ('https://wasted.fr/cdn/shop/files/jean-casper-signature-610785.jpg?v=1737390239',\n",
       "  np.float32(0.1537883))]"
      ]
     },
     "execution_count": 186,
     "metadata": {},
     "output_type": "execute_result"
    }
   ],
   "source": [
    "matches"
   ]
  },
  {
   "cell_type": "code",
   "execution_count": 187,
   "metadata": {},
   "outputs": [
    {
     "name": "stderr",
     "output_type": "stream",
     "text": [
      "C:\\Users\\BahaARFAOUI\\AppData\\Local\\Temp\\ipykernel_15116\\271524657.py:1: FutureWarning: Series.__getitem__ treating keys as positions is deprecated. In a future version, integer keys will always be treated as labels (consistent with DataFrame behavior). To access a value by position, use `ser.iloc[pos]`\n",
      "  dataset.iloc[140,][0]\n"
     ]
    },
    {
     "data": {
      "text/plain": [
       "'https://wasted.fr/cdn/shop/products/jean-casper-snow-feeler-762622.jpg?v=1706147807'"
      ]
     },
     "execution_count": 187,
     "metadata": {},
     "output_type": "execute_result"
    }
   ],
   "source": [
    "dataset.iloc[140,][0]"
   ]
  },
  {
   "cell_type": "code",
   "execution_count": null,
   "metadata": {},
   "outputs": [],
   "source": []
  }
 ],
 "metadata": {
  "kernelspec": {
   "display_name": "clothes",
   "language": "python",
   "name": "python3"
  },
  "language_info": {
   "codemirror_mode": {
    "name": "ipython",
    "version": 3
   },
   "file_extension": ".py",
   "mimetype": "text/x-python",
   "name": "python",
   "nbconvert_exporter": "python",
   "pygments_lexer": "ipython3",
   "version": "3.11.11"
  }
 },
 "nbformat": 4,
 "nbformat_minor": 2
}
